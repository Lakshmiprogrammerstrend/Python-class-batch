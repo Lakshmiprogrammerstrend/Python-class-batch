{
  "nbformat": 4,
  "nbformat_minor": 0,
  "metadata": {
    "colab": {
      "provenance": []
    },
    "kernelspec": {
      "name": "python3",
      "display_name": "Python 3"
    },
    "language_info": {
      "name": "python"
    }
  },
  "cells": [
    {
      "cell_type": "code",
      "execution_count": 1,
      "metadata": {
        "colab": {
          "base_uri": "https://localhost:8080/"
        },
        "id": "ugAMj2roLI_9",
        "outputId": "007918fa-0ac2-4809-ee69-570cc45fc555"
      },
      "outputs": [
        {
          "output_type": "stream",
          "name": "stdout",
          "text": [
            "Requirement already satisfied: pandas in /usr/local/lib/python3.10/dist-packages (1.5.3)\n",
            "Requirement already satisfied: python-dateutil>=2.8.1 in /usr/local/lib/python3.10/dist-packages (from pandas) (2.8.2)\n",
            "Requirement already satisfied: pytz>=2020.1 in /usr/local/lib/python3.10/dist-packages (from pandas) (2023.3.post1)\n",
            "Requirement already satisfied: numpy>=1.21.0 in /usr/local/lib/python3.10/dist-packages (from pandas) (1.23.5)\n",
            "Requirement already satisfied: six>=1.5 in /usr/local/lib/python3.10/dist-packages (from python-dateutil>=2.8.1->pandas) (1.16.0)\n"
          ]
        }
      ],
      "source": [
        "! pip install pandas"
      ]
    },
    {
      "cell_type": "code",
      "source": [
        "import pandas as pd\n",
        "print(pd.__version__)"
      ],
      "metadata": {
        "colab": {
          "base_uri": "https://localhost:8080/"
        },
        "id": "pn66rg8UM4_F",
        "outputId": "f5a85575-4e10-4c34-a069-0e383b7163ba"
      },
      "execution_count": 2,
      "outputs": [
        {
          "output_type": "stream",
          "name": "stdout",
          "text": [
            "1.5.3\n"
          ]
        }
      ]
    },
    {
      "cell_type": "code",
      "source": [
        "a = [1,2,3]\n",
        "var = pd.Series(a)\n",
        "print(var)\n"
      ],
      "metadata": {
        "colab": {
          "base_uri": "https://localhost:8080/"
        },
        "id": "S4u9fB4nNTpn",
        "outputId": "e8550832-4f3c-472b-a5d9-8e33b49b4ebb"
      },
      "execution_count": 3,
      "outputs": [
        {
          "output_type": "stream",
          "name": "stdout",
          "text": [
            "0    1\n",
            "1    2\n",
            "2    3\n",
            "dtype: int64\n"
          ]
        }
      ]
    },
    {
      "cell_type": "code",
      "source": [
        "print(var[0])"
      ],
      "metadata": {
        "colab": {
          "base_uri": "https://localhost:8080/"
        },
        "id": "4HC_Ntj4Nme8",
        "outputId": "226c431e-2c7e-47c4-9d0b-74075bbab245"
      },
      "execution_count": 4,
      "outputs": [
        {
          "output_type": "stream",
          "name": "stdout",
          "text": [
            "1\n"
          ]
        }
      ]
    },
    {
      "cell_type": "code",
      "source": [
        "a = [1,2,3]\n",
        "var = pd.Series(a,index = [\"x\",\"y\",\"z\"])\n",
        "print(var)\n"
      ],
      "metadata": {
        "colab": {
          "base_uri": "https://localhost:8080/"
        },
        "id": "TcjK3F1aN3oA",
        "outputId": "06c490a8-7fa7-4d78-ea2e-a5e1556794fa"
      },
      "execution_count": 5,
      "outputs": [
        {
          "output_type": "stream",
          "name": "stdout",
          "text": [
            "x    1\n",
            "y    2\n",
            "z    3\n",
            "dtype: int64\n"
          ]
        }
      ]
    },
    {
      "cell_type": "code",
      "source": [
        "print(var[\"z\"])"
      ],
      "metadata": {
        "colab": {
          "base_uri": "https://localhost:8080/"
        },
        "id": "is1KvyrJOIfl",
        "outputId": "18c88f32-6f88-4db6-9710-946346a53818"
      },
      "execution_count": 7,
      "outputs": [
        {
          "output_type": "stream",
          "name": "stdout",
          "text": [
            "3\n"
          ]
        }
      ]
    },
    {
      "cell_type": "code",
      "source": [
        "calories = {\"day1\":420.3,\"day2\":360,\"day3\":350.3}\n",
        "\n",
        "var = pd.Series(calories)\n",
        "print(var)"
      ],
      "metadata": {
        "colab": {
          "base_uri": "https://localhost:8080/"
        },
        "id": "nW9ypeyUOQae",
        "outputId": "5949868d-bce2-4ca2-ad28-e9888c58489c"
      },
      "execution_count": 11,
      "outputs": [
        {
          "output_type": "stream",
          "name": "stdout",
          "text": [
            "day1    420.3\n",
            "day2    360.0\n",
            "day3    350.3\n",
            "dtype: float64\n"
          ]
        }
      ]
    },
    {
      "cell_type": "code",
      "source": [
        "print(var[\"day3\"])"
      ],
      "metadata": {
        "colab": {
          "base_uri": "https://localhost:8080/"
        },
        "id": "2PkNFFJEOwAC",
        "outputId": "023b5164-7289-4458-ad56-b7ff174871c9"
      },
      "execution_count": 9,
      "outputs": [
        {
          "output_type": "stream",
          "name": "stdout",
          "text": [
            "350\n"
          ]
        }
      ]
    },
    {
      "cell_type": "code",
      "source": [
        "data = {\n",
        "        \"calories\":[420,350,390],\n",
        "        \"duration\":[50,40,45]\n",
        "        }\n",
        "\n",
        "df = pd.DataFrame(data)\n",
        "\n",
        "print(df)"
      ],
      "metadata": {
        "colab": {
          "base_uri": "https://localhost:8080/"
        },
        "id": "2l5rWtaOO6Fz",
        "outputId": "e92e3e41-9f4b-4343-ec9b-b48b5cc04658"
      },
      "execution_count": 13,
      "outputs": [
        {
          "output_type": "stream",
          "name": "stdout",
          "text": [
            "   calories  duration\n",
            "0       420        50\n",
            "1       350        40\n",
            "2       390        45\n"
          ]
        }
      ]
    },
    {
      "cell_type": "code",
      "source": [
        "print(df.loc[0])"
      ],
      "metadata": {
        "colab": {
          "base_uri": "https://localhost:8080/"
        },
        "id": "eNyCmF8MQffL",
        "outputId": "26463ed5-adba-4945-f03e-2e33fde8a74a"
      },
      "execution_count": 14,
      "outputs": [
        {
          "output_type": "stream",
          "name": "stdout",
          "text": [
            "calories    420\n",
            "duration     50\n",
            "Name: 0, dtype: int64\n"
          ]
        }
      ]
    },
    {
      "cell_type": "code",
      "source": [
        "print(df.loc[[0,1]])"
      ],
      "metadata": {
        "colab": {
          "base_uri": "https://localhost:8080/"
        },
        "id": "GVP5WlbUQvVM",
        "outputId": "27d19aea-85d6-4ef4-f61e-0001f86407d1"
      },
      "execution_count": 16,
      "outputs": [
        {
          "output_type": "stream",
          "name": "stdout",
          "text": [
            "   calories  duration\n",
            "0       420        50\n",
            "1       350        40\n"
          ]
        }
      ]
    },
    {
      "cell_type": "code",
      "source": [
        "data = {\n",
        "        \"calories\":[420,350,390],\n",
        "        \"duration\":[50,40,45]\n",
        "        }\n",
        "\n",
        "df = pd.DataFrame(data,index = [\"x\",\"y\",\"z\"])\n",
        "\n",
        "print(df)"
      ],
      "metadata": {
        "colab": {
          "base_uri": "https://localhost:8080/"
        },
        "id": "XKGq_xwiQ3tK",
        "outputId": "00b03b4a-a986-4ae5-c2d0-1d4cb7565119"
      },
      "execution_count": 17,
      "outputs": [
        {
          "output_type": "stream",
          "name": "stdout",
          "text": [
            "   calories  duration\n",
            "x       420        50\n",
            "y       350        40\n",
            "z       390        45\n"
          ]
        }
      ]
    },
    {
      "cell_type": "code",
      "source": [
        "print(df.loc[\"y\"])"
      ],
      "metadata": {
        "colab": {
          "base_uri": "https://localhost:8080/"
        },
        "id": "3eooRz9QRLRx",
        "outputId": "be18a052-fb23-4e37-cf5e-9d78589a5bd4"
      },
      "execution_count": 18,
      "outputs": [
        {
          "output_type": "stream",
          "name": "stdout",
          "text": [
            "calories    350\n",
            "duration     40\n",
            "Name: y, dtype: int64\n"
          ]
        }
      ]
    },
    {
      "cell_type": "code",
      "source": [
        "df = pd.read_csv('/content/data.csv')\n",
        "print(df.to_string())"
      ],
      "metadata": {
        "colab": {
          "base_uri": "https://localhost:8080/"
        },
        "id": "rtJLkL2ERTPC",
        "outputId": "ae55398a-4715-4064-8b6b-b44074c74d2d"
      },
      "execution_count": 19,
      "outputs": [
        {
          "output_type": "stream",
          "name": "stdout",
          "text": [
            "     Duration  Pulse  Maxpulse  Calories\n",
            "0          60    110       130     409.1\n",
            "1          60    117       145     479.0\n",
            "2          60    103       135     340.0\n",
            "3          45    109       175     282.4\n",
            "4          45    117       148     406.0\n",
            "5          60    102       127     300.5\n",
            "6          60    110       136     374.0\n",
            "7          45    104       134     253.3\n",
            "8          30    109       133     195.1\n",
            "9          60     98       124     269.0\n",
            "10         60    103       147     329.3\n",
            "11         60    100       120     250.7\n",
            "12         60    106       128     345.3\n",
            "13         60    104       132     379.3\n",
            "14         60     98       123     275.0\n",
            "15         60     98       120     215.2\n",
            "16         60    100       120     300.0\n",
            "17         45     90       112       NaN\n",
            "18         60    103       123     323.0\n",
            "19         45     97       125     243.0\n",
            "20         60    108       131     364.2\n",
            "21         45    100       119     282.0\n",
            "22         60    130       101     300.0\n",
            "23         45    105       132     246.0\n",
            "24         60    102       126     334.5\n",
            "25         60    100       120     250.0\n",
            "26         60     92       118     241.0\n",
            "27         60    103       132       NaN\n",
            "28         60    100       132     280.0\n",
            "29         60    102       129     380.3\n",
            "30         60     92       115     243.0\n",
            "31         45     90       112     180.1\n",
            "32         60    101       124     299.0\n",
            "33         60     93       113     223.0\n",
            "34         60    107       136     361.0\n",
            "35         60    114       140     415.0\n",
            "36         60    102       127     300.5\n",
            "37         60    100       120     300.1\n",
            "38         60    100       120     300.0\n",
            "39         45    104       129     266.0\n",
            "40         45     90       112     180.1\n",
            "41         60     98       126     286.0\n",
            "42         60    100       122     329.4\n",
            "43         60    111       138     400.0\n",
            "44         60    111       131     397.0\n",
            "45         60     99       119     273.0\n",
            "46         60    109       153     387.6\n",
            "47         45    111       136     300.0\n",
            "48         45    108       129     298.0\n",
            "49         60    111       139     397.6\n",
            "50         60    107       136     380.2\n",
            "51         80    123       146     643.1\n",
            "52         60    106       130     263.0\n",
            "53         60    118       151     486.0\n",
            "54         30    136       175     238.0\n",
            "55         60    121       146     450.7\n",
            "56         60    118       121     413.0\n",
            "57         45    115       144     305.0\n",
            "58         20    153       172     226.4\n",
            "59         45    123       152     321.0\n",
            "60        210    108       160    1376.0\n",
            "61        160    110       137    1034.4\n",
            "62        160    109       135     853.0\n",
            "63         45    118       141     341.0\n",
            "64         20    110       130     131.4\n",
            "65        180     90       130     800.4\n",
            "66        150    105       135     873.4\n",
            "67        150    107       130     816.0\n",
            "68         20    106       136     110.4\n",
            "69        300    108       143    1500.2\n",
            "70        150     97       129    1115.0\n",
            "71         60    109       153     387.6\n",
            "72         90    100       127     700.0\n",
            "73        150     97       127     953.2\n",
            "74         45    114       146     304.0\n",
            "75         90     98       125     563.2\n",
            "76         45    105       134     251.0\n",
            "77         45    110       141     300.0\n",
            "78        120    100       130     500.4\n",
            "79        270    100       131    1729.0\n",
            "80         30    159       182     319.2\n",
            "81         45    149       169     344.0\n",
            "82         30    103       139     151.1\n",
            "83        120    100       130     500.0\n",
            "84         45    100       120     225.3\n",
            "85         30    151       170     300.1\n",
            "86         45    102       136     234.0\n",
            "87        120    100       157    1000.1\n",
            "88         45    129       103     242.0\n",
            "89         20     83       107      50.3\n",
            "90        180    101       127     600.1\n",
            "91         45    107       137       NaN\n",
            "92         30     90       107     105.3\n",
            "93         15     80       100      50.5\n",
            "94         20    150       171     127.4\n",
            "95         20    151       168     229.4\n",
            "96         30     95       128     128.2\n",
            "97         25    152       168     244.2\n",
            "98         30    109       131     188.2\n",
            "99         90     93       124     604.1\n",
            "100        20     95       112      77.7\n",
            "101        90     90       110     500.0\n",
            "102        90     90       100     500.0\n",
            "103        90     90       100     500.4\n",
            "104        30     92       108      92.7\n",
            "105        30     93       128     124.0\n",
            "106       180     90       120     800.3\n",
            "107        30     90       120      86.2\n",
            "108        90     90       120     500.3\n",
            "109       210    137       184    1860.4\n",
            "110        60    102       124     325.2\n",
            "111        45    107       124     275.0\n",
            "112        15    124       139     124.2\n",
            "113        45    100       120     225.3\n",
            "114        60    108       131     367.6\n",
            "115        60    108       151     351.7\n",
            "116        60    116       141     443.0\n",
            "117        60     97       122     277.4\n",
            "118        60    105       125       NaN\n",
            "119        60    103       124     332.7\n",
            "120        30    112       137     193.9\n",
            "121        45    100       120     100.7\n",
            "122        60    119       169     336.7\n",
            "123        60    107       127     344.9\n",
            "124        60    111       151     368.5\n",
            "125        60     98       122     271.0\n",
            "126        60     97       124     275.3\n",
            "127        60    109       127     382.0\n",
            "128        90     99       125     466.4\n",
            "129        60    114       151     384.0\n",
            "130        60    104       134     342.5\n",
            "131        60    107       138     357.5\n",
            "132        60    103       133     335.0\n",
            "133        60    106       132     327.5\n",
            "134        60    103       136     339.0\n",
            "135        20    136       156     189.0\n",
            "136        45    117       143     317.7\n",
            "137        45    115       137     318.0\n",
            "138        45    113       138     308.0\n",
            "139        20    141       162     222.4\n",
            "140        60    108       135     390.0\n",
            "141        60     97       127       NaN\n",
            "142        45    100       120     250.4\n",
            "143        45    122       149     335.4\n",
            "144        60    136       170     470.2\n",
            "145        45    106       126     270.8\n",
            "146        60    107       136     400.0\n",
            "147        60    112       146     361.9\n",
            "148        30    103       127     185.0\n",
            "149        60    110       150     409.4\n",
            "150        60    106       134     343.0\n",
            "151        60    109       129     353.2\n",
            "152        60    109       138     374.0\n",
            "153        30    150       167     275.8\n",
            "154        60    105       128     328.0\n",
            "155        60    111       151     368.5\n",
            "156        60     97       131     270.4\n",
            "157        60    100       120     270.4\n",
            "158        60    114       150     382.8\n",
            "159        30     80       120     240.9\n",
            "160        30     85       120     250.4\n",
            "161        45     90       130     260.4\n",
            "162        45     95       130     270.0\n",
            "163        45    100       140     280.9\n",
            "164        60    105       140     290.8\n",
            "165        60    110       145     300.4\n",
            "166        60    115       145     310.2\n",
            "167        75    120       150     320.4\n",
            "168        75    125       150     330.4\n"
          ]
        }
      ]
    },
    {
      "cell_type": "code",
      "source": [
        "print(df)"
      ],
      "metadata": {
        "colab": {
          "base_uri": "https://localhost:8080/"
        },
        "id": "zauDc6zdSjml",
        "outputId": "6da0b13b-5981-4472-88df-42dafe0334fe"
      },
      "execution_count": 20,
      "outputs": [
        {
          "output_type": "stream",
          "name": "stdout",
          "text": [
            "     Duration  Pulse  Maxpulse  Calories\n",
            "0          60    110       130     409.1\n",
            "1          60    117       145     479.0\n",
            "2          60    103       135     340.0\n",
            "3          45    109       175     282.4\n",
            "4          45    117       148     406.0\n",
            "..        ...    ...       ...       ...\n",
            "164        60    105       140     290.8\n",
            "165        60    110       145     300.4\n",
            "166        60    115       145     310.2\n",
            "167        75    120       150     320.4\n",
            "168        75    125       150     330.4\n",
            "\n",
            "[169 rows x 4 columns]\n"
          ]
        }
      ]
    },
    {
      "cell_type": "code",
      "source": [
        "df.head()"
      ],
      "metadata": {
        "colab": {
          "base_uri": "https://localhost:8080/",
          "height": 206
        },
        "id": "1u2yovDNSyFr",
        "outputId": "ec77368b-9770-4f96-8871-04368c00eff0"
      },
      "execution_count": 21,
      "outputs": [
        {
          "output_type": "execute_result",
          "data": {
            "text/plain": [
              "   Duration  Pulse  Maxpulse  Calories\n",
              "0        60    110       130     409.1\n",
              "1        60    117       145     479.0\n",
              "2        60    103       135     340.0\n",
              "3        45    109       175     282.4\n",
              "4        45    117       148     406.0"
            ],
            "text/html": [
              "\n",
              "  <div id=\"df-ea9905b7-ce35-4c4f-8a98-d0bfbf8e588a\" class=\"colab-df-container\">\n",
              "    <div>\n",
              "<style scoped>\n",
              "    .dataframe tbody tr th:only-of-type {\n",
              "        vertical-align: middle;\n",
              "    }\n",
              "\n",
              "    .dataframe tbody tr th {\n",
              "        vertical-align: top;\n",
              "    }\n",
              "\n",
              "    .dataframe thead th {\n",
              "        text-align: right;\n",
              "    }\n",
              "</style>\n",
              "<table border=\"1\" class=\"dataframe\">\n",
              "  <thead>\n",
              "    <tr style=\"text-align: right;\">\n",
              "      <th></th>\n",
              "      <th>Duration</th>\n",
              "      <th>Pulse</th>\n",
              "      <th>Maxpulse</th>\n",
              "      <th>Calories</th>\n",
              "    </tr>\n",
              "  </thead>\n",
              "  <tbody>\n",
              "    <tr>\n",
              "      <th>0</th>\n",
              "      <td>60</td>\n",
              "      <td>110</td>\n",
              "      <td>130</td>\n",
              "      <td>409.1</td>\n",
              "    </tr>\n",
              "    <tr>\n",
              "      <th>1</th>\n",
              "      <td>60</td>\n",
              "      <td>117</td>\n",
              "      <td>145</td>\n",
              "      <td>479.0</td>\n",
              "    </tr>\n",
              "    <tr>\n",
              "      <th>2</th>\n",
              "      <td>60</td>\n",
              "      <td>103</td>\n",
              "      <td>135</td>\n",
              "      <td>340.0</td>\n",
              "    </tr>\n",
              "    <tr>\n",
              "      <th>3</th>\n",
              "      <td>45</td>\n",
              "      <td>109</td>\n",
              "      <td>175</td>\n",
              "      <td>282.4</td>\n",
              "    </tr>\n",
              "    <tr>\n",
              "      <th>4</th>\n",
              "      <td>45</td>\n",
              "      <td>117</td>\n",
              "      <td>148</td>\n",
              "      <td>406.0</td>\n",
              "    </tr>\n",
              "  </tbody>\n",
              "</table>\n",
              "</div>\n",
              "    <div class=\"colab-df-buttons\">\n",
              "\n",
              "  <div class=\"colab-df-container\">\n",
              "    <button class=\"colab-df-convert\" onclick=\"convertToInteractive('df-ea9905b7-ce35-4c4f-8a98-d0bfbf8e588a')\"\n",
              "            title=\"Convert this dataframe to an interactive table.\"\n",
              "            style=\"display:none;\">\n",
              "\n",
              "  <svg xmlns=\"http://www.w3.org/2000/svg\" height=\"24px\" viewBox=\"0 -960 960 960\">\n",
              "    <path d=\"M120-120v-720h720v720H120Zm60-500h600v-160H180v160Zm220 220h160v-160H400v160Zm0 220h160v-160H400v160ZM180-400h160v-160H180v160Zm440 0h160v-160H620v160ZM180-180h160v-160H180v160Zm440 0h160v-160H620v160Z\"/>\n",
              "  </svg>\n",
              "    </button>\n",
              "\n",
              "  <style>\n",
              "    .colab-df-container {\n",
              "      display:flex;\n",
              "      gap: 12px;\n",
              "    }\n",
              "\n",
              "    .colab-df-convert {\n",
              "      background-color: #E8F0FE;\n",
              "      border: none;\n",
              "      border-radius: 50%;\n",
              "      cursor: pointer;\n",
              "      display: none;\n",
              "      fill: #1967D2;\n",
              "      height: 32px;\n",
              "      padding: 0 0 0 0;\n",
              "      width: 32px;\n",
              "    }\n",
              "\n",
              "    .colab-df-convert:hover {\n",
              "      background-color: #E2EBFA;\n",
              "      box-shadow: 0px 1px 2px rgba(60, 64, 67, 0.3), 0px 1px 3px 1px rgba(60, 64, 67, 0.15);\n",
              "      fill: #174EA6;\n",
              "    }\n",
              "\n",
              "    .colab-df-buttons div {\n",
              "      margin-bottom: 4px;\n",
              "    }\n",
              "\n",
              "    [theme=dark] .colab-df-convert {\n",
              "      background-color: #3B4455;\n",
              "      fill: #D2E3FC;\n",
              "    }\n",
              "\n",
              "    [theme=dark] .colab-df-convert:hover {\n",
              "      background-color: #434B5C;\n",
              "      box-shadow: 0px 1px 3px 1px rgba(0, 0, 0, 0.15);\n",
              "      filter: drop-shadow(0px 1px 2px rgba(0, 0, 0, 0.3));\n",
              "      fill: #FFFFFF;\n",
              "    }\n",
              "  </style>\n",
              "\n",
              "    <script>\n",
              "      const buttonEl =\n",
              "        document.querySelector('#df-ea9905b7-ce35-4c4f-8a98-d0bfbf8e588a button.colab-df-convert');\n",
              "      buttonEl.style.display =\n",
              "        google.colab.kernel.accessAllowed ? 'block' : 'none';\n",
              "\n",
              "      async function convertToInteractive(key) {\n",
              "        const element = document.querySelector('#df-ea9905b7-ce35-4c4f-8a98-d0bfbf8e588a');\n",
              "        const dataTable =\n",
              "          await google.colab.kernel.invokeFunction('convertToInteractive',\n",
              "                                                    [key], {});\n",
              "        if (!dataTable) return;\n",
              "\n",
              "        const docLinkHtml = 'Like what you see? Visit the ' +\n",
              "          '<a target=\"_blank\" href=https://colab.research.google.com/notebooks/data_table.ipynb>data table notebook</a>'\n",
              "          + ' to learn more about interactive tables.';\n",
              "        element.innerHTML = '';\n",
              "        dataTable['output_type'] = 'display_data';\n",
              "        await google.colab.output.renderOutput(dataTable, element);\n",
              "        const docLink = document.createElement('div');\n",
              "        docLink.innerHTML = docLinkHtml;\n",
              "        element.appendChild(docLink);\n",
              "      }\n",
              "    </script>\n",
              "  </div>\n",
              "\n",
              "\n",
              "<div id=\"df-096b98c6-6b30-4503-a99e-fa14d4250cac\">\n",
              "  <button class=\"colab-df-quickchart\" onclick=\"quickchart('df-096b98c6-6b30-4503-a99e-fa14d4250cac')\"\n",
              "            title=\"Suggest charts\"\n",
              "            style=\"display:none;\">\n",
              "\n",
              "<svg xmlns=\"http://www.w3.org/2000/svg\" height=\"24px\"viewBox=\"0 0 24 24\"\n",
              "     width=\"24px\">\n",
              "    <g>\n",
              "        <path d=\"M19 3H5c-1.1 0-2 .9-2 2v14c0 1.1.9 2 2 2h14c1.1 0 2-.9 2-2V5c0-1.1-.9-2-2-2zM9 17H7v-7h2v7zm4 0h-2V7h2v10zm4 0h-2v-4h2v4z\"/>\n",
              "    </g>\n",
              "</svg>\n",
              "  </button>\n",
              "\n",
              "<style>\n",
              "  .colab-df-quickchart {\n",
              "      --bg-color: #E8F0FE;\n",
              "      --fill-color: #1967D2;\n",
              "      --hover-bg-color: #E2EBFA;\n",
              "      --hover-fill-color: #174EA6;\n",
              "      --disabled-fill-color: #AAA;\n",
              "      --disabled-bg-color: #DDD;\n",
              "  }\n",
              "\n",
              "  [theme=dark] .colab-df-quickchart {\n",
              "      --bg-color: #3B4455;\n",
              "      --fill-color: #D2E3FC;\n",
              "      --hover-bg-color: #434B5C;\n",
              "      --hover-fill-color: #FFFFFF;\n",
              "      --disabled-bg-color: #3B4455;\n",
              "      --disabled-fill-color: #666;\n",
              "  }\n",
              "\n",
              "  .colab-df-quickchart {\n",
              "    background-color: var(--bg-color);\n",
              "    border: none;\n",
              "    border-radius: 50%;\n",
              "    cursor: pointer;\n",
              "    display: none;\n",
              "    fill: var(--fill-color);\n",
              "    height: 32px;\n",
              "    padding: 0;\n",
              "    width: 32px;\n",
              "  }\n",
              "\n",
              "  .colab-df-quickchart:hover {\n",
              "    background-color: var(--hover-bg-color);\n",
              "    box-shadow: 0 1px 2px rgba(60, 64, 67, 0.3), 0 1px 3px 1px rgba(60, 64, 67, 0.15);\n",
              "    fill: var(--button-hover-fill-color);\n",
              "  }\n",
              "\n",
              "  .colab-df-quickchart-complete:disabled,\n",
              "  .colab-df-quickchart-complete:disabled:hover {\n",
              "    background-color: var(--disabled-bg-color);\n",
              "    fill: var(--disabled-fill-color);\n",
              "    box-shadow: none;\n",
              "  }\n",
              "\n",
              "  .colab-df-spinner {\n",
              "    border: 2px solid var(--fill-color);\n",
              "    border-color: transparent;\n",
              "    border-bottom-color: var(--fill-color);\n",
              "    animation:\n",
              "      spin 1s steps(1) infinite;\n",
              "  }\n",
              "\n",
              "  @keyframes spin {\n",
              "    0% {\n",
              "      border-color: transparent;\n",
              "      border-bottom-color: var(--fill-color);\n",
              "      border-left-color: var(--fill-color);\n",
              "    }\n",
              "    20% {\n",
              "      border-color: transparent;\n",
              "      border-left-color: var(--fill-color);\n",
              "      border-top-color: var(--fill-color);\n",
              "    }\n",
              "    30% {\n",
              "      border-color: transparent;\n",
              "      border-left-color: var(--fill-color);\n",
              "      border-top-color: var(--fill-color);\n",
              "      border-right-color: var(--fill-color);\n",
              "    }\n",
              "    40% {\n",
              "      border-color: transparent;\n",
              "      border-right-color: var(--fill-color);\n",
              "      border-top-color: var(--fill-color);\n",
              "    }\n",
              "    60% {\n",
              "      border-color: transparent;\n",
              "      border-right-color: var(--fill-color);\n",
              "    }\n",
              "    80% {\n",
              "      border-color: transparent;\n",
              "      border-right-color: var(--fill-color);\n",
              "      border-bottom-color: var(--fill-color);\n",
              "    }\n",
              "    90% {\n",
              "      border-color: transparent;\n",
              "      border-bottom-color: var(--fill-color);\n",
              "    }\n",
              "  }\n",
              "</style>\n",
              "\n",
              "  <script>\n",
              "    async function quickchart(key) {\n",
              "      const quickchartButtonEl =\n",
              "        document.querySelector('#' + key + ' button');\n",
              "      quickchartButtonEl.disabled = true;  // To prevent multiple clicks.\n",
              "      quickchartButtonEl.classList.add('colab-df-spinner');\n",
              "      try {\n",
              "        const charts = await google.colab.kernel.invokeFunction(\n",
              "            'suggestCharts', [key], {});\n",
              "      } catch (error) {\n",
              "        console.error('Error during call to suggestCharts:', error);\n",
              "      }\n",
              "      quickchartButtonEl.classList.remove('colab-df-spinner');\n",
              "      quickchartButtonEl.classList.add('colab-df-quickchart-complete');\n",
              "    }\n",
              "    (() => {\n",
              "      let quickchartButtonEl =\n",
              "        document.querySelector('#df-096b98c6-6b30-4503-a99e-fa14d4250cac button');\n",
              "      quickchartButtonEl.style.display =\n",
              "        google.colab.kernel.accessAllowed ? 'block' : 'none';\n",
              "    })();\n",
              "  </script>\n",
              "</div>\n",
              "    </div>\n",
              "  </div>\n"
            ]
          },
          "metadata": {},
          "execution_count": 21
        }
      ]
    },
    {
      "cell_type": "code",
      "source": [
        "df.tail()"
      ],
      "metadata": {
        "colab": {
          "base_uri": "https://localhost:8080/",
          "height": 206
        },
        "id": "AneDm9H8S4C_",
        "outputId": "c451dd43-a475-42dc-a737-2522fdfe5afd"
      },
      "execution_count": 22,
      "outputs": [
        {
          "output_type": "execute_result",
          "data": {
            "text/plain": [
              "     Duration  Pulse  Maxpulse  Calories\n",
              "164        60    105       140     290.8\n",
              "165        60    110       145     300.4\n",
              "166        60    115       145     310.2\n",
              "167        75    120       150     320.4\n",
              "168        75    125       150     330.4"
            ],
            "text/html": [
              "\n",
              "  <div id=\"df-b7b66d09-cacd-4a18-baac-a866bf66bf99\" class=\"colab-df-container\">\n",
              "    <div>\n",
              "<style scoped>\n",
              "    .dataframe tbody tr th:only-of-type {\n",
              "        vertical-align: middle;\n",
              "    }\n",
              "\n",
              "    .dataframe tbody tr th {\n",
              "        vertical-align: top;\n",
              "    }\n",
              "\n",
              "    .dataframe thead th {\n",
              "        text-align: right;\n",
              "    }\n",
              "</style>\n",
              "<table border=\"1\" class=\"dataframe\">\n",
              "  <thead>\n",
              "    <tr style=\"text-align: right;\">\n",
              "      <th></th>\n",
              "      <th>Duration</th>\n",
              "      <th>Pulse</th>\n",
              "      <th>Maxpulse</th>\n",
              "      <th>Calories</th>\n",
              "    </tr>\n",
              "  </thead>\n",
              "  <tbody>\n",
              "    <tr>\n",
              "      <th>164</th>\n",
              "      <td>60</td>\n",
              "      <td>105</td>\n",
              "      <td>140</td>\n",
              "      <td>290.8</td>\n",
              "    </tr>\n",
              "    <tr>\n",
              "      <th>165</th>\n",
              "      <td>60</td>\n",
              "      <td>110</td>\n",
              "      <td>145</td>\n",
              "      <td>300.4</td>\n",
              "    </tr>\n",
              "    <tr>\n",
              "      <th>166</th>\n",
              "      <td>60</td>\n",
              "      <td>115</td>\n",
              "      <td>145</td>\n",
              "      <td>310.2</td>\n",
              "    </tr>\n",
              "    <tr>\n",
              "      <th>167</th>\n",
              "      <td>75</td>\n",
              "      <td>120</td>\n",
              "      <td>150</td>\n",
              "      <td>320.4</td>\n",
              "    </tr>\n",
              "    <tr>\n",
              "      <th>168</th>\n",
              "      <td>75</td>\n",
              "      <td>125</td>\n",
              "      <td>150</td>\n",
              "      <td>330.4</td>\n",
              "    </tr>\n",
              "  </tbody>\n",
              "</table>\n",
              "</div>\n",
              "    <div class=\"colab-df-buttons\">\n",
              "\n",
              "  <div class=\"colab-df-container\">\n",
              "    <button class=\"colab-df-convert\" onclick=\"convertToInteractive('df-b7b66d09-cacd-4a18-baac-a866bf66bf99')\"\n",
              "            title=\"Convert this dataframe to an interactive table.\"\n",
              "            style=\"display:none;\">\n",
              "\n",
              "  <svg xmlns=\"http://www.w3.org/2000/svg\" height=\"24px\" viewBox=\"0 -960 960 960\">\n",
              "    <path d=\"M120-120v-720h720v720H120Zm60-500h600v-160H180v160Zm220 220h160v-160H400v160Zm0 220h160v-160H400v160ZM180-400h160v-160H180v160Zm440 0h160v-160H620v160ZM180-180h160v-160H180v160Zm440 0h160v-160H620v160Z\"/>\n",
              "  </svg>\n",
              "    </button>\n",
              "\n",
              "  <style>\n",
              "    .colab-df-container {\n",
              "      display:flex;\n",
              "      gap: 12px;\n",
              "    }\n",
              "\n",
              "    .colab-df-convert {\n",
              "      background-color: #E8F0FE;\n",
              "      border: none;\n",
              "      border-radius: 50%;\n",
              "      cursor: pointer;\n",
              "      display: none;\n",
              "      fill: #1967D2;\n",
              "      height: 32px;\n",
              "      padding: 0 0 0 0;\n",
              "      width: 32px;\n",
              "    }\n",
              "\n",
              "    .colab-df-convert:hover {\n",
              "      background-color: #E2EBFA;\n",
              "      box-shadow: 0px 1px 2px rgba(60, 64, 67, 0.3), 0px 1px 3px 1px rgba(60, 64, 67, 0.15);\n",
              "      fill: #174EA6;\n",
              "    }\n",
              "\n",
              "    .colab-df-buttons div {\n",
              "      margin-bottom: 4px;\n",
              "    }\n",
              "\n",
              "    [theme=dark] .colab-df-convert {\n",
              "      background-color: #3B4455;\n",
              "      fill: #D2E3FC;\n",
              "    }\n",
              "\n",
              "    [theme=dark] .colab-df-convert:hover {\n",
              "      background-color: #434B5C;\n",
              "      box-shadow: 0px 1px 3px 1px rgba(0, 0, 0, 0.15);\n",
              "      filter: drop-shadow(0px 1px 2px rgba(0, 0, 0, 0.3));\n",
              "      fill: #FFFFFF;\n",
              "    }\n",
              "  </style>\n",
              "\n",
              "    <script>\n",
              "      const buttonEl =\n",
              "        document.querySelector('#df-b7b66d09-cacd-4a18-baac-a866bf66bf99 button.colab-df-convert');\n",
              "      buttonEl.style.display =\n",
              "        google.colab.kernel.accessAllowed ? 'block' : 'none';\n",
              "\n",
              "      async function convertToInteractive(key) {\n",
              "        const element = document.querySelector('#df-b7b66d09-cacd-4a18-baac-a866bf66bf99');\n",
              "        const dataTable =\n",
              "          await google.colab.kernel.invokeFunction('convertToInteractive',\n",
              "                                                    [key], {});\n",
              "        if (!dataTable) return;\n",
              "\n",
              "        const docLinkHtml = 'Like what you see? Visit the ' +\n",
              "          '<a target=\"_blank\" href=https://colab.research.google.com/notebooks/data_table.ipynb>data table notebook</a>'\n",
              "          + ' to learn more about interactive tables.';\n",
              "        element.innerHTML = '';\n",
              "        dataTable['output_type'] = 'display_data';\n",
              "        await google.colab.output.renderOutput(dataTable, element);\n",
              "        const docLink = document.createElement('div');\n",
              "        docLink.innerHTML = docLinkHtml;\n",
              "        element.appendChild(docLink);\n",
              "      }\n",
              "    </script>\n",
              "  </div>\n",
              "\n",
              "\n",
              "<div id=\"df-8af32631-ea90-424c-a216-f10c938febfd\">\n",
              "  <button class=\"colab-df-quickchart\" onclick=\"quickchart('df-8af32631-ea90-424c-a216-f10c938febfd')\"\n",
              "            title=\"Suggest charts\"\n",
              "            style=\"display:none;\">\n",
              "\n",
              "<svg xmlns=\"http://www.w3.org/2000/svg\" height=\"24px\"viewBox=\"0 0 24 24\"\n",
              "     width=\"24px\">\n",
              "    <g>\n",
              "        <path d=\"M19 3H5c-1.1 0-2 .9-2 2v14c0 1.1.9 2 2 2h14c1.1 0 2-.9 2-2V5c0-1.1-.9-2-2-2zM9 17H7v-7h2v7zm4 0h-2V7h2v10zm4 0h-2v-4h2v4z\"/>\n",
              "    </g>\n",
              "</svg>\n",
              "  </button>\n",
              "\n",
              "<style>\n",
              "  .colab-df-quickchart {\n",
              "      --bg-color: #E8F0FE;\n",
              "      --fill-color: #1967D2;\n",
              "      --hover-bg-color: #E2EBFA;\n",
              "      --hover-fill-color: #174EA6;\n",
              "      --disabled-fill-color: #AAA;\n",
              "      --disabled-bg-color: #DDD;\n",
              "  }\n",
              "\n",
              "  [theme=dark] .colab-df-quickchart {\n",
              "      --bg-color: #3B4455;\n",
              "      --fill-color: #D2E3FC;\n",
              "      --hover-bg-color: #434B5C;\n",
              "      --hover-fill-color: #FFFFFF;\n",
              "      --disabled-bg-color: #3B4455;\n",
              "      --disabled-fill-color: #666;\n",
              "  }\n",
              "\n",
              "  .colab-df-quickchart {\n",
              "    background-color: var(--bg-color);\n",
              "    border: none;\n",
              "    border-radius: 50%;\n",
              "    cursor: pointer;\n",
              "    display: none;\n",
              "    fill: var(--fill-color);\n",
              "    height: 32px;\n",
              "    padding: 0;\n",
              "    width: 32px;\n",
              "  }\n",
              "\n",
              "  .colab-df-quickchart:hover {\n",
              "    background-color: var(--hover-bg-color);\n",
              "    box-shadow: 0 1px 2px rgba(60, 64, 67, 0.3), 0 1px 3px 1px rgba(60, 64, 67, 0.15);\n",
              "    fill: var(--button-hover-fill-color);\n",
              "  }\n",
              "\n",
              "  .colab-df-quickchart-complete:disabled,\n",
              "  .colab-df-quickchart-complete:disabled:hover {\n",
              "    background-color: var(--disabled-bg-color);\n",
              "    fill: var(--disabled-fill-color);\n",
              "    box-shadow: none;\n",
              "  }\n",
              "\n",
              "  .colab-df-spinner {\n",
              "    border: 2px solid var(--fill-color);\n",
              "    border-color: transparent;\n",
              "    border-bottom-color: var(--fill-color);\n",
              "    animation:\n",
              "      spin 1s steps(1) infinite;\n",
              "  }\n",
              "\n",
              "  @keyframes spin {\n",
              "    0% {\n",
              "      border-color: transparent;\n",
              "      border-bottom-color: var(--fill-color);\n",
              "      border-left-color: var(--fill-color);\n",
              "    }\n",
              "    20% {\n",
              "      border-color: transparent;\n",
              "      border-left-color: var(--fill-color);\n",
              "      border-top-color: var(--fill-color);\n",
              "    }\n",
              "    30% {\n",
              "      border-color: transparent;\n",
              "      border-left-color: var(--fill-color);\n",
              "      border-top-color: var(--fill-color);\n",
              "      border-right-color: var(--fill-color);\n",
              "    }\n",
              "    40% {\n",
              "      border-color: transparent;\n",
              "      border-right-color: var(--fill-color);\n",
              "      border-top-color: var(--fill-color);\n",
              "    }\n",
              "    60% {\n",
              "      border-color: transparent;\n",
              "      border-right-color: var(--fill-color);\n",
              "    }\n",
              "    80% {\n",
              "      border-color: transparent;\n",
              "      border-right-color: var(--fill-color);\n",
              "      border-bottom-color: var(--fill-color);\n",
              "    }\n",
              "    90% {\n",
              "      border-color: transparent;\n",
              "      border-bottom-color: var(--fill-color);\n",
              "    }\n",
              "  }\n",
              "</style>\n",
              "\n",
              "  <script>\n",
              "    async function quickchart(key) {\n",
              "      const quickchartButtonEl =\n",
              "        document.querySelector('#' + key + ' button');\n",
              "      quickchartButtonEl.disabled = true;  // To prevent multiple clicks.\n",
              "      quickchartButtonEl.classList.add('colab-df-spinner');\n",
              "      try {\n",
              "        const charts = await google.colab.kernel.invokeFunction(\n",
              "            'suggestCharts', [key], {});\n",
              "      } catch (error) {\n",
              "        console.error('Error during call to suggestCharts:', error);\n",
              "      }\n",
              "      quickchartButtonEl.classList.remove('colab-df-spinner');\n",
              "      quickchartButtonEl.classList.add('colab-df-quickchart-complete');\n",
              "    }\n",
              "    (() => {\n",
              "      let quickchartButtonEl =\n",
              "        document.querySelector('#df-8af32631-ea90-424c-a216-f10c938febfd button');\n",
              "      quickchartButtonEl.style.display =\n",
              "        google.colab.kernel.accessAllowed ? 'block' : 'none';\n",
              "    })();\n",
              "  </script>\n",
              "</div>\n",
              "    </div>\n",
              "  </div>\n"
            ]
          },
          "metadata": {},
          "execution_count": 22
        }
      ]
    },
    {
      "cell_type": "code",
      "source": [
        "\n",
        "file_path = '/content/sample_data/anscombe.json'\n",
        "df = pd.read_json(file_path)\n",
        "print(df.head())"
      ],
      "metadata": {
        "colab": {
          "base_uri": "https://localhost:8080/"
        },
        "id": "6GD4x8qVS8qh",
        "outputId": "e8fe5fcf-07d1-402c-c3bd-7ac58f21fbef"
      },
      "execution_count": 27,
      "outputs": [
        {
          "output_type": "stream",
          "name": "stdout",
          "text": [
            "  Series   X     Y\n",
            "0      I  10  8.04\n",
            "1      I   8  6.95\n",
            "2      I  13  7.58\n",
            "3      I   9  8.81\n",
            "4      I  11  8.33\n"
          ]
        }
      ]
    },
    {
      "cell_type": "code",
      "source": [
        "#empty cell ---values 20,30 --remove 0.2% ---95%\n",
        "#data wrongformat\n",
        "#wrong data\n",
        "#duplicates"
      ],
      "metadata": {
        "id": "8d7rn-lMTnFs"
      },
      "execution_count": null,
      "outputs": []
    },
    {
      "cell_type": "code",
      "source": [
        "file_path = '/content/Data of Wrong .csv'\n",
        "df = pd.read_csv(file_path,sep =\",\")\n",
        "print(df.head())"
      ],
      "metadata": {
        "colab": {
          "base_uri": "https://localhost:8080/"
        },
        "id": "3vi1CbsUVMdY",
        "outputId": "e4c2e546-69ec-4b43-b9cf-9ce7c401e76a"
      },
      "execution_count": 30,
      "outputs": [
        {
          "output_type": "stream",
          "name": "stdout",
          "text": [
            "   Duration          Date  Pulse  Maxpulse  Calories\n",
            "0        60  '2020/12/01'    110       130     409.1\n",
            "1        60  '2020/12/02'    117       145     479.0\n",
            "2        60  '2020/12/03'    103       135     340.0\n",
            "3        45  '2020/12/04'    109       175     282.4\n",
            "4        45  '2020/12/05'    117       148     406.0\n"
          ]
        }
      ]
    },
    {
      "cell_type": "code",
      "source": [
        "print(df.to_string())"
      ],
      "metadata": {
        "colab": {
          "base_uri": "https://localhost:8080/"
        },
        "id": "lyJJoKloXQyi",
        "outputId": "c9d66f5c-5ade-491e-8313-a0a060cf06bb"
      },
      "execution_count": 31,
      "outputs": [
        {
          "output_type": "stream",
          "name": "stdout",
          "text": [
            "    Duration          Date  Pulse  Maxpulse  Calories\n",
            "0         60  '2020/12/01'    110       130     409.1\n",
            "1         60  '2020/12/02'    117       145     479.0\n",
            "2         60  '2020/12/03'    103       135     340.0\n",
            "3         45  '2020/12/04'    109       175     282.4\n",
            "4         45  '2020/12/05'    117       148     406.0\n",
            "5         60  '2020/12/06'    102       127     300.0\n",
            "6         60  '2020/12/07'    110       136     374.0\n",
            "7        450  '2020/12/08'    104       134     253.3\n",
            "8         30  '2020/12/09'    109       133     195.1\n",
            "9         60  '2020/12/10'     98       124     269.0\n",
            "10        60  '2020/12/11'    103       147     329.3\n",
            "11        60  '2020/12/12'    100       120     250.7\n",
            "12        60  '2020/12/12'    100       120     250.7\n",
            "13        60  '2020/12/13'    106       128     345.3\n",
            "14        60  '2020/12/14'    104       132     379.3\n",
            "15        60  '2020/12/15'     98       123     275.0\n",
            "16        60  '2020/12/16'     98       120     215.2\n",
            "17        60  '2020/12/17'    100       120     300.0\n",
            "18        45  '2020/12/18'     90       112       NaN\n",
            "19        60  '2020/12/19'    103       123     323.0\n",
            "20        45  '2020/12/20'     97       125     243.0\n",
            "21        60  '2020/12/21'    108       131     364.2\n",
            "22        45           NaN    100       119     282.0\n",
            "23        60  '2020/12/23'    130       101     300.0\n",
            "24        45  '2020/12/24'    105       132     246.0\n",
            "25        60  '2020/12/25'    102       126     334.5\n",
            "26        60      20201226    100       120     250.0\n",
            "27        60  '2020/12/27'     92       118     241.0\n",
            "28        60  '2020/12/28'    103       132       NaN\n",
            "29        60  '2020/12/29'    100       132     280.0\n",
            "30        60  '2020/12/30'    102       129     380.3\n",
            "31        60  '2020/12/31'     92       115     243.0\n"
          ]
        }
      ]
    },
    {
      "cell_type": "code",
      "source": [
        "df1 = df.copy()\n",
        "print(df1)"
      ],
      "metadata": {
        "colab": {
          "base_uri": "https://localhost:8080/"
        },
        "id": "bPaHgXyCXUFu",
        "outputId": "a999bc4d-cdbf-4631-c4bc-d6b8af104382"
      },
      "execution_count": 32,
      "outputs": [
        {
          "output_type": "stream",
          "name": "stdout",
          "text": [
            "    Duration          Date  Pulse  Maxpulse  Calories\n",
            "0         60  '2020/12/01'    110       130     409.1\n",
            "1         60  '2020/12/02'    117       145     479.0\n",
            "2         60  '2020/12/03'    103       135     340.0\n",
            "3         45  '2020/12/04'    109       175     282.4\n",
            "4         45  '2020/12/05'    117       148     406.0\n",
            "5         60  '2020/12/06'    102       127     300.0\n",
            "6         60  '2020/12/07'    110       136     374.0\n",
            "7        450  '2020/12/08'    104       134     253.3\n",
            "8         30  '2020/12/09'    109       133     195.1\n",
            "9         60  '2020/12/10'     98       124     269.0\n",
            "10        60  '2020/12/11'    103       147     329.3\n",
            "11        60  '2020/12/12'    100       120     250.7\n",
            "12        60  '2020/12/12'    100       120     250.7\n",
            "13        60  '2020/12/13'    106       128     345.3\n",
            "14        60  '2020/12/14'    104       132     379.3\n",
            "15        60  '2020/12/15'     98       123     275.0\n",
            "16        60  '2020/12/16'     98       120     215.2\n",
            "17        60  '2020/12/17'    100       120     300.0\n",
            "18        45  '2020/12/18'     90       112       NaN\n",
            "19        60  '2020/12/19'    103       123     323.0\n",
            "20        45  '2020/12/20'     97       125     243.0\n",
            "21        60  '2020/12/21'    108       131     364.2\n",
            "22        45           NaN    100       119     282.0\n",
            "23        60  '2020/12/23'    130       101     300.0\n",
            "24        45  '2020/12/24'    105       132     246.0\n",
            "25        60  '2020/12/25'    102       126     334.5\n",
            "26        60      20201226    100       120     250.0\n",
            "27        60  '2020/12/27'     92       118     241.0\n",
            "28        60  '2020/12/28'    103       132       NaN\n",
            "29        60  '2020/12/29'    100       132     280.0\n",
            "30        60  '2020/12/30'    102       129     380.3\n",
            "31        60  '2020/12/31'     92       115     243.0\n"
          ]
        }
      ]
    },
    {
      "cell_type": "code",
      "source": [
        "#remove null values\n",
        "new_df = df1.dropna()\n",
        "print(new_df.to_string())"
      ],
      "metadata": {
        "colab": {
          "base_uri": "https://localhost:8080/"
        },
        "id": "ZOc32_MCXnnH",
        "outputId": "6672ea76-16c4-4f19-c8e1-f71fe2e14bd5"
      },
      "execution_count": 33,
      "outputs": [
        {
          "output_type": "stream",
          "name": "stdout",
          "text": [
            "    Duration          Date  Pulse  Maxpulse  Calories\n",
            "0         60  '2020/12/01'    110       130     409.1\n",
            "1         60  '2020/12/02'    117       145     479.0\n",
            "2         60  '2020/12/03'    103       135     340.0\n",
            "3         45  '2020/12/04'    109       175     282.4\n",
            "4         45  '2020/12/05'    117       148     406.0\n",
            "5         60  '2020/12/06'    102       127     300.0\n",
            "6         60  '2020/12/07'    110       136     374.0\n",
            "7        450  '2020/12/08'    104       134     253.3\n",
            "8         30  '2020/12/09'    109       133     195.1\n",
            "9         60  '2020/12/10'     98       124     269.0\n",
            "10        60  '2020/12/11'    103       147     329.3\n",
            "11        60  '2020/12/12'    100       120     250.7\n",
            "12        60  '2020/12/12'    100       120     250.7\n",
            "13        60  '2020/12/13'    106       128     345.3\n",
            "14        60  '2020/12/14'    104       132     379.3\n",
            "15        60  '2020/12/15'     98       123     275.0\n",
            "16        60  '2020/12/16'     98       120     215.2\n",
            "17        60  '2020/12/17'    100       120     300.0\n",
            "19        60  '2020/12/19'    103       123     323.0\n",
            "20        45  '2020/12/20'     97       125     243.0\n",
            "21        60  '2020/12/21'    108       131     364.2\n",
            "23        60  '2020/12/23'    130       101     300.0\n",
            "24        45  '2020/12/24'    105       132     246.0\n",
            "25        60  '2020/12/25'    102       126     334.5\n",
            "26        60      20201226    100       120     250.0\n",
            "27        60  '2020/12/27'     92       118     241.0\n",
            "29        60  '2020/12/29'    100       132     280.0\n",
            "30        60  '2020/12/30'    102       129     380.3\n",
            "31        60  '2020/12/31'     92       115     243.0\n"
          ]
        }
      ]
    },
    {
      "cell_type": "code",
      "source": [
        "print(df1.to_string())"
      ],
      "metadata": {
        "colab": {
          "base_uri": "https://localhost:8080/"
        },
        "id": "jlny-P1nYM3k",
        "outputId": "95e64152-e062-46cd-fb26-5ae23bacc6ad"
      },
      "execution_count": 34,
      "outputs": [
        {
          "output_type": "stream",
          "name": "stdout",
          "text": [
            "    Duration          Date  Pulse  Maxpulse  Calories\n",
            "0         60  '2020/12/01'    110       130     409.1\n",
            "1         60  '2020/12/02'    117       145     479.0\n",
            "2         60  '2020/12/03'    103       135     340.0\n",
            "3         45  '2020/12/04'    109       175     282.4\n",
            "4         45  '2020/12/05'    117       148     406.0\n",
            "5         60  '2020/12/06'    102       127     300.0\n",
            "6         60  '2020/12/07'    110       136     374.0\n",
            "7        450  '2020/12/08'    104       134     253.3\n",
            "8         30  '2020/12/09'    109       133     195.1\n",
            "9         60  '2020/12/10'     98       124     269.0\n",
            "10        60  '2020/12/11'    103       147     329.3\n",
            "11        60  '2020/12/12'    100       120     250.7\n",
            "12        60  '2020/12/12'    100       120     250.7\n",
            "13        60  '2020/12/13'    106       128     345.3\n",
            "14        60  '2020/12/14'    104       132     379.3\n",
            "15        60  '2020/12/15'     98       123     275.0\n",
            "16        60  '2020/12/16'     98       120     215.2\n",
            "17        60  '2020/12/17'    100       120     300.0\n",
            "18        45  '2020/12/18'     90       112       NaN\n",
            "19        60  '2020/12/19'    103       123     323.0\n",
            "20        45  '2020/12/20'     97       125     243.0\n",
            "21        60  '2020/12/21'    108       131     364.2\n",
            "22        45           NaN    100       119     282.0\n",
            "23        60  '2020/12/23'    130       101     300.0\n",
            "24        45  '2020/12/24'    105       132     246.0\n",
            "25        60  '2020/12/25'    102       126     334.5\n",
            "26        60      20201226    100       120     250.0\n",
            "27        60  '2020/12/27'     92       118     241.0\n",
            "28        60  '2020/12/28'    103       132       NaN\n",
            "29        60  '2020/12/29'    100       132     280.0\n",
            "30        60  '2020/12/30'    102       129     380.3\n",
            "31        60  '2020/12/31'     92       115     243.0\n"
          ]
        }
      ]
    },
    {
      "cell_type": "code",
      "source": [
        "print(new_df.to_string())"
      ],
      "metadata": {
        "colab": {
          "base_uri": "https://localhost:8080/"
        },
        "id": "W6-wHxHvYnYO",
        "outputId": "85e5a321-73a8-472e-89c6-3818e640c8d3"
      },
      "execution_count": 35,
      "outputs": [
        {
          "output_type": "stream",
          "name": "stdout",
          "text": [
            "    Duration          Date  Pulse  Maxpulse  Calories\n",
            "0         60  '2020/12/01'    110       130     409.1\n",
            "1         60  '2020/12/02'    117       145     479.0\n",
            "2         60  '2020/12/03'    103       135     340.0\n",
            "3         45  '2020/12/04'    109       175     282.4\n",
            "4         45  '2020/12/05'    117       148     406.0\n",
            "5         60  '2020/12/06'    102       127     300.0\n",
            "6         60  '2020/12/07'    110       136     374.0\n",
            "7        450  '2020/12/08'    104       134     253.3\n",
            "8         30  '2020/12/09'    109       133     195.1\n",
            "9         60  '2020/12/10'     98       124     269.0\n",
            "10        60  '2020/12/11'    103       147     329.3\n",
            "11        60  '2020/12/12'    100       120     250.7\n",
            "12        60  '2020/12/12'    100       120     250.7\n",
            "13        60  '2020/12/13'    106       128     345.3\n",
            "14        60  '2020/12/14'    104       132     379.3\n",
            "15        60  '2020/12/15'     98       123     275.0\n",
            "16        60  '2020/12/16'     98       120     215.2\n",
            "17        60  '2020/12/17'    100       120     300.0\n",
            "19        60  '2020/12/19'    103       123     323.0\n",
            "20        45  '2020/12/20'     97       125     243.0\n",
            "21        60  '2020/12/21'    108       131     364.2\n",
            "23        60  '2020/12/23'    130       101     300.0\n",
            "24        45  '2020/12/24'    105       132     246.0\n",
            "25        60  '2020/12/25'    102       126     334.5\n",
            "26        60      20201226    100       120     250.0\n",
            "27        60  '2020/12/27'     92       118     241.0\n",
            "29        60  '2020/12/29'    100       132     280.0\n",
            "30        60  '2020/12/30'    102       129     380.3\n",
            "31        60  '2020/12/31'     92       115     243.0\n"
          ]
        }
      ]
    },
    {
      "cell_type": "code",
      "source": [
        "#remove null values\n",
        "df1.dropna(inplace = True)\n",
        "print(df1.to_string())"
      ],
      "metadata": {
        "colab": {
          "base_uri": "https://localhost:8080/"
        },
        "id": "K7DH5xS_Yr7X",
        "outputId": "fa53bf47-d20e-407f-b0d7-3d2e341401d4"
      },
      "execution_count": 44,
      "outputs": [
        {
          "output_type": "stream",
          "name": "stdout",
          "text": [
            "    Duration          Date  Pulse  Maxpulse  Calories\n",
            "0         60  '2020/12/01'    110       130     409.1\n",
            "1         60  '2020/12/02'    117       145     479.0\n",
            "2         60  '2020/12/03'    103       135     340.0\n",
            "3         45  '2020/12/04'    109       175     282.4\n",
            "4         45  '2020/12/05'    117       148     406.0\n",
            "5         60  '2020/12/06'    102       127     300.0\n",
            "6         60  '2020/12/07'    110       136     374.0\n",
            "7        450  '2020/12/08'    104       134     253.3\n",
            "8         30  '2020/12/09'    109       133     195.1\n",
            "9         60  '2020/12/10'     98       124     269.0\n",
            "10        60  '2020/12/11'    103       147     329.3\n",
            "11        60  '2020/12/12'    100       120     250.7\n",
            "12        60  '2020/12/12'    100       120     250.7\n",
            "13        60  '2020/12/13'    106       128     345.3\n",
            "14        60  '2020/12/14'    104       132     379.3\n",
            "15        60  '2020/12/15'     98       123     275.0\n",
            "16        60  '2020/12/16'     98       120     215.2\n",
            "17        60  '2020/12/17'    100       120     300.0\n",
            "19        60  '2020/12/19'    103       123     323.0\n",
            "20        45  '2020/12/20'     97       125     243.0\n",
            "21        60  '2020/12/21'    108       131     364.2\n",
            "23        60  '2020/12/23'    130       101     300.0\n",
            "24        45  '2020/12/24'    105       132     246.0\n",
            "25        60  '2020/12/25'    102       126     334.5\n",
            "26        60      20201226    100       120     250.0\n",
            "27        60  '2020/12/27'     92       118     241.0\n",
            "29        60  '2020/12/29'    100       132     280.0\n",
            "30        60  '2020/12/30'    102       129     380.3\n",
            "31        60  '2020/12/31'     92       115     243.0\n"
          ]
        }
      ]
    },
    {
      "cell_type": "code",
      "source": [
        "df2 = df.copy()\n",
        "print(df2.to_string())"
      ],
      "metadata": {
        "colab": {
          "base_uri": "https://localhost:8080/"
        },
        "id": "PgqK4l8KZB1X",
        "outputId": "391fbfa4-ab0d-4ad3-cbc6-e0a40255fc3f"
      },
      "execution_count": 45,
      "outputs": [
        {
          "output_type": "stream",
          "name": "stdout",
          "text": [
            "    Duration          Date  Pulse  Maxpulse  Calories\n",
            "0         60  '2020/12/01'    110       130     409.1\n",
            "1         60  '2020/12/02'    117       145     479.0\n",
            "2         60  '2020/12/03'    103       135     340.0\n",
            "3         45  '2020/12/04'    109       175     282.4\n",
            "4         45  '2020/12/05'    117       148     406.0\n",
            "5         60  '2020/12/06'    102       127     300.0\n",
            "6         60  '2020/12/07'    110       136     374.0\n",
            "7        450  '2020/12/08'    104       134     253.3\n",
            "8         30  '2020/12/09'    109       133     195.1\n",
            "9         60  '2020/12/10'     98       124     269.0\n",
            "10        60  '2020/12/11'    103       147     329.3\n",
            "11        60  '2020/12/12'    100       120     250.7\n",
            "12        60  '2020/12/12'    100       120     250.7\n",
            "13        60  '2020/12/13'    106       128     345.3\n",
            "14        60  '2020/12/14'    104       132     379.3\n",
            "15        60  '2020/12/15'     98       123     275.0\n",
            "16        60  '2020/12/16'     98       120     215.2\n",
            "17        60  '2020/12/17'    100       120     300.0\n",
            "18        45  '2020/12/18'     90       112       NaN\n",
            "19        60  '2020/12/19'    103       123     323.0\n",
            "20        45  '2020/12/20'     97       125     243.0\n",
            "21        60  '2020/12/21'    108       131     364.2\n",
            "22        45           NaN    100       119     282.0\n",
            "23        60  '2020/12/23'    130       101     300.0\n",
            "24        45  '2020/12/24'    105       132     246.0\n",
            "25        60  '2020/12/25'    102       126     334.5\n",
            "26        60      20201226    100       120     250.0\n",
            "27        60  '2020/12/27'     92       118     241.0\n",
            "28        60  '2020/12/28'    103       132       NaN\n",
            "29        60  '2020/12/29'    100       132     280.0\n",
            "30        60  '2020/12/30'    102       129     380.3\n",
            "31        60  '2020/12/31'     92       115     243.0\n"
          ]
        }
      ]
    },
    {
      "cell_type": "code",
      "source": [
        "df2.fillna(130,inplace = True)\n",
        "print(df2.to_string())"
      ],
      "metadata": {
        "colab": {
          "base_uri": "https://localhost:8080/"
        },
        "id": "8DueOX7PalSV",
        "outputId": "e5b8620b-36a6-49c6-b7d9-0f7cf12aa9e6"
      },
      "execution_count": 46,
      "outputs": [
        {
          "output_type": "stream",
          "name": "stdout",
          "text": [
            "    Duration          Date  Pulse  Maxpulse  Calories\n",
            "0         60  '2020/12/01'    110       130     409.1\n",
            "1         60  '2020/12/02'    117       145     479.0\n",
            "2         60  '2020/12/03'    103       135     340.0\n",
            "3         45  '2020/12/04'    109       175     282.4\n",
            "4         45  '2020/12/05'    117       148     406.0\n",
            "5         60  '2020/12/06'    102       127     300.0\n",
            "6         60  '2020/12/07'    110       136     374.0\n",
            "7        450  '2020/12/08'    104       134     253.3\n",
            "8         30  '2020/12/09'    109       133     195.1\n",
            "9         60  '2020/12/10'     98       124     269.0\n",
            "10        60  '2020/12/11'    103       147     329.3\n",
            "11        60  '2020/12/12'    100       120     250.7\n",
            "12        60  '2020/12/12'    100       120     250.7\n",
            "13        60  '2020/12/13'    106       128     345.3\n",
            "14        60  '2020/12/14'    104       132     379.3\n",
            "15        60  '2020/12/15'     98       123     275.0\n",
            "16        60  '2020/12/16'     98       120     215.2\n",
            "17        60  '2020/12/17'    100       120     300.0\n",
            "18        45  '2020/12/18'     90       112     130.0\n",
            "19        60  '2020/12/19'    103       123     323.0\n",
            "20        45  '2020/12/20'     97       125     243.0\n",
            "21        60  '2020/12/21'    108       131     364.2\n",
            "22        45           130    100       119     282.0\n",
            "23        60  '2020/12/23'    130       101     300.0\n",
            "24        45  '2020/12/24'    105       132     246.0\n",
            "25        60  '2020/12/25'    102       126     334.5\n",
            "26        60      20201226    100       120     250.0\n",
            "27        60  '2020/12/27'     92       118     241.0\n",
            "28        60  '2020/12/28'    103       132     130.0\n",
            "29        60  '2020/12/29'    100       132     280.0\n",
            "30        60  '2020/12/30'    102       129     380.3\n",
            "31        60  '2020/12/31'     92       115     243.0\n"
          ]
        }
      ]
    },
    {
      "cell_type": "code",
      "source": [
        "df3 = df.copy()"
      ],
      "metadata": {
        "id": "ePnl9s5ga27M"
      },
      "execution_count": 47,
      "outputs": []
    },
    {
      "cell_type": "code",
      "source": [
        "print(df3.to_string())"
      ],
      "metadata": {
        "colab": {
          "base_uri": "https://localhost:8080/"
        },
        "id": "dycayCdYbLtc",
        "outputId": "1c28ac53-b868-4a85-9f45-995c5df7f10b"
      },
      "execution_count": 48,
      "outputs": [
        {
          "output_type": "stream",
          "name": "stdout",
          "text": [
            "    Duration          Date  Pulse  Maxpulse  Calories\n",
            "0         60  '2020/12/01'    110       130     409.1\n",
            "1         60  '2020/12/02'    117       145     479.0\n",
            "2         60  '2020/12/03'    103       135     340.0\n",
            "3         45  '2020/12/04'    109       175     282.4\n",
            "4         45  '2020/12/05'    117       148     406.0\n",
            "5         60  '2020/12/06'    102       127     300.0\n",
            "6         60  '2020/12/07'    110       136     374.0\n",
            "7        450  '2020/12/08'    104       134     253.3\n",
            "8         30  '2020/12/09'    109       133     195.1\n",
            "9         60  '2020/12/10'     98       124     269.0\n",
            "10        60  '2020/12/11'    103       147     329.3\n",
            "11        60  '2020/12/12'    100       120     250.7\n",
            "12        60  '2020/12/12'    100       120     250.7\n",
            "13        60  '2020/12/13'    106       128     345.3\n",
            "14        60  '2020/12/14'    104       132     379.3\n",
            "15        60  '2020/12/15'     98       123     275.0\n",
            "16        60  '2020/12/16'     98       120     215.2\n",
            "17        60  '2020/12/17'    100       120     300.0\n",
            "18        45  '2020/12/18'     90       112       NaN\n",
            "19        60  '2020/12/19'    103       123     323.0\n",
            "20        45  '2020/12/20'     97       125     243.0\n",
            "21        60  '2020/12/21'    108       131     364.2\n",
            "22        45           NaN    100       119     282.0\n",
            "23        60  '2020/12/23'    130       101     300.0\n",
            "24        45  '2020/12/24'    105       132     246.0\n",
            "25        60  '2020/12/25'    102       126     334.5\n",
            "26        60      20201226    100       120     250.0\n",
            "27        60  '2020/12/27'     92       118     241.0\n",
            "28        60  '2020/12/28'    103       132       NaN\n",
            "29        60  '2020/12/29'    100       132     280.0\n",
            "30        60  '2020/12/30'    102       129     380.3\n",
            "31        60  '2020/12/31'     92       115     243.0\n"
          ]
        }
      ]
    },
    {
      "cell_type": "code",
      "source": [
        "df3[\"Calories\"].fillna(130,inplace = True)\n",
        "print(df3.to_string())"
      ],
      "metadata": {
        "colab": {
          "base_uri": "https://localhost:8080/"
        },
        "id": "qqUTYd3XbO8b",
        "outputId": "4dfa42e3-78a4-4808-ae3f-f77ef9d07045"
      },
      "execution_count": 49,
      "outputs": [
        {
          "output_type": "stream",
          "name": "stdout",
          "text": [
            "    Duration          Date  Pulse  Maxpulse  Calories\n",
            "0         60  '2020/12/01'    110       130     409.1\n",
            "1         60  '2020/12/02'    117       145     479.0\n",
            "2         60  '2020/12/03'    103       135     340.0\n",
            "3         45  '2020/12/04'    109       175     282.4\n",
            "4         45  '2020/12/05'    117       148     406.0\n",
            "5         60  '2020/12/06'    102       127     300.0\n",
            "6         60  '2020/12/07'    110       136     374.0\n",
            "7        450  '2020/12/08'    104       134     253.3\n",
            "8         30  '2020/12/09'    109       133     195.1\n",
            "9         60  '2020/12/10'     98       124     269.0\n",
            "10        60  '2020/12/11'    103       147     329.3\n",
            "11        60  '2020/12/12'    100       120     250.7\n",
            "12        60  '2020/12/12'    100       120     250.7\n",
            "13        60  '2020/12/13'    106       128     345.3\n",
            "14        60  '2020/12/14'    104       132     379.3\n",
            "15        60  '2020/12/15'     98       123     275.0\n",
            "16        60  '2020/12/16'     98       120     215.2\n",
            "17        60  '2020/12/17'    100       120     300.0\n",
            "18        45  '2020/12/18'     90       112     130.0\n",
            "19        60  '2020/12/19'    103       123     323.0\n",
            "20        45  '2020/12/20'     97       125     243.0\n",
            "21        60  '2020/12/21'    108       131     364.2\n",
            "22        45           NaN    100       119     282.0\n",
            "23        60  '2020/12/23'    130       101     300.0\n",
            "24        45  '2020/12/24'    105       132     246.0\n",
            "25        60  '2020/12/25'    102       126     334.5\n",
            "26        60      20201226    100       120     250.0\n",
            "27        60  '2020/12/27'     92       118     241.0\n",
            "28        60  '2020/12/28'    103       132     130.0\n",
            "29        60  '2020/12/29'    100       132     280.0\n",
            "30        60  '2020/12/30'    102       129     380.3\n",
            "31        60  '2020/12/31'     92       115     243.0\n"
          ]
        }
      ]
    },
    {
      "cell_type": "code",
      "source": [],
      "metadata": {
        "id": "BFt-crdObj45"
      },
      "execution_count": null,
      "outputs": []
    }
  ]
}