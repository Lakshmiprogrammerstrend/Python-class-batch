{
  "nbformat": 4,
  "nbformat_minor": 0,
  "metadata": {
    "colab": {
      "provenance": []
    },
    "kernelspec": {
      "name": "python3",
      "display_name": "Python 3"
    },
    "language_info": {
      "name": "python"
    }
  },
  "cells": [
    {
      "cell_type": "code",
      "execution_count": 1,
      "metadata": {
        "colab": {
          "base_uri": "https://localhost:8080/"
        },
        "id": "96VaD_1OqFIm",
        "outputId": "d0a5314a-0cb7-4560-f964-cdf84f6137d8"
      },
      "outputs": [
        {
          "output_type": "stream",
          "name": "stdout",
          "text": [
            "6\n"
          ]
        }
      ],
      "source": [
        "# N -1 -N\n",
        "#N%i=0\n",
        "\n",
        "\n",
        "def divisor(n):\n",
        "  x = len([ i for i in range(1,n+1) if not n%i])\n",
        "  return x\n",
        "print(divisor(12))#1,2,3,4,6,12"
      ]
    },
    {
      "cell_type": "code",
      "source": [
        "def calculate_square(x):\n",
        "   return x**2\n",
        "def display_square(x):\n",
        "  squre = calculate_square(x)\n",
        "  return f\" The square of {x} is {squre}\"\n",
        "number = 5\n",
        "result = display_square(number)\n",
        "print(result)"
      ],
      "metadata": {
        "colab": {
          "base_uri": "https://localhost:8080/"
        },
        "id": "tmc-wszPs7cA",
        "outputId": "9fe516d8-3471-42d5-8239-e9e925da8d2b"
      },
      "execution_count": 4,
      "outputs": [
        {
          "output_type": "stream",
          "name": "stdout",
          "text": [
            " The square of 5 is 25\n"
          ]
        }
      ]
    },
    {
      "cell_type": "code",
      "source": [
        "def calculate_square(x):\n",
        "   return x**2\n",
        "calculate_square(2)"
      ],
      "metadata": {
        "colab": {
          "base_uri": "https://localhost:8080/"
        },
        "id": "XZNQFlX8vYtQ",
        "outputId": "64f12cca-f46e-46b1-8829-dcc961ce411a"
      },
      "execution_count": 5,
      "outputs": [
        {
          "output_type": "execute_result",
          "data": {
            "text/plain": [
              "4"
            ]
          },
          "metadata": {},
          "execution_count": 5
        }
      ]
    },
    {
      "cell_type": "code",
      "source": [
        "#for-[]\n",
        "for num in range(1,11):\n",
        "  print(\"hello\")"
      ],
      "metadata": {
        "colab": {
          "base_uri": "https://localhost:8080/"
        },
        "id": "0gIKOujRvDwH",
        "outputId": "31a1951f-9fd0-4330-b45f-8b7fa4df1993"
      },
      "execution_count": 6,
      "outputs": [
        {
          "output_type": "stream",
          "name": "stdout",
          "text": [
            "hello\n",
            "hello\n",
            "hello\n",
            "hello\n",
            "hello\n",
            "hello\n",
            "hello\n",
            "hello\n",
            "hello\n",
            "hello\n"
          ]
        }
      ]
    },
    {
      "cell_type": "code",
      "source": [
        "while True:\n",
        "  name = input(\"enter the name:\")\n",
        "  if name.isalpha():\n",
        "    print(\"name:\",name)\n",
        "    break\n",
        "  else:\n",
        "    print(\"name canot be a integer\")\n",
        "    continue\n"
      ],
      "metadata": {
        "colab": {
          "base_uri": "https://localhost:8080/"
        },
        "id": "Smo8Ax4yv6f0",
        "outputId": "64e900b8-faf1-407e-ad0c-c19035a3135b"
      },
      "execution_count": 7,
      "outputs": [
        {
          "output_type": "stream",
          "name": "stdout",
          "text": [
            "enter the name:123\n",
            "name canot be a integer\n",
            "enter the name:lakshmi\n",
            "name: lakshmi\n"
          ]
        }
      ]
    },
    {
      "cell_type": "code",
      "source": [
        "x= \" awesome\"\n",
        "def myfun():\n",
        "  print(\"python is \"+ x)\n",
        "myfun()"
      ],
      "metadata": {
        "colab": {
          "base_uri": "https://localhost:8080/"
        },
        "id": "8xkt4990xRvY",
        "outputId": "5999451f-db4a-47c9-cbe3-55da8abdac7c"
      },
      "execution_count": 8,
      "outputs": [
        {
          "output_type": "stream",
          "name": "stdout",
          "text": [
            "python is  awesome\n"
          ]
        }
      ]
    },
    {
      "cell_type": "code",
      "source": [
        "x= \" awesome\"\n",
        "def myfun():\n",
        "  x = \"fantastic\"\n",
        "  print(\"python is \"+ x)\n",
        "myfun()\n",
        "print(\"python is \"+ x)"
      ],
      "metadata": {
        "colab": {
          "base_uri": "https://localhost:8080/"
        },
        "id": "hv6Bng3gyEf2",
        "outputId": "701f5d5d-e64f-496d-e027-06023ac20539"
      },
      "execution_count": 9,
      "outputs": [
        {
          "output_type": "stream",
          "name": "stdout",
          "text": [
            "python is fantastic\n",
            "python is  awesome\n"
          ]
        }
      ]
    },
    {
      "cell_type": "code",
      "source": [
        "x= \" awesome\"\n",
        "def myfun():\n",
        "  global x\n",
        "  x = \"fantastic\"\n",
        "  print(\"python is \"+ x)\n",
        "myfun()\n",
        "print(\"python is \"+ x)"
      ],
      "metadata": {
        "colab": {
          "base_uri": "https://localhost:8080/"
        },
        "id": "3Abmayjnygee",
        "outputId": "d0815008-59c1-4dcf-e88a-3a367b703fa2"
      },
      "execution_count": 10,
      "outputs": [
        {
          "output_type": "stream",
          "name": "stdout",
          "text": [
            "python is fantastic\n",
            "python is fantastic\n"
          ]
        }
      ]
    },
    {
      "cell_type": "code",
      "source": [
        "global_var = 10\n",
        "def modify_global():\n",
        "  global global_var\n",
        "  global_var = 20\n",
        "  print(global_var)\n",
        "modify_global()\n",
        "print(global_var)"
      ],
      "metadata": {
        "colab": {
          "base_uri": "https://localhost:8080/"
        },
        "id": "KXtMG9A6y4D2",
        "outputId": "3c1228e7-d3a0-41e2-a58e-525d870418a9"
      },
      "execution_count": 11,
      "outputs": [
        {
          "output_type": "stream",
          "name": "stdout",
          "text": [
            "20\n",
            "20\n"
          ]
        }
      ]
    },
    {
      "cell_type": "code",
      "source": [
        "def outer_function():\n",
        "  outer_var = 10\n",
        "  def inner_function():\n",
        "    outer_var = 20\n",
        "    print(outer_var)\n",
        "  inner_function()\n",
        "  print(outer_var)\n",
        "outer_function()"
      ],
      "metadata": {
        "colab": {
          "base_uri": "https://localhost:8080/"
        },
        "id": "AVXndlOhzfGj",
        "outputId": "8c6b8886-3133-4cdd-f611-ae85a8a56ce1"
      },
      "execution_count": 12,
      "outputs": [
        {
          "output_type": "stream",
          "name": "stdout",
          "text": [
            "20\n",
            "10\n"
          ]
        }
      ]
    },
    {
      "cell_type": "code",
      "source": [
        "def outer_function():\n",
        "  outer_var = 10\n",
        "  def inner_function():\n",
        "    nonlocal outer_var\n",
        "    outer_var = 20\n",
        "    print(outer_var)\n",
        "  inner_function()\n",
        "  print(outer_var)\n",
        "outer_function()"
      ],
      "metadata": {
        "colab": {
          "base_uri": "https://localhost:8080/"
        },
        "id": "qgPR5L7A0-DM",
        "outputId": "51cbccf6-8b9c-4b4f-b661-fd42f66cb6c6"
      },
      "execution_count": 14,
      "outputs": [
        {
          "output_type": "stream",
          "name": "stdout",
          "text": [
            "20\n",
            "20\n"
          ]
        }
      ]
    },
    {
      "cell_type": "code",
      "source": [
        "#x,y,z --- x = y= z = sum ** 3\n",
        "def sum_thrice(x,y,z):\n",
        "  sum = x+y+z#1+2+3--1,1,1=3\n",
        "  if x == y== z:#1==2==3--1==1==1\n",
        "    sum = sum**3#3**3\n",
        "  return sum\n",
        "print(sum_thrice(1,2,3))#6\n",
        "print(sum_thrice(1,1,1))#27\n"
      ],
      "metadata": {
        "colab": {
          "base_uri": "https://localhost:8080/"
        },
        "id": "FRTWxNk72Tq2",
        "outputId": "a4095266-1e20-4cc4-b1ce-325faa486ba2"
      },
      "execution_count": 16,
      "outputs": [
        {
          "output_type": "stream",
          "name": "stdout",
          "text": [
            "6\n",
            "27\n"
          ]
        }
      ]
    },
    {
      "cell_type": "code",
      "source": [
        "# is --is +\n",
        "def new_string(text):\n",
        "  if len(text) >= 2 and  text[:2]==\"is\":\n",
        "    return text\n",
        "  return \"is\"+text\n",
        "new_string(\"is empty\")\n",
        "\n"
      ],
      "metadata": {
        "colab": {
          "base_uri": "https://localhost:8080/",
          "height": 35
        },
        "id": "75KGmSjt4dty",
        "outputId": "90195ec6-3e66-4413-d96d-6e83768ecb14"
      },
      "execution_count": 17,
      "outputs": [
        {
          "output_type": "execute_result",
          "data": {
            "text/plain": [
              "'is empty'"
            ],
            "application/vnd.google.colaboratory.intrinsic+json": {
              "type": "string"
            }
          },
          "metadata": {},
          "execution_count": 17
        }
      ]
    },
    {
      "cell_type": "code",
      "source": [
        "# is --is +\n",
        "def new_string(text):\n",
        "  if len(text) >= 2 and  text[:2]==\"is\":\n",
        "    return text\n",
        "  return \"is\"+text\n",
        "new_string(\"IS empty\")"
      ],
      "metadata": {
        "colab": {
          "base_uri": "https://localhost:8080/",
          "height": 35
        },
        "id": "yw4NwMbd5gmI",
        "outputId": "487ff9c7-bf87-4c74-bbc5-944da769f252"
      },
      "execution_count": 18,
      "outputs": [
        {
          "output_type": "execute_result",
          "data": {
            "text/plain": [
              "'isIS empty'"
            ],
            "application/vnd.google.colaboratory.intrinsic+json": {
              "type": "string"
            }
          },
          "metadata": {},
          "execution_count": 18
        }
      ]
    },
    {
      "cell_type": "code",
      "source": [
        "# is --is +\n",
        "def new_string(text):\n",
        "  if len(text) >= 2 and  text[:2]==\"is\":\n",
        "    return text\n",
        "  return \"is\"+text\n",
        "new_string(\"array\")"
      ],
      "metadata": {
        "colab": {
          "base_uri": "https://localhost:8080/",
          "height": 35
        },
        "id": "iaR5rfKn6GkG",
        "outputId": "e5140cfe-5239-4f68-911e-0390ff7d7786"
      },
      "execution_count": 19,
      "outputs": [
        {
          "output_type": "execute_result",
          "data": {
            "text/plain": [
              "'isarray'"
            ],
            "application/vnd.google.colaboratory.intrinsic+json": {
              "type": "string"
            }
          },
          "metadata": {},
          "execution_count": 19
        }
      ]
    },
    {
      "cell_type": "code",
      "source": [
        "#Palindrome noon = noon\n",
        "def is_palindrome(s):\n",
        "  s = s.lower()\n",
        "  s = ''.join(s.split())\n",
        "  return s == s[::-1]\n",
        "text = input(\"enter a string:\")\n",
        "if is_palindrome(text):\n",
        "  print(f\"{text} is a palindrome\")\n",
        "else:\n",
        "  print(f\"{text} is not a palindrome\")"
      ],
      "metadata": {
        "colab": {
          "base_uri": "https://localhost:8080/"
        },
        "id": "Z6hDtonB6LPu",
        "outputId": "ede00012-26c1-4a9f-d57c-a4bd7a4823d3"
      },
      "execution_count": 21,
      "outputs": [
        {
          "output_type": "stream",
          "name": "stdout",
          "text": [
            "enter a string:n oon\n",
            "n oon is a palindrome\n"
          ]
        }
      ]
    },
    {
      "cell_type": "code",
      "source": [
        "#Palindrome noon = noon\n",
        "def is_palindrome(s):\n",
        "  s = s.lower()\n",
        "  return s == s[::-1]\n",
        "text = input(\"enter a string:\")\n",
        "if is_palindrome(text):\n",
        "  print(f\"{text} is a palindrome\")\n",
        "else:\n",
        "  print(f\"{text} is not a palindrome\")"
      ],
      "metadata": {
        "colab": {
          "base_uri": "https://localhost:8080/"
        },
        "id": "vTneNl2b8wQ_",
        "outputId": "610ba186-5b12-438e-ef93-7c707bcc3e42"
      },
      "execution_count": 22,
      "outputs": [
        {
          "output_type": "stream",
          "name": "stdout",
          "text": [
            "enter a string:noon\n",
            "noon is a palindrome\n"
          ]
        }
      ]
    }
  ]
}