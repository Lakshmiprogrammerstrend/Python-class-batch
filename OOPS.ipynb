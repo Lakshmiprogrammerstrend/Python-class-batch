{
  "nbformat": 4,
  "nbformat_minor": 0,
  "metadata": {
    "colab": {
      "provenance": []
    },
    "kernelspec": {
      "name": "python3",
      "display_name": "Python 3"
    },
    "language_info": {
      "name": "python"
    }
  },
  "cells": [
    {
      "cell_type": "markdown",
      "source": [
        "##OOPS"
      ],
      "metadata": {
        "id": "tJrCZNrKDzfX"
      }
    },
    {
      "cell_type": "markdown",
      "source": [
        "OOP, or Object-Oriented Programming, is a coding approach using objects (data structures with fields and methods) to create programs. Key principles are:\n",
        "\n",
        "1. Encapsulation:Grouping data and methods into classes, acting as a blueprint.\n",
        "\n",
        "2. Inheritance:Allowing a class to inherit properties from another, promoting code reuse.\n",
        "\n",
        "3. Polymorphism: Treating different objects as if they belong to a common class, enhancing code flexibility.\n",
        "\n",
        "4. Abstraction: Simplifying complex systems by focusing on essential properties and behaviors.\n",
        "\n",
        "\n",
        "**Class:**\n",
        "\n",
        "A class is like a blueprint. It defines the structure and behaviors that objects will have but doesn't represent a specific thing.\n",
        "\n",
        "**Object:**\n",
        "\n",
        "An object is like a thing created from the blueprint. It has specific characteristics and can perform actions based on what the blueprint (class) defines.\n"
      ],
      "metadata": {
        "id": "dm3zRjlD9DuW"
      }
    },
    {
      "cell_type": "markdown",
      "source": [
        "#Create a Class"
      ],
      "metadata": {
        "id": "9yApKV2f_NwT"
      }
    },
    {
      "cell_type": "code",
      "source": [
        "class myclass:\n",
        "  x = 5\n",
        ""
      ],
      "metadata": {
        "id": "ZwmTpS1tIbzc"
      },
      "execution_count": 6,
      "outputs": []
    },
    {
      "cell_type": "markdown",
      "source": [],
      "metadata": {
        "id": "PYavx6cF_RJP"
      }
    },
    {
      "cell_type": "markdown",
      "source": [
        "#Create Object"
      ],
      "metadata": {
        "id": "J3CMtNML_W9J"
      }
    },
    {
      "cell_type": "code",
      "source": [
        "p1 = myclass()\n",
        "print(p1.x)"
      ],
      "metadata": {
        "colab": {
          "base_uri": "https://localhost:8080/"
        },
        "id": "4hxa3ce0_YmK",
        "outputId": "8ddd7572-4b8e-46de-d34c-31afa991a61a"
      },
      "execution_count": 7,
      "outputs": [
        {
          "output_type": "stream",
          "name": "stdout",
          "text": [
            "5\n"
          ]
        }
      ]
    },
    {
      "cell_type": "markdown",
      "source": [
        "#The __init__() Function\n",
        "\n",
        "which is always executed when the class is being initiated.Use the __init__() function to assign values to object properties, or other operations that are necessary to do when the object is being created:"
      ],
      "metadata": {
        "id": "0O_-DAii_bZi"
      }
    },
    {
      "cell_type": "code",
      "source": [
        "class car:\n",
        "  def __init__(self,make,model,year,color):\n",
        "    self.make = make\n",
        "    self.model = model\n",
        "    self.year = year\n",
        "    self.color = color\n",
        ""
      ],
      "metadata": {
        "id": "ng86kFMm_rgN"
      },
      "execution_count": 8,
      "outputs": []
    },
    {
      "cell_type": "code",
      "source": [
        "car1 = car(2007,\"audi\",2010,\"black\")\n"
      ],
      "metadata": {
        "id": "dTHTbSrtS66v"
      },
      "execution_count": 10,
      "outputs": []
    },
    {
      "cell_type": "code",
      "source": [
        "print(car1.color)"
      ],
      "metadata": {
        "colab": {
          "base_uri": "https://localhost:8080/"
        },
        "id": "8mGuC4uOTSav",
        "outputId": "f0156df3-9915-43f5-e66a-b29554fbe88d"
      },
      "execution_count": 11,
      "outputs": [
        {
          "output_type": "stream",
          "name": "stdout",
          "text": [
            "black\n"
          ]
        }
      ]
    },
    {
      "cell_type": "code",
      "source": [
        "print(car1.model)"
      ],
      "metadata": {
        "colab": {
          "base_uri": "https://localhost:8080/"
        },
        "id": "nir8G9xqTZKy",
        "outputId": "b42af8da-4c24-4eb2-a3e4-54b7801cf933"
      },
      "execution_count": 12,
      "outputs": [
        {
          "output_type": "stream",
          "name": "stdout",
          "text": [
            "audi\n"
          ]
        }
      ]
    },
    {
      "cell_type": "code",
      "source": [
        "car2 = car(2010,\"tayota\",2015,\"white\")\n",
        "print(car2.make)"
      ],
      "metadata": {
        "colab": {
          "base_uri": "https://localhost:8080/"
        },
        "id": "1OOhxJc8Thhz",
        "outputId": "9b30d4e3-33b8-455d-e60b-0adfbb551dc1"
      },
      "execution_count": 13,
      "outputs": [
        {
          "output_type": "stream",
          "name": "stdout",
          "text": [
            "2010\n"
          ]
        }
      ]
    },
    {
      "cell_type": "code",
      "source": [
        "print(car2)"
      ],
      "metadata": {
        "colab": {
          "base_uri": "https://localhost:8080/"
        },
        "id": "SjCfecJ_TzeW",
        "outputId": "55cae917-8786-4f9a-ae07-06c84bccb557"
      },
      "execution_count": 14,
      "outputs": [
        {
          "output_type": "stream",
          "name": "stdout",
          "text": [
            "<__main__.car object at 0x7a1c1ac3a380>\n"
          ]
        }
      ]
    },
    {
      "cell_type": "markdown",
      "source": [
        "#The __str__() Function\n",
        "The __str__() function controls what should be returned when the class object is represented as a string."
      ],
      "metadata": {
        "id": "1ZvyD5zF_v8n"
      }
    },
    {
      "cell_type": "code",
      "source": [
        "class car:\n",
        "  def __init__(self,model,year,color):\n",
        "    self.model = model\n",
        "    self.year = year\n",
        "    self.color = color\n",
        "  def __str__(self):\n",
        "    return f\"model = {self.model} \\n year = {self.year} \\n color = {self.color}\"\n",
        "\n",
        "car1 = car(\"audi\",2013,\"red\")\n",
        "\n",
        "print(car1)\n",
        ""
      ],
      "metadata": {
        "colab": {
          "base_uri": "https://localhost:8080/"
        },
        "id": "GDgPdJsv_85c",
        "outputId": "3cd79d25-9652-4214-b8a8-255122a2b367"
      },
      "execution_count": 15,
      "outputs": [
        {
          "output_type": "stream",
          "name": "stdout",
          "text": [
            "model = audi \n",
            " year = 2013 \n",
            " color = red\n"
          ]
        }
      ]
    },
    {
      "cell_type": "markdown",
      "source": [
        "#Object Methods\n",
        "\n",
        "Objects can also contain methods. Methods in objects are functions that belong to the object."
      ],
      "metadata": {
        "id": "3WO8pR58_-0p"
      }
    },
    {
      "cell_type": "code",
      "source": [
        "class car:\n",
        "  def __init__(self,model,year,color):\n",
        "    self.model = model\n",
        "    self.year = year\n",
        "    self.color = color\n",
        "    self.speed = 0\n",
        "  def __str__(self):\n",
        "    return f\"model = {self.model} \\n year = {self.year} \\n color = {self.color}\"\n",
        "  def accelerate(self):\n",
        "    self.speed+=10\n",
        "    print(f\"the {self.year} {self.model} is accelerating speed: {self.speed}mph\")\n",
        "\n",
        "car1 = car(\"audi\",2013,\"red\")\n",
        "\n",
        "car1.accelerate()\n",
        ""
      ],
      "metadata": {
        "colab": {
          "base_uri": "https://localhost:8080/"
        },
        "id": "ALTJdQLSAqfX",
        "outputId": "3a793328-feaa-4478-8e3f-8737350c1893"
      },
      "execution_count": 18,
      "outputs": [
        {
          "output_type": "stream",
          "name": "stdout",
          "text": [
            "the 2013 audi is accelerating speed: 10mph\n"
          ]
        }
      ]
    },
    {
      "cell_type": "markdown",
      "source": [
        "#self Parameter\n",
        "\n",
        "The self parameter is a reference to the current instance of the class, and is used to access variables that belong to the class."
      ],
      "metadata": {
        "id": "ZfG08sDrAq8Q"
      }
    },
    {
      "cell_type": "code",
      "source": [
        "class this:\n",
        "  def __init__(myjob,name,age):\n",
        "    myjob.name = name\n",
        "    myjob.age = age\n",
        "  def details(myjob):\n",
        "    return f\"name = {myjob.name} \\n age = {myjob.age}\"\n",
        "p1 = this(\"lakshmi\",27)\n",
        "p1.details()"
      ],
      "metadata": {
        "colab": {
          "base_uri": "https://localhost:8080/",
          "height": 36
        },
        "id": "Q9jxlVfCAsE9",
        "outputId": "659a4ca2-b25c-4732-bd79-f2e83a8a7875"
      },
      "execution_count": 19,
      "outputs": [
        {
          "output_type": "execute_result",
          "data": {
            "text/plain": [
              "'name = lakshmi \\n age = 27'"
            ],
            "application/vnd.google.colaboratory.intrinsic+json": {
              "type": "string"
            }
          },
          "metadata": {},
          "execution_count": 19
        }
      ]
    },
    {
      "cell_type": "markdown",
      "source": [
        "#Modify Object Properties"
      ],
      "metadata": {
        "id": "pUCfyj_zAyQb"
      }
    },
    {
      "cell_type": "code",
      "source": [
        "class this:\n",
        "  def __init__(self,name,age):\n",
        "    self.name = name\n",
        "    self.age = age\n",
        "  def details(self):\n",
        "    return f\"name = {self.name} \\n age = {self.age}\"\n",
        "p1 = this(\"lakshmi\",27)\n",
        "p1.age = 25\n",
        "print(p1.age)"
      ],
      "metadata": {
        "colab": {
          "base_uri": "https://localhost:8080/"
        },
        "id": "5pP2fFJcAzHN",
        "outputId": "653301df-6297-495a-dbae-3772328e31bf"
      },
      "execution_count": 20,
      "outputs": [
        {
          "output_type": "stream",
          "name": "stdout",
          "text": [
            "25\n"
          ]
        }
      ]
    },
    {
      "cell_type": "code",
      "source": [
        "p1.name = \"ram\"\n",
        "print(p1.name)"
      ],
      "metadata": {
        "colab": {
          "base_uri": "https://localhost:8080/"
        },
        "id": "k4PRIdB7bq4V",
        "outputId": "f0be2163-10dd-480b-b155-07432edcda1d"
      },
      "execution_count": 21,
      "outputs": [
        {
          "output_type": "stream",
          "name": "stdout",
          "text": [
            "ram\n"
          ]
        }
      ]
    },
    {
      "cell_type": "markdown",
      "source": [
        "#Delete Object Properties"
      ],
      "metadata": {
        "id": "G58t6m25A2iW"
      }
    },
    {
      "cell_type": "code",
      "source": [
        "del p1.age\n",
        "print(p1.age)"
      ],
      "metadata": {
        "colab": {
          "base_uri": "https://localhost:8080/",
          "height": 200
        },
        "id": "zneEYghTA3S4",
        "outputId": "931b52b4-4fd1-43f8-8eed-06cc5073d9ee"
      },
      "execution_count": 22,
      "outputs": [
        {
          "output_type": "error",
          "ename": "AttributeError",
          "evalue": "ignored",
          "traceback": [
            "\u001b[0;31m---------------------------------------------------------------------------\u001b[0m",
            "\u001b[0;31mAttributeError\u001b[0m                            Traceback (most recent call last)",
            "\u001b[0;32m<ipython-input-22-4e24acd3d696>\u001b[0m in \u001b[0;36m<cell line: 2>\u001b[0;34m()\u001b[0m\n\u001b[1;32m      1\u001b[0m \u001b[0;32mdel\u001b[0m \u001b[0mp1\u001b[0m\u001b[0;34m.\u001b[0m\u001b[0mage\u001b[0m\u001b[0;34m\u001b[0m\u001b[0;34m\u001b[0m\u001b[0m\n\u001b[0;32m----> 2\u001b[0;31m \u001b[0mprint\u001b[0m\u001b[0;34m(\u001b[0m\u001b[0mp1\u001b[0m\u001b[0;34m.\u001b[0m\u001b[0mage\u001b[0m\u001b[0;34m)\u001b[0m\u001b[0;34m\u001b[0m\u001b[0;34m\u001b[0m\u001b[0m\n\u001b[0m",
            "\u001b[0;31mAttributeError\u001b[0m: 'this' object has no attribute 'age'"
          ]
        }
      ]
    },
    {
      "cell_type": "code",
      "source": [
        "p2 = this(\"lakshmi\",27)\n",
        "print(p2.name)\n",
        "print(p2.age)"
      ],
      "metadata": {
        "colab": {
          "base_uri": "https://localhost:8080/"
        },
        "id": "BMSK9mNVcHR4",
        "outputId": "6ff7f051-d1fc-48ec-cbf5-edb707931dae"
      },
      "execution_count": 23,
      "outputs": [
        {
          "output_type": "stream",
          "name": "stdout",
          "text": [
            "lakshmi\n",
            "27\n"
          ]
        }
      ]
    },
    {
      "cell_type": "markdown",
      "source": [
        "#Delete Objects"
      ],
      "metadata": {
        "id": "HxbQxRVAA5hu"
      }
    },
    {
      "cell_type": "code",
      "source": [
        "del p1"
      ],
      "metadata": {
        "id": "F1Ya_6P8A6VZ"
      },
      "execution_count": 24,
      "outputs": []
    },
    {
      "cell_type": "code",
      "source": [
        "print(p1.name)"
      ],
      "metadata": {
        "colab": {
          "base_uri": "https://localhost:8080/",
          "height": 182
        },
        "id": "1_5efCo5A6vc",
        "outputId": "0a7de4f4-7027-4c75-eaf2-fbf3321844fc"
      },
      "execution_count": 25,
      "outputs": [
        {
          "output_type": "error",
          "ename": "NameError",
          "evalue": "ignored",
          "traceback": [
            "\u001b[0;31m---------------------------------------------------------------------------\u001b[0m",
            "\u001b[0;31mNameError\u001b[0m                                 Traceback (most recent call last)",
            "\u001b[0;32m<ipython-input-25-f5f45b9f018c>\u001b[0m in \u001b[0;36m<cell line: 1>\u001b[0;34m()\u001b[0m\n\u001b[0;32m----> 1\u001b[0;31m \u001b[0mprint\u001b[0m\u001b[0;34m(\u001b[0m\u001b[0mp1\u001b[0m\u001b[0;34m.\u001b[0m\u001b[0mname\u001b[0m\u001b[0;34m)\u001b[0m\u001b[0;34m\u001b[0m\u001b[0;34m\u001b[0m\u001b[0m\n\u001b[0m",
            "\u001b[0;31mNameError\u001b[0m: name 'p1' is not defined"
          ]
        }
      ]
    },
    {
      "cell_type": "markdown",
      "source": [
        "#The pass Statement"
      ],
      "metadata": {
        "id": "wMctZH6IA7Wi"
      }
    },
    {
      "cell_type": "code",
      "source": [
        "class person:\n",
        "  pass"
      ],
      "metadata": {
        "id": "XuJxiOvrA-iH"
      },
      "execution_count": 26,
      "outputs": []
    }
  ]
}