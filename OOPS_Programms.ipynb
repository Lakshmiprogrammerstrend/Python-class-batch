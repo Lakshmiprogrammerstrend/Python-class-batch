{
  "nbformat": 4,
  "nbformat_minor": 0,
  "metadata": {
    "colab": {
      "provenance": []
    },
    "kernelspec": {
      "name": "python3",
      "display_name": "Python 3"
    },
    "language_info": {
      "name": "python"
    }
  },
  "cells": [
    {
      "cell_type": "markdown",
      "source": [
        "**1.Create a class Person with attributes name and age. Instantiate an object and print its details.**\n",
        "\n",
        "\n",
        "\n"
      ],
      "metadata": {
        "id": "G2x_q7ji7Vzy"
      }
    },
    {
      "cell_type": "code",
      "source": [
        "class person:\n",
        "  def __init__(self,name,age):\n",
        "    self.age = age\n",
        "    self.name = name\n",
        "  def __str__(self):\n",
        "    return f\"name: {self.name} \\n age:{self.age}\"\n",
        "\n",
        "p1 = person(\"lakshmi\",25)\n",
        "print(p1)"
      ],
      "metadata": {
        "colab": {
          "base_uri": "https://localhost:8080/"
        },
        "id": "xlv53J6886QA",
        "outputId": "b957a0dd-41ab-410c-92de-710638529c61"
      },
      "execution_count": 39,
      "outputs": [
        {
          "output_type": "stream",
          "name": "stdout",
          "text": [
            "name: lakshmi \n",
            " age:25\n"
          ]
        }
      ]
    },
    {
      "cell_type": "code",
      "source": [
        "class person:\n",
        "  def __init__(self,name,age):\n",
        "    self.age = age\n",
        "    self.name = name\n",
        "  def printname(self):\n",
        "    return f\"name: {self.name} \\n age:{self.age}\"\n",
        "\n",
        "p1 = person(\"lakshmi\",25)\n",
        "print(p1)\n",
        "print(p1.printname())"
      ],
      "metadata": {
        "colab": {
          "base_uri": "https://localhost:8080/"
        },
        "id": "_1a6axFN9aRI",
        "outputId": "417b6665-8b8f-4afe-91de-f276462d8a81"
      },
      "execution_count": 77,
      "outputs": [
        {
          "output_type": "stream",
          "name": "stdout",
          "text": [
            "<__main__.person object at 0x7f507cdc8400>\n",
            "name: lakshmi \n",
            " age:25\n"
          ]
        }
      ]
    },
    {
      "cell_type": "markdown",
      "source": [
        "**2.Define a base class Shape with a method area. Create a subclass Circle that inherits from Shape and calculates the area.**"
      ],
      "metadata": {
        "id": "2j7qSWsC9UUk"
      }
    },
    {
      "cell_type": "code",
      "source": [
        "class shape:\n",
        "  def area(self):\n",
        "    pass\n",
        "\n",
        "class circle(shape):\n",
        "  def __init__(self,radius):\n",
        "    self.radius = radius\n",
        "  def area(self):\n",
        "    return 3.14*self.radius**2\n",
        "\n",
        "c1 = circle(4)\n",
        "\n",
        "print(c1.area())"
      ],
      "metadata": {
        "colab": {
          "base_uri": "https://localhost:8080/"
        },
        "id": "Ik9CSma7-OLe",
        "outputId": "a73458cc-6745-4496-9038-5a03c7f13605"
      },
      "execution_count": 45,
      "outputs": [
        {
          "output_type": "stream",
          "name": "stdout",
          "text": [
            "50.24\n"
          ]
        }
      ]
    },
    {
      "cell_type": "markdown",
      "source": [
        "**3.Design a class Student with private attributes name and age. Provide methods to set and get these attributes.**"
      ],
      "metadata": {
        "id": "T43rVzp5-9ao"
      }
    },
    {
      "cell_type": "code",
      "source": [
        "class student:\n",
        "  def __init__(self,name,age):\n",
        "    self.__name = name\n",
        "    self.__age = age\n",
        "  def set_name(self,name):\n",
        "    self.__name = name\n",
        "  def get_name(self):\n",
        "    return self.__name\n",
        "  def set_age(self,age):\n",
        "    self.__age = age\n",
        "  def get_age(self):\n",
        "    return self.__age\n",
        "\n",
        "s1 = student(\"lakshmi\",15)\n",
        "\n",
        "print(s1.get_name())\n",
        "print(s1.get_age())\n",
        "\n",
        "\n",
        "s1.set_name(\"durga\")\n",
        "s1.set_age(25)\n",
        "\n",
        "print(s1.get_name())\n",
        "print(s1.get_age())"
      ],
      "metadata": {
        "colab": {
          "base_uri": "https://localhost:8080/"
        },
        "id": "dV4RS0_CANUg",
        "outputId": "2ba42783-0563-4d8f-ff2c-8dc35b1df00b"
      },
      "execution_count": 55,
      "outputs": [
        {
          "output_type": "stream",
          "name": "stdout",
          "text": [
            "lakshmi\n",
            "15\n",
            "durga\n",
            "25\n"
          ]
        }
      ]
    },
    {
      "cell_type": "markdown",
      "source": [
        "**4.Create a class Animal with a method sound. Derive classes Dog and Cat that override the sound method.**"
      ],
      "metadata": {
        "id": "VT-KuCFwBPuP"
      }
    },
    {
      "cell_type": "code",
      "source": [
        "class animal:\n",
        "  def sound(self):\n",
        "    pass\n",
        "\n",
        "class dog(animal):\n",
        "  def sound(self):\n",
        "    return \"bowwwwww\"\n",
        "class cat(animal):\n",
        "  def sound(self):\n",
        "    return \"meow\"\n",
        "\n",
        "dog1 = dog()\n",
        "cat1 = cat()\n",
        "\n",
        "print(dog1.sound())\n",
        "print(cat1.sound())"
      ],
      "metadata": {
        "colab": {
          "base_uri": "https://localhost:8080/"
        },
        "id": "7Gd8879dBcH3",
        "outputId": "14d586bb-88fb-406a-cf96-fdfd009bb319"
      },
      "execution_count": 56,
      "outputs": [
        {
          "output_type": "stream",
          "name": "stdout",
          "text": [
            "bowwwwww\n",
            "meow\n"
          ]
        }
      ]
    },
    {
      "cell_type": "markdown",
      "source": [
        "**5.Design an abstract class Shape with an abstract method draw. Implement subclasses Circle and Square.**"
      ],
      "metadata": {
        "id": "840rKtW-Bwcd"
      }
    },
    {
      "cell_type": "code",
      "source": [
        "from abc import ABC,abstractmethod\n",
        "class shape(ABC):\n",
        "  @abstractmethod\n",
        "  def draw(self):\n",
        "    pass\n",
        "\n",
        "class circle(shape):\n",
        "  def draw(self):\n",
        "    print(\"drawing a circle\")\n",
        "class square(shape):\n",
        "  def draw(self):\n",
        "    print(\"drawing a square\")\n",
        "\n",
        "\n",
        "circle = circle()\n",
        "square = square()\n",
        "\n",
        "circle.draw()\n",
        "square.draw()"
      ],
      "metadata": {
        "colab": {
          "base_uri": "https://localhost:8080/"
        },
        "id": "w_fkg_kEB-AE",
        "outputId": "6892b674-caf4-42d3-af28-fa68965f0489"
      },
      "execution_count": 57,
      "outputs": [
        {
          "output_type": "stream",
          "name": "stdout",
          "text": [
            "drawing a circle\n",
            "drawing a square\n"
          ]
        }
      ]
    },
    {
      "cell_type": "markdown",
      "source": [
        "**6. Create a class Calculator with methods for addition. Allow the add method to accept different numbers of arguments.**"
      ],
      "metadata": {
        "id": "G-TGyag3CR2Z"
      }
    },
    {
      "cell_type": "code",
      "source": [
        "class Calculator:\n",
        "  def add(self,*arg):#** kwrag\n",
        "    return sum(arg)\n",
        "\n",
        "calc = Calculator()\n",
        "result = calc.add(1,2,4,5,6)\n",
        "print(result)"
      ],
      "metadata": {
        "colab": {
          "base_uri": "https://localhost:8080/"
        },
        "id": "KOCu-aUiC-ai",
        "outputId": "bb1832fa-e7ba-423c-d99a-43d29296148a"
      },
      "execution_count": 64,
      "outputs": [
        {
          "output_type": "stream",
          "name": "stdout",
          "text": [
            "18\n"
          ]
        }
      ]
    },
    {
      "cell_type": "code",
      "source": [
        "(l,k,*m) = (\"apple\",\"orange\",\"banana\",\"olive\")\n",
        "print(l)\n",
        "print(k)\n",
        "print(m)"
      ],
      "metadata": {
        "colab": {
          "base_uri": "https://localhost:8080/"
        },
        "id": "UMdq62HwRm12",
        "outputId": "bb195640-c760-42bb-ec47-8479e97eba86"
      },
      "execution_count": 63,
      "outputs": [
        {
          "output_type": "stream",
          "name": "stdout",
          "text": [
            "apple\n",
            "orange\n",
            "['banana', 'olive']\n"
          ]
        }
      ]
    },
    {
      "cell_type": "markdown",
      "source": [
        "**7.Define a class Vector and overload the + operator to perform vector addition.**"
      ],
      "metadata": {
        "id": "pDE2cdQQCz7x"
      }
    },
    {
      "cell_type": "code",
      "source": [
        "class vector:\n",
        "  def __init__(self,x,y):\n",
        "    self.x = x\n",
        "    self.y = y\n",
        "  def __add__(self,other):\n",
        "    return vector(self.x+other.x,self.y+other.y)\n",
        "\n",
        "v1 = vector(1,2)\n",
        "v2 = vector(3,4)\n",
        "result = v1 + v2\n",
        "print (result.x,result.y)\n"
      ],
      "metadata": {
        "colab": {
          "base_uri": "https://localhost:8080/"
        },
        "id": "UeWoeHraDNkb",
        "outputId": "6aa9bd71-c92c-454d-cc50-21a482e8a563"
      },
      "execution_count": 66,
      "outputs": [
        {
          "output_type": "stream",
          "name": "stdout",
          "text": [
            "4 6\n"
          ]
        }
      ]
    },
    {
      "cell_type": "markdown",
      "source": [
        "**8.Create a class MathOperations with a static method multiply to calculate the product of two numbers.**"
      ],
      "metadata": {
        "id": "Y0itxpJcDOmn"
      }
    },
    {
      "cell_type": "code",
      "source": [
        "class mathoperation:\n",
        "  @staticmethod\n",
        "  def multiply(a,b):\n",
        "    return a*b\n",
        "\n",
        "result = mathoperation.multiply(3,4)\n",
        "print(result)"
      ],
      "metadata": {
        "colab": {
          "base_uri": "https://localhost:8080/"
        },
        "id": "g_RQctQWEg5m",
        "outputId": "838d67e9-3bbf-485b-eff0-bcb03a1bd220"
      },
      "execution_count": 67,
      "outputs": [
        {
          "output_type": "stream",
          "name": "stdout",
          "text": [
            "12\n"
          ]
        }
      ]
    },
    {
      "cell_type": "markdown",
      "source": [
        "**9.Create a class Counter with a class variable count that keeps track of the number of instances created.**"
      ],
      "metadata": {
        "id": "5J0IP9XHEjO5"
      }
    },
    {
      "cell_type": "code",
      "source": [
        "class counter:\n",
        "  count = 0\n",
        "  def __init__(self):\n",
        "    counter.count +=1\n",
        "\n",
        "obj1 = counter()\n",
        "\n",
        "obj2 = counter()\n",
        "\n",
        "obj3 = counter()\n",
        "\n",
        "obj4 = counter()\n",
        "\n",
        "obj5 = counter()\n",
        "\n",
        "print(counter.count)"
      ],
      "metadata": {
        "colab": {
          "base_uri": "https://localhost:8080/"
        },
        "id": "UxDZ65Q6Erse",
        "outputId": "889005b0-c69d-4768-d3c7-cca3b4700a37"
      },
      "execution_count": 70,
      "outputs": [
        {
          "output_type": "stream",
          "name": "stdout",
          "text": [
            "5\n"
          ]
        }
      ]
    },
    {
      "cell_type": "markdown",
      "source": [
        "**10.Design a class Employee with a class method from_string that creates an instance from a string representation.**"
      ],
      "metadata": {
        "id": "cDOXqsj6EtPT"
      }
    },
    {
      "cell_type": "code",
      "source": [
        "class Employee:\n",
        "  def __init__(self,name,salary):\n",
        "    self.name = name\n",
        "    self.salary = salary\n",
        "  @classmethod\n",
        "  def from_strng(cls,employee_string):\n",
        "    name,salary  = employee_string.split(\",\")\n",
        "    return cls(name,int(salary))\n",
        "\n",
        "\n",
        "emp_str = \"john,50000\"\n",
        "emp1 = Employee.from_strng(emp_str)\n",
        "\n",
        "print(emp1.name)\n",
        "print(emp1.salary)"
      ],
      "metadata": {
        "colab": {
          "base_uri": "https://localhost:8080/"
        },
        "id": "Fe4HIxbZE_bT",
        "outputId": "ecdd6a18-a988-4f07-c9fd-eb1e0ea1b698"
      },
      "execution_count": 74,
      "outputs": [
        {
          "output_type": "stream",
          "name": "stdout",
          "text": [
            "john\n",
            "50000\n"
          ]
        }
      ]
    },
    {
      "cell_type": "markdown",
      "source": [
        "**11.Create classes A and B. Derive a class C from both A and B to demonstrate multiple inheritances.**"
      ],
      "metadata": {
        "id": "Vb6n8s6TFAMe"
      }
    },
    {
      "cell_type": "code",
      "source": [
        "class A:\n",
        "  def method_a(self):\n",
        "    print('method  from class a')\n",
        "\n",
        "class B:\n",
        "  def method_b(self):\n",
        "    print('method  from class b')\n",
        "\n",
        "\n",
        "class C(A,B):\n",
        "  pass\n",
        "\n",
        "\n",
        "obj = C()\n",
        "\n",
        "print(obj.method_a())\n",
        "print(obj.method_b())"
      ],
      "metadata": {
        "colab": {
          "base_uri": "https://localhost:8080/"
        },
        "id": "UZE1PTk8FH2Y",
        "outputId": "14ad9359-d947-4d1d-ea64-ea60832d5399"
      },
      "execution_count": 76,
      "outputs": [
        {
          "output_type": "stream",
          "name": "stdout",
          "text": [
            "method  from class a\n",
            "None\n",
            "method  from class b\n",
            "None\n"
          ]
        }
      ]
    }
  ]
}