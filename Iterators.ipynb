{
  "nbformat": 4,
  "nbformat_minor": 0,
  "metadata": {
    "colab": {
      "provenance": []
    },
    "kernelspec": {
      "name": "python3",
      "display_name": "Python 3"
    },
    "language_info": {
      "name": "python"
    }
  },
  "cells": [
    {
      "cell_type": "code",
      "execution_count": 1,
      "metadata": {
        "id": "B90-oxUn79rw"
      },
      "outputs": [],
      "source": [
        "##iter\n",
        "#iterable\n",
        "#iterator"
      ]
    },
    {
      "cell_type": "code",
      "source": [
        "#iteration"
      ],
      "metadata": {
        "id": "FdbWHQfL9egr"
      },
      "execution_count": null,
      "outputs": []
    },
    {
      "cell_type": "code",
      "source": [
        "##iterable\n",
        "list1 = [1,2,3,45,2,3,4]\n",
        "for i in list1:\n",
        "  print(i)"
      ],
      "metadata": {
        "colab": {
          "base_uri": "https://localhost:8080/"
        },
        "id": "Qm4JSlTH_w5R",
        "outputId": "cb2948ce-5191-4414-a0ff-5ee81bcb0d57"
      },
      "execution_count": 2,
      "outputs": [
        {
          "output_type": "stream",
          "name": "stdout",
          "text": [
            "1\n",
            "2\n",
            "3\n",
            "45\n",
            "2\n",
            "3\n",
            "4\n"
          ]
        }
      ]
    },
    {
      "cell_type": "code",
      "source": [
        "i = 0\n",
        "while i<len(list1):\n",
        "  print(list1[i])\n",
        "  i = i+1"
      ],
      "metadata": {
        "colab": {
          "base_uri": "https://localhost:8080/"
        },
        "id": "Xo9lz6OeANTE",
        "outputId": "078dd39f-316f-4b16-e06d-8db4f636055a"
      },
      "execution_count": 3,
      "outputs": [
        {
          "output_type": "stream",
          "name": "stdout",
          "text": [
            "1\n",
            "2\n",
            "3\n",
            "45\n",
            "2\n",
            "3\n",
            "4\n"
          ]
        }
      ]
    },
    {
      "cell_type": "code",
      "source": [
        "#iterator\n",
        "list1 = [1,2,3,4,5,6,7]\n",
        "myit = iter(list1)\n",
        "\n",
        "print(next(myit))\n",
        "print(next(myit))\n",
        "print(next(myit))\n",
        "print(next(myit))\n",
        "print(next(myit))\n",
        "print(next(myit))\n",
        "print(next(myit))\n",
        "print(next(myit))"
      ],
      "metadata": {
        "colab": {
          "base_uri": "https://localhost:8080/",
          "height": 348
        },
        "id": "LFOtr0P0ApYr",
        "outputId": "f06ff79a-7e72-409c-fdb8-fb78ba85d715"
      },
      "execution_count": 13,
      "outputs": [
        {
          "output_type": "stream",
          "name": "stdout",
          "text": [
            "1\n",
            "2\n",
            "3\n",
            "4\n",
            "5\n",
            "6\n",
            "7\n"
          ]
        },
        {
          "output_type": "error",
          "ename": "StopIteration",
          "evalue": "ignored",
          "traceback": [
            "\u001b[0;31m---------------------------------------------------------------------------\u001b[0m",
            "\u001b[0;31mStopIteration\u001b[0m                             Traceback (most recent call last)",
            "\u001b[0;32m<ipython-input-13-210d12520a2d>\u001b[0m in \u001b[0;36m<cell line: 12>\u001b[0;34m()\u001b[0m\n\u001b[1;32m     10\u001b[0m \u001b[0mprint\u001b[0m\u001b[0;34m(\u001b[0m\u001b[0mnext\u001b[0m\u001b[0;34m(\u001b[0m\u001b[0mmyit\u001b[0m\u001b[0;34m)\u001b[0m\u001b[0;34m)\u001b[0m\u001b[0;34m\u001b[0m\u001b[0;34m\u001b[0m\u001b[0m\n\u001b[1;32m     11\u001b[0m \u001b[0mprint\u001b[0m\u001b[0;34m(\u001b[0m\u001b[0mnext\u001b[0m\u001b[0;34m(\u001b[0m\u001b[0mmyit\u001b[0m\u001b[0;34m)\u001b[0m\u001b[0;34m)\u001b[0m\u001b[0;34m\u001b[0m\u001b[0;34m\u001b[0m\u001b[0m\n\u001b[0;32m---> 12\u001b[0;31m \u001b[0mprint\u001b[0m\u001b[0;34m(\u001b[0m\u001b[0mnext\u001b[0m\u001b[0;34m(\u001b[0m\u001b[0mmyit\u001b[0m\u001b[0;34m)\u001b[0m\u001b[0;34m)\u001b[0m\u001b[0;34m\u001b[0m\u001b[0;34m\u001b[0m\u001b[0m\n\u001b[0m",
            "\u001b[0;31mStopIteration\u001b[0m: "
          ]
        }
      ]
    },
    {
      "cell_type": "code",
      "source": [
        "class mynumber:\n",
        "  def __iter__(self):\n",
        "    self.a = 1\n",
        "    return self\n",
        "  def __next__(self):\n",
        "    x = self.a\n",
        "    self.a +=1\n",
        "    return x\n",
        "\n",
        "myclass = mynumber()\n",
        "myiter  = iter(myclass)\n",
        "print(next(myiter))\n",
        "print(next(myiter))\n",
        "print(next(myiter))\n",
        "print(next(myiter))\n",
        "print(next(myiter))\n",
        "print(next(myiter))\n",
        "print(next(myiter))\n",
        "print(next(myiter))"
      ],
      "metadata": {
        "colab": {
          "base_uri": "https://localhost:8080/"
        },
        "id": "qcEhQasPCFUf",
        "outputId": "cb2be8a1-b469-492b-d49e-ab94b986c37f"
      },
      "execution_count": 18,
      "outputs": [
        {
          "output_type": "stream",
          "name": "stdout",
          "text": [
            "1\n",
            "2\n",
            "3\n",
            "4\n",
            "5\n",
            "6\n",
            "7\n",
            "8\n"
          ]
        }
      ]
    },
    {
      "cell_type": "code",
      "source": [
        "class mynumber:\n",
        "  def __iter__(self):\n",
        "    self.a = 1\n",
        "    return self\n",
        "  def __next__(self):\n",
        "    if self.a <=5:\n",
        "       x = self.a\n",
        "       self.a +=1\n",
        "       return x\n",
        "    else:\n",
        "      raise StopIteration\n",
        "\n",
        "myclass = mynumber()\n",
        "myiter  = iter(myclass)\n",
        "print(next(myiter))\n",
        "print(next(myiter))\n",
        "print(next(myiter))\n",
        "print(next(myiter))\n",
        "print(next(myiter))\n",
        "print(next(myiter))"
      ],
      "metadata": {
        "colab": {
          "base_uri": "https://localhost:8080/",
          "height": 440
        },
        "id": "aWVvhrUhBWUv",
        "outputId": "8a75f9c2-6547-47fe-88d9-c4bb2f9f79e9"
      },
      "execution_count": 26,
      "outputs": [
        {
          "output_type": "stream",
          "name": "stdout",
          "text": [
            "1\n",
            "2\n",
            "3\n",
            "4\n",
            "5\n"
          ]
        },
        {
          "output_type": "error",
          "ename": "StopIteration",
          "evalue": "ignored",
          "traceback": [
            "\u001b[0;31m---------------------------------------------------------------------------\u001b[0m",
            "\u001b[0;31mStopIteration\u001b[0m                             Traceback (most recent call last)",
            "\u001b[0;32m<ipython-input-26-5e232887590b>\u001b[0m in \u001b[0;36m<cell line: 20>\u001b[0;34m()\u001b[0m\n\u001b[1;32m     18\u001b[0m \u001b[0mprint\u001b[0m\u001b[0;34m(\u001b[0m\u001b[0mnext\u001b[0m\u001b[0;34m(\u001b[0m\u001b[0mmyiter\u001b[0m\u001b[0;34m)\u001b[0m\u001b[0;34m)\u001b[0m\u001b[0;34m\u001b[0m\u001b[0;34m\u001b[0m\u001b[0m\n\u001b[1;32m     19\u001b[0m \u001b[0mprint\u001b[0m\u001b[0;34m(\u001b[0m\u001b[0mnext\u001b[0m\u001b[0;34m(\u001b[0m\u001b[0mmyiter\u001b[0m\u001b[0;34m)\u001b[0m\u001b[0;34m)\u001b[0m\u001b[0;34m\u001b[0m\u001b[0;34m\u001b[0m\u001b[0m\n\u001b[0;32m---> 20\u001b[0;31m \u001b[0mprint\u001b[0m\u001b[0;34m(\u001b[0m\u001b[0mnext\u001b[0m\u001b[0;34m(\u001b[0m\u001b[0mmyiter\u001b[0m\u001b[0;34m)\u001b[0m\u001b[0;34m)\u001b[0m\u001b[0;34m\u001b[0m\u001b[0;34m\u001b[0m\u001b[0m\n\u001b[0m",
            "\u001b[0;32m<ipython-input-26-5e232887590b>\u001b[0m in \u001b[0;36m__next__\u001b[0;34m(self)\u001b[0m\n\u001b[1;32m      9\u001b[0m        \u001b[0;32mreturn\u001b[0m \u001b[0mx\u001b[0m\u001b[0;34m\u001b[0m\u001b[0;34m\u001b[0m\u001b[0m\n\u001b[1;32m     10\u001b[0m     \u001b[0;32melse\u001b[0m\u001b[0;34m:\u001b[0m\u001b[0;34m\u001b[0m\u001b[0;34m\u001b[0m\u001b[0m\n\u001b[0;32m---> 11\u001b[0;31m       \u001b[0;32mraise\u001b[0m \u001b[0mStopIteration\u001b[0m\u001b[0;34m\u001b[0m\u001b[0;34m\u001b[0m\u001b[0m\n\u001b[0m\u001b[1;32m     12\u001b[0m \u001b[0;34m\u001b[0m\u001b[0m\n\u001b[1;32m     13\u001b[0m \u001b[0mmyclass\u001b[0m \u001b[0;34m=\u001b[0m \u001b[0mmynumber\u001b[0m\u001b[0;34m(\u001b[0m\u001b[0;34m)\u001b[0m\u001b[0;34m\u001b[0m\u001b[0;34m\u001b[0m\u001b[0m\n",
            "\u001b[0;31mStopIteration\u001b[0m: "
          ]
        }
      ]
    },
    {
      "cell_type": "code",
      "source": [
        "class mynumber:\n",
        "  def __iter__(self):\n",
        "    self.a = 1\n",
        "    return self\n",
        "  def __next__(self):\n",
        "    if self.a <=5:\n",
        "       x = self.a\n",
        "       self.a +=1\n",
        "       return x\n",
        "    else:\n",
        "      raise StopIteration\n",
        "\n",
        "myclass = mynumber()\n",
        "myiter  = iter(myclass)\n",
        "\n",
        "for x in myiter:\n",
        "  print(x)"
      ],
      "metadata": {
        "colab": {
          "base_uri": "https://localhost:8080/"
        },
        "id": "_fxRnHwsDzu5",
        "outputId": "31549dcd-1e4c-4fbb-fc63-b1e2c71ed201"
      },
      "execution_count": 27,
      "outputs": [
        {
          "output_type": "stream",
          "name": "stdout",
          "text": [
            "1\n",
            "2\n",
            "3\n",
            "4\n",
            "5\n"
          ]
        }
      ]
    },
    {
      "cell_type": "code",
      "source": [
        "try:\n",
        "  list1 = [1,2,3,4,5,6,7]\n",
        "  myiter = iter(list1)\n",
        "  print(next(myiter))\n",
        "  print(next(myiter))\n",
        "  print(next(myiter))\n",
        "  print(next(myiter))\n",
        "  print(next(myiter))\n",
        "  print(next(myiter))\n",
        "  print(next(myiter))\n",
        "  print(next(myiter))\n",
        "Exception:\n",
        "  print(\"StopIteration: \")\n",
        "finally:\n",
        "print(\"end\")\n"
      ],
      "metadata": {
        "colab": {
          "base_uri": "https://localhost:8080/",
          "height": 145
        },
        "id": "ItxmFt8YEF5A",
        "outputId": "0a49e9fa-ea2c-4a75-d3c8-742654ddfed6"
      },
      "execution_count": 29,
      "outputs": [
        {
          "output_type": "error",
          "ename": "SyntaxError",
          "evalue": "ignored",
          "traceback": [
            "\u001b[0;36m  File \u001b[0;32m\"<ipython-input-29-eea9de2008ae>\"\u001b[0;36m, line \u001b[0;32m12\u001b[0m\n\u001b[0;31m    Exception:\u001b[0m\n\u001b[0m    ^\u001b[0m\n\u001b[0;31mSyntaxError\u001b[0m\u001b[0;31m:\u001b[0m expected 'except' or 'finally' block\n"
          ]
        }
      ]
    },
    {
      "cell_type": "code",
      "source": [
        "dict = {\"brand\":\"car\",\n",
        "        \"model\": \"2seater\",\n",
        "        \"year\" : 2012}\n",
        "print(dict)"
      ],
      "metadata": {
        "colab": {
          "base_uri": "https://localhost:8080/"
        },
        "id": "kOGawwIXGWTW",
        "outputId": "25ebd163-5fd6-4ff8-e6ad-5a64d0b6e665"
      },
      "execution_count": 31,
      "outputs": [
        {
          "output_type": "stream",
          "name": "stdout",
          "text": [
            "{'brand': 'car', 'model': '2seater', 'year': 2012}\n"
          ]
        }
      ]
    },
    {
      "cell_type": "code",
      "source": [
        "print(len(dict))"
      ],
      "metadata": {
        "colab": {
          "base_uri": "https://localhost:8080/"
        },
        "id": "2gFaOtbCG0JB",
        "outputId": "2b4832d1-cd81-4454-d97f-c84ae424f020"
      },
      "execution_count": 32,
      "outputs": [
        {
          "output_type": "stream",
          "name": "stdout",
          "text": [
            "3\n"
          ]
        }
      ]
    },
    {
      "cell_type": "code",
      "source": [
        "print(type(dict))"
      ],
      "metadata": {
        "colab": {
          "base_uri": "https://localhost:8080/"
        },
        "id": "-c1_jXu3G7cW",
        "outputId": "db971ad4-e5ff-45a1-894c-4c89d1683486"
      },
      "execution_count": 33,
      "outputs": [
        {
          "output_type": "stream",
          "name": "stdout",
          "text": [
            "<class 'dict'>\n"
          ]
        }
      ]
    },
    {
      "cell_type": "code",
      "source": [
        "dict = {\"brand\":\"car\",\n",
        "        \"model\": \"2seater\",\n",
        "        \"year\" : 2012,\n",
        "        \"color\": [\"red\",\"white\",\"black\"]}\n",
        "print(dict)"
      ],
      "metadata": {
        "colab": {
          "base_uri": "https://localhost:8080/"
        },
        "id": "Nc2j-SDoG_SR",
        "outputId": "d02655a7-0354-42fd-80b8-291053cb854e"
      },
      "execution_count": 34,
      "outputs": [
        {
          "output_type": "stream",
          "name": "stdout",
          "text": [
            "{'brand': 'car', 'model': '2seater', 'year': 2012, 'color': ['red', 'white', 'black']}\n"
          ]
        }
      ]
    },
    {
      "cell_type": "code",
      "source": [
        "x = dict[\"model\"]\n",
        "print(x)"
      ],
      "metadata": {
        "colab": {
          "base_uri": "https://localhost:8080/"
        },
        "id": "WUj4y-LyHMap",
        "outputId": "22b16c31-9460-43a1-e4d6-2a97a83bc328"
      },
      "execution_count": 35,
      "outputs": [
        {
          "output_type": "stream",
          "name": "stdout",
          "text": [
            "2seater\n"
          ]
        }
      ]
    },
    {
      "cell_type": "code",
      "source": [
        "y = dict.get(\"model\")\n",
        "print(y)"
      ],
      "metadata": {
        "colab": {
          "base_uri": "https://localhost:8080/"
        },
        "id": "L1x1TIi1HuY0",
        "outputId": "9a137789-19e6-4865-d97b-bf3dd63144b9"
      },
      "execution_count": 37,
      "outputs": [
        {
          "output_type": "stream",
          "name": "stdout",
          "text": [
            "2seater\n"
          ]
        }
      ]
    },
    {
      "cell_type": "code",
      "source": [
        "x = dict.keys()\n",
        "print(x)"
      ],
      "metadata": {
        "colab": {
          "base_uri": "https://localhost:8080/"
        },
        "id": "F4ojHPBzHz1k",
        "outputId": "12b6e773-97ec-4782-eb5a-e8a8e9409455"
      },
      "execution_count": 38,
      "outputs": [
        {
          "output_type": "stream",
          "name": "stdout",
          "text": [
            "dict_keys(['brand', 'model', 'year', 'color'])\n"
          ]
        }
      ]
    },
    {
      "cell_type": "code",
      "source": [
        "y = dict.values()\n",
        "print(y)"
      ],
      "metadata": {
        "colab": {
          "base_uri": "https://localhost:8080/"
        },
        "id": "SixSkEnUIAON",
        "outputId": "64250dd8-1c9a-4746-9131-f41439c903fd"
      },
      "execution_count": 39,
      "outputs": [
        {
          "output_type": "stream",
          "name": "stdout",
          "text": [
            "dict_values(['car', '2seater', 2012, ['red', 'white', 'black']])\n"
          ]
        }
      ]
    },
    {
      "cell_type": "code",
      "source": [
        "z = dict.items()\n",
        "print(z)"
      ],
      "metadata": {
        "colab": {
          "base_uri": "https://localhost:8080/"
        },
        "id": "6eo7Evj9II_X",
        "outputId": "8128e5af-7049-40d8-b350-068b2e8ef5b6"
      },
      "execution_count": 40,
      "outputs": [
        {
          "output_type": "stream",
          "name": "stdout",
          "text": [
            "dict_items([('brand', 'car'), ('model', '2seater'), ('year', 2012), ('color', ['red', 'white', 'black'])])\n"
          ]
        }
      ]
    },
    {
      "cell_type": "code",
      "source": [
        "for x,y in dict.items():\n",
        "  print(x,y)"
      ],
      "metadata": {
        "colab": {
          "base_uri": "https://localhost:8080/"
        },
        "id": "O-z6mheqISA7",
        "outputId": "5f955698-c3b3-4c1a-ef77-ee41570d141a"
      },
      "execution_count": 41,
      "outputs": [
        {
          "output_type": "stream",
          "name": "stdout",
          "text": [
            "brand car\n",
            "model 2seater\n",
            "year 2012\n",
            "color ['red', 'white', 'black']\n"
          ]
        }
      ]
    },
    {
      "cell_type": "code",
      "source": [
        "dict[\"year\"] = 2020\n",
        "print(dict)"
      ],
      "metadata": {
        "colab": {
          "base_uri": "https://localhost:8080/"
        },
        "id": "TFGHEjfoIfoC",
        "outputId": "0f2ba35f-6c83-43cc-8c93-e1b93b716d31"
      },
      "execution_count": 42,
      "outputs": [
        {
          "output_type": "stream",
          "name": "stdout",
          "text": [
            "{'brand': 'car', 'model': '2seater', 'year': 2020, 'color': ['red', 'white', 'black']}\n"
          ]
        }
      ]
    },
    {
      "cell_type": "code",
      "source": [
        "dict[\"whells\"] = 2\n",
        "print(dict)"
      ],
      "metadata": {
        "colab": {
          "base_uri": "https://localhost:8080/"
        },
        "id": "8eRFK_OFI57x",
        "outputId": "20bbabb9-9e6a-4ef9-ef69-25f2abcc73e4"
      },
      "execution_count": 43,
      "outputs": [
        {
          "output_type": "stream",
          "name": "stdout",
          "text": [
            "{'brand': 'car', 'model': '2seater', 'year': 2020, 'color': ['red', 'white', 'black'], 'whells': 2}\n"
          ]
        }
      ]
    },
    {
      "cell_type": "code",
      "source": [
        "dict.update({\"year\":2023})\n",
        "print(dict)"
      ],
      "metadata": {
        "colab": {
          "base_uri": "https://localhost:8080/"
        },
        "id": "oLT5gMdsJCbh",
        "outputId": "38e84acd-23e2-4d53-feb6-d05415bf8c80"
      },
      "execution_count": 44,
      "outputs": [
        {
          "output_type": "stream",
          "name": "stdout",
          "text": [
            "{'brand': 'car', 'model': '2seater', 'year': 2023, 'color': ['red', 'white', 'black'], 'whells': 2}\n"
          ]
        }
      ]
    },
    {
      "cell_type": "code",
      "source": [
        "dict.update({\"move\":\"drive\"})\n",
        "print(dict)"
      ],
      "metadata": {
        "colab": {
          "base_uri": "https://localhost:8080/"
        },
        "id": "ceqMaQNsJOQ_",
        "outputId": "80c4a3e3-e744-4ccc-8fa6-464559cf0a8c"
      },
      "execution_count": 45,
      "outputs": [
        {
          "output_type": "stream",
          "name": "stdout",
          "text": [
            "{'brand': 'car', 'model': '2seater', 'year': 2023, 'color': ['red', 'white', 'black'], 'whells': 2, 'move': 'drive'}\n"
          ]
        }
      ]
    },
    {
      "cell_type": "code",
      "source": [
        "dict.pop(\"whells\")\n",
        "print(dict)"
      ],
      "metadata": {
        "colab": {
          "base_uri": "https://localhost:8080/"
        },
        "id": "G12VWf3uJWo_",
        "outputId": "56d7b8da-be39-4866-e7ba-15387264b0eb"
      },
      "execution_count": 46,
      "outputs": [
        {
          "output_type": "stream",
          "name": "stdout",
          "text": [
            "{'brand': 'car', 'model': '2seater', 'year': 2023, 'color': ['red', 'white', 'black'], 'move': 'drive'}\n"
          ]
        }
      ]
    },
    {
      "cell_type": "code",
      "source": [
        "dict.popitem()\n",
        "print(dict)"
      ],
      "metadata": {
        "colab": {
          "base_uri": "https://localhost:8080/"
        },
        "id": "iYH8B2pzJjTe",
        "outputId": "24ea6c4f-99a0-4ea5-c1f4-6bf084138021"
      },
      "execution_count": 47,
      "outputs": [
        {
          "output_type": "stream",
          "name": "stdout",
          "text": [
            "{'brand': 'car', 'model': '2seater', 'year': 2023, 'color': ['red', 'white', 'black']}\n"
          ]
        }
      ]
    },
    {
      "cell_type": "code",
      "source": [
        "del dict[\"color\"]\n",
        "print(dict)"
      ],
      "metadata": {
        "colab": {
          "base_uri": "https://localhost:8080/"
        },
        "id": "p5NUtIFaJsEg",
        "outputId": "b9556f93-af56-48fd-de43-3bab42058471"
      },
      "execution_count": 48,
      "outputs": [
        {
          "output_type": "stream",
          "name": "stdout",
          "text": [
            "{'brand': 'car', 'model': '2seater', 'year': 2023}\n"
          ]
        }
      ]
    },
    {
      "cell_type": "code",
      "source": [
        "dict.clear()\n",
        "print(dict)"
      ],
      "metadata": {
        "colab": {
          "base_uri": "https://localhost:8080/"
        },
        "id": "IptscVUUJ0O7",
        "outputId": "99ad15f6-a264-441e-8bd9-a869288c48e3"
      },
      "execution_count": 49,
      "outputs": [
        {
          "output_type": "stream",
          "name": "stdout",
          "text": [
            "{}\n"
          ]
        }
      ]
    },
    {
      "cell_type": "code",
      "source": [
        "dict0 = {\"brand\":\"car\",\n",
        "        \"model\": \"2seater\",\n",
        "        \"year\" : 2012}\n",
        "dict1 = dict0\n",
        "\n",
        "dict3 = dict0.copy()\n",
        "\n",
        "print(dict0)\n",
        "print(\"*******\")\n",
        "print(dict1)\n",
        "\n",
        "\n",
        "print(\"*******\")\n",
        "print(dict3)"
      ],
      "metadata": {
        "colab": {
          "base_uri": "https://localhost:8080/"
        },
        "id": "AtCZnrPIJ8Y_",
        "outputId": "a8b88e7f-5d09-479d-b17b-79c2011fb385"
      },
      "execution_count": 54,
      "outputs": [
        {
          "output_type": "stream",
          "name": "stdout",
          "text": [
            "{'brand': 'car', 'model': '2seater', 'year': 2012}\n",
            "*******\n",
            "{'brand': 'car', 'model': '2seater', 'year': 2012}\n",
            "*******\n",
            "{'brand': 'car', 'model': '2seater', 'year': 2012}\n"
          ]
        }
      ]
    },
    {
      "cell_type": "code",
      "source": [
        "family = {\"child1\":{\n",
        "                    \"year\":2007,\n",
        "                    \"name\":\"ram\"},\n",
        "          \"child2\":{\n",
        "                    \"year\":2010,\n",
        "                    \"name\":\"lakshmi\"},\n",
        "          \"child3\":{\n",
        "                    \"year\":2012,\n",
        "                    \"name\":\"hari\"}\n",
        "          }\n",
        "\n",
        "print(family)"
      ],
      "metadata": {
        "colab": {
          "base_uri": "https://localhost:8080/"
        },
        "id": "Sj020io8Li__",
        "outputId": "c7c61961-5e89-4387-bc98-ffdbe8c938ad"
      },
      "execution_count": 55,
      "outputs": [
        {
          "output_type": "stream",
          "name": "stdout",
          "text": [
            "{'child1': {'year': 2007, 'name': 'ram'}, 'child2': {'year': 2010, 'name': 'lakshmi'}, 'child3': {'year': 2012, 'name': 'hari'}}\n"
          ]
        }
      ]
    },
    {
      "cell_type": "code",
      "source": [
        "child1 ={\n",
        "       \"year\":2007,\n",
        "       \"name\":\"ram\"}\n",
        "child2 ={\n",
        "        \"year\":2010,\n",
        "        \"name\":\"lakshmi\"}\n",
        "child3 ={\n",
        "         \"year\":2012,\n",
        "         \"name\":\"hari\"}\n",
        "\n",
        "family ={\n",
        "          \"child1\":child1,\n",
        "          \"child2\":child2,\n",
        "          \"child3\":child3\n",
        "\n",
        "}\n",
        "\n",
        "print(family)"
      ],
      "metadata": {
        "colab": {
          "base_uri": "https://localhost:8080/"
        },
        "id": "G-umj3l8MgHh",
        "outputId": "a5216cfa-f4fb-46b7-89b6-d2786fbb82eb"
      },
      "execution_count": 56,
      "outputs": [
        {
          "output_type": "stream",
          "name": "stdout",
          "text": [
            "{'child1': {'year': 2007, 'name': 'ram'}, 'child2': {'year': 2010, 'name': 'lakshmi'}, 'child3': {'year': 2012, 'name': 'hari'}}\n"
          ]
        }
      ]
    },
    {
      "cell_type": "code",
      "source": [
        "print(\"lakshmi \\n durga\")\n"
      ],
      "metadata": {
        "colab": {
          "base_uri": "https://localhost:8080/"
        },
        "id": "B2BZ9kL8NKuw",
        "outputId": "93ded63d-28ff-4a7c-bc79-ca339137c1a9"
      },
      "execution_count": 58,
      "outputs": [
        {
          "output_type": "stream",
          "name": "stdout",
          "text": [
            "lakshmi \n",
            " durga\n"
          ]
        }
      ]
    },
    {
      "cell_type": "code",
      "source": [
        "print('it\\'s alright')"
      ],
      "metadata": {
        "colab": {
          "base_uri": "https://localhost:8080/"
        },
        "id": "PDAkeOZUNvvt",
        "outputId": "35170cd4-940f-4eb3-de2d-07142fb37162"
      },
      "execution_count": 59,
      "outputs": [
        {
          "output_type": "stream",
          "name": "stdout",
          "text": [
            "it's alright\n"
          ]
        }
      ]
    },
    {
      "cell_type": "code",
      "source": [
        "print('it \\\\ s alright')"
      ],
      "metadata": {
        "colab": {
          "base_uri": "https://localhost:8080/"
        },
        "id": "rniCTCT3OKpM",
        "outputId": "f7bb68da-6461-4708-8f45-1d18957adde7"
      },
      "execution_count": 60,
      "outputs": [
        {
          "output_type": "stream",
          "name": "stdout",
          "text": [
            "it \\ s alright\n"
          ]
        }
      ]
    },
    {
      "cell_type": "code",
      "source": [
        "print(\"#\")"
      ],
      "metadata": {
        "colab": {
          "base_uri": "https://localhost:8080/"
        },
        "id": "AqODp4Y4ORr1",
        "outputId": "44f2db75-9b35-49de-f0a3-69b9315e50b4"
      },
      "execution_count": 61,
      "outputs": [
        {
          "output_type": "stream",
          "name": "stdout",
          "text": [
            "#\n"
          ]
        }
      ]
    },
    {
      "cell_type": "code",
      "source": [
        "print(\"lakshmi\\t\\tdurga\")"
      ],
      "metadata": {
        "colab": {
          "base_uri": "https://localhost:8080/"
        },
        "id": "EjJelEhdObxb",
        "outputId": "695e4170-a6e4-4d2e-dab2-f865b7b3cbf3"
      },
      "execution_count": 63,
      "outputs": [
        {
          "output_type": "stream",
          "name": "stdout",
          "text": [
            "lakshmi\t\tdurga\n"
          ]
        }
      ]
    },
    {
      "cell_type": "code",
      "source": [
        "print(\"lakshmi \\bdurga\")"
      ],
      "metadata": {
        "colab": {
          "base_uri": "https://localhost:8080/"
        },
        "id": "L2VHP0foOsoo",
        "outputId": "c03b04dc-ec90-4892-ed93-cad81477c469"
      },
      "execution_count": 65,
      "outputs": [
        {
          "output_type": "stream",
          "name": "stdout",
          "text": [
            "lakshmi \bdurga\n"
          ]
        }
      ]
    },
    {
      "cell_type": "code",
      "source": [
        "def sum_even(list):\n",
        "  sum = 0\n",
        "  for i in list:\n",
        "    if i%2 == 0:\n",
        "         sum+=i\n",
        "  return sum\n",
        "\n",
        "list = [1,2,3,4,5,6]\n",
        "var = sum_even(list)\n",
        "print(var)\n"
      ],
      "metadata": {
        "colab": {
          "base_uri": "https://localhost:8080/"
        },
        "id": "5flqOzHcO6xX",
        "outputId": "8d7633e5-e1fa-4472-8515-b14239fcea26"
      },
      "execution_count": 66,
      "outputs": [
        {
          "output_type": "stream",
          "name": "stdout",
          "text": [
            "12\n"
          ]
        }
      ]
    },
    {
      "cell_type": "code",
      "source": [
        "x = lambda a : a +10\n",
        "print(x(10))"
      ],
      "metadata": {
        "colab": {
          "base_uri": "https://localhost:8080/"
        },
        "id": "l6OU_OavP-sK",
        "outputId": "c30d0c5c-0ead-4b21-b50b-93e2095fc4cb"
      },
      "execution_count": 67,
      "outputs": [
        {
          "output_type": "stream",
          "name": "stdout",
          "text": [
            "20\n"
          ]
        }
      ]
    },
    {
      "cell_type": "code",
      "source": [
        "def myfun(n):\n",
        "  return lambda a : a*n\n",
        "\n",
        "mylist = myfun(3)\n",
        "print(mylist(10))\n"
      ],
      "metadata": {
        "colab": {
          "base_uri": "https://localhost:8080/"
        },
        "id": "ISpQjApWQfCc",
        "outputId": "69248041-9121-4068-d3c4-b0479b7d9eea"
      },
      "execution_count": 68,
      "outputs": [
        {
          "output_type": "stream",
          "name": "stdout",
          "text": [
            "30\n"
          ]
        }
      ]
    },
    {
      "cell_type": "code",
      "source": [],
      "metadata": {
        "id": "_D0lhbvzQ5lK"
      },
      "execution_count": null,
      "outputs": []
    }
  ]
}