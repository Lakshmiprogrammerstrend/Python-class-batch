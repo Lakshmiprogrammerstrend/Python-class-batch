{
  "nbformat": 4,
  "nbformat_minor": 0,
  "metadata": {
    "colab": {
      "provenance": []
    },
    "kernelspec": {
      "name": "python3",
      "display_name": "Python 3"
    },
    "language_info": {
      "name": "python"
    }
  },
  "cells": [
    {
      "cell_type": "code",
      "source": [
        "list1 = []\n",
        "tuple1 = (1, 2, 3, 4, 5)\n",
        "\n",
        "for i in tuple1:\n",
        "    x = i + 5\n",
        "    list1.append(x)\n",
        "\n",
        "print(list1)\n"
      ],
      "metadata": {
        "colab": {
          "base_uri": "https://localhost:8080/",
          "height": 0
        },
        "id": "vgP12WX2IRhO",
        "outputId": "8eab230d-db22-4434-fcb4-890e88f561c6"
      },
      "execution_count": 3,
      "outputs": [
        {
          "output_type": "stream",
          "name": "stdout",
          "text": [
            "[6, 7, 8, 9, 10]\n"
          ]
        }
      ]
    },
    {
      "cell_type": "code",
      "source": [
        "#Count\n",
        "tuple1 = (1, 2, 3, 4, 5,1,1)\n",
        "print(tuple1.count(1))"
      ],
      "metadata": {
        "colab": {
          "base_uri": "https://localhost:8080/",
          "height": 0
        },
        "id": "WigJummkI0zN",
        "outputId": "d5215544-3200-45a1-e6a0-24ceef9eb6cc"
      },
      "execution_count": 4,
      "outputs": [
        {
          "output_type": "stream",
          "name": "stdout",
          "text": [
            "3\n"
          ]
        }
      ]
    },
    {
      "cell_type": "code",
      "source": [
        "#index\n",
        "print(tuple1.index(4))"
      ],
      "metadata": {
        "colab": {
          "base_uri": "https://localhost:8080/",
          "height": 0
        },
        "id": "9h72iJZCJPa9",
        "outputId": "0efc575c-26ad-4926-c174-1573f14ef269"
      },
      "execution_count": 5,
      "outputs": [
        {
          "output_type": "stream",
          "name": "stdout",
          "text": [
            "3\n"
          ]
        }
      ]
    },
    {
      "cell_type": "markdown",
      "source": [
        "##thisdict = {\"car1\":\"ford\",\"car2\":\"benz\",\"car3\":\"lakshmi\"}"
      ],
      "metadata": {
        "id": "vON6VCLMKZBV"
      }
    },
    {
      "cell_type": "code",
      "source": [
        "#{}\n",
        "thisdict = {\"car1\":\"ford\",\"car2\":\"benz\",\"car3\":\"lakshmi\"}\n",
        "print(thisdict)"
      ],
      "metadata": {
        "colab": {
          "base_uri": "https://localhost:8080/",
          "height": 0
        },
        "id": "g3iDo8keKErp",
        "outputId": "7bcd88f8-7a80-4158-9f53-22d1a154c56c"
      },
      "execution_count": 6,
      "outputs": [
        {
          "output_type": "stream",
          "name": "stdout",
          "text": [
            "{'car1': 'ford', 'car2': 'benz', 'car3': 'lakshmi'}\n"
          ]
        }
      ]
    },
    {
      "cell_type": "code",
      "source": [
        "\"\"\"\n",
        "change\n",
        "not allowed duplicates --key , allow duplicates -values\n",
        ">3.0 on ordered\n",
        "update\n",
        "delete\n",
        "\"\"\""
      ],
      "metadata": {
        "id": "xHH0NLOpKlGc"
      },
      "execution_count": null,
      "outputs": []
    },
    {
      "cell_type": "code",
      "source": [
        "print(type(thisdict))"
      ],
      "metadata": {
        "colab": {
          "base_uri": "https://localhost:8080/",
          "height": 0
        },
        "id": "IbKamUp6LGkw",
        "outputId": "6d1edf7f-dcbd-4c45-8d3b-f63b6ad98e4e"
      },
      "execution_count": 7,
      "outputs": [
        {
          "output_type": "stream",
          "name": "stdout",
          "text": [
            "<class 'dict'>\n"
          ]
        }
      ]
    },
    {
      "cell_type": "code",
      "source": [
        "print(len(thisdict))"
      ],
      "metadata": {
        "colab": {
          "base_uri": "https://localhost:8080/",
          "height": 0
        },
        "id": "C_KaDEqWLJzw",
        "outputId": "f44e2a70-c6eb-4a01-cf02-04e258a36669"
      },
      "execution_count": 8,
      "outputs": [
        {
          "output_type": "stream",
          "name": "stdout",
          "text": [
            "3\n"
          ]
        }
      ]
    },
    {
      "cell_type": "code",
      "source": [
        "dict1 = {\"brand\": \"ford\",\n",
        "          \"electric\": \"false\",\n",
        "          \"year\":1964,\n",
        "          \"colors\":[\"red\",\"white\",\"blue\",\"red\"]\n",
        "          }\n",
        "print(dict1)"
      ],
      "metadata": {
        "colab": {
          "base_uri": "https://localhost:8080/",
          "height": 0
        },
        "id": "5ncNAxZzLPdV",
        "outputId": "dc6c5bf1-3bf7-44eb-fbae-d8391883b9af"
      },
      "execution_count": 10,
      "outputs": [
        {
          "output_type": "stream",
          "name": "stdout",
          "text": [
            "{'brand': 'ford', 'electric': 'false', 'year': 1964, 'colors': ['red', 'white', 'blue', 'red']}\n"
          ]
        }
      ]
    },
    {
      "cell_type": "code",
      "source": [
        "dict2 = {\"brand\": \"ford\",\n",
        "         \"brand\": \"ford\",\n",
        "          \"electric\": \"false\",\n",
        "          \"year\":1964,\n",
        "          \"colors\":[\"red\",\"white\",\"blue\",\"red\"]\n",
        "          }\n",
        "print(dict2)"
      ],
      "metadata": {
        "colab": {
          "base_uri": "https://localhost:8080/",
          "height": 0
        },
        "id": "NjvW81cLMGQA",
        "outputId": "13e90a03-65eb-40e6-f81b-520ca4967fea"
      },
      "execution_count": 11,
      "outputs": [
        {
          "output_type": "stream",
          "name": "stdout",
          "text": [
            "{'brand': 'ford', 'electric': 'false', 'year': 1964, 'colors': ['red', 'white', 'blue', 'red']}\n"
          ]
        }
      ]
    },
    {
      "cell_type": "code",
      "source": [
        "a = dict(name = \"laksmi\",country = \"india\",number = 123456)\n",
        "print(a)"
      ],
      "metadata": {
        "colab": {
          "base_uri": "https://localhost:8080/",
          "height": 0
        },
        "id": "ktiA3xtDMPwU",
        "outputId": "b9381ebb-e019-4967-a74d-25059e69c054"
      },
      "execution_count": 12,
      "outputs": [
        {
          "output_type": "stream",
          "name": "stdout",
          "text": [
            "{'name': 'laksmi', 'country': 'india', 'number': 123456}\n"
          ]
        }
      ]
    },
    {
      "cell_type": "code",
      "source": [
        "list = [1,2,3]\n",
        "print(list[2])"
      ],
      "metadata": {
        "colab": {
          "base_uri": "https://localhost:8080/",
          "height": 0
        },
        "id": "-TMEKslJM1D6",
        "outputId": "38a28462-0999-4a17-85ce-1c7c4b020465"
      },
      "execution_count": 13,
      "outputs": [
        {
          "output_type": "stream",
          "name": "stdout",
          "text": [
            "3\n"
          ]
        }
      ]
    },
    {
      "cell_type": "code",
      "source": [
        "print(a[\"name\"])"
      ],
      "metadata": {
        "colab": {
          "base_uri": "https://localhost:8080/",
          "height": 0
        },
        "id": "WShNJdBCNLwz",
        "outputId": "ff600fe3-a9b7-4f8c-9ef9-40a2969495c8"
      },
      "execution_count": 14,
      "outputs": [
        {
          "output_type": "stream",
          "name": "stdout",
          "text": [
            "laksmi\n"
          ]
        }
      ]
    },
    {
      "cell_type": "code",
      "source": [
        "print(a.get(\"name\"))"
      ],
      "metadata": {
        "colab": {
          "base_uri": "https://localhost:8080/",
          "height": 0
        },
        "id": "J-7BPPfaNTBL",
        "outputId": "d182bfb4-cff9-4313-9cb5-f04985fb61db"
      },
      "execution_count": 15,
      "outputs": [
        {
          "output_type": "stream",
          "name": "stdout",
          "text": [
            "laksmi\n"
          ]
        }
      ]
    },
    {
      "cell_type": "code",
      "source": [
        "print(a.keys())"
      ],
      "metadata": {
        "colab": {
          "base_uri": "https://localhost:8080/",
          "height": 0
        },
        "id": "rj0-cXesNZ5g",
        "outputId": "0c992dae-2f36-4872-c996-dab16ff654e8"
      },
      "execution_count": 16,
      "outputs": [
        {
          "output_type": "stream",
          "name": "stdout",
          "text": [
            "dict_keys(['name', 'country', 'number'])\n"
          ]
        }
      ]
    },
    {
      "cell_type": "code",
      "source": [
        "print(a.values())"
      ],
      "metadata": {
        "colab": {
          "base_uri": "https://localhost:8080/",
          "height": 0
        },
        "id": "_s5JvzYoNgyx",
        "outputId": "1e8ca3be-23e4-46a8-fb5e-f2441cab437d"
      },
      "execution_count": 17,
      "outputs": [
        {
          "output_type": "stream",
          "name": "stdout",
          "text": [
            "dict_values(['laksmi', 'india', 123456])\n"
          ]
        }
      ]
    },
    {
      "cell_type": "code",
      "source": [
        "print(a.items())"
      ],
      "metadata": {
        "colab": {
          "base_uri": "https://localhost:8080/",
          "height": 0
        },
        "id": "P7RDbYaiNt3W",
        "outputId": "558319e3-9005-485c-ef5c-a3a463e273a2"
      },
      "execution_count": 18,
      "outputs": [
        {
          "output_type": "stream",
          "name": "stdout",
          "text": [
            "dict_items([('name', 'laksmi'), ('country', 'india'), ('number', 123456)])\n"
          ]
        }
      ]
    },
    {
      "cell_type": "code",
      "source": [
        "a[\"name\"] = \"dodda\"\n",
        "print(a)"
      ],
      "metadata": {
        "colab": {
          "base_uri": "https://localhost:8080/",
          "height": 0
        },
        "id": "0HuTW1DPNzxh",
        "outputId": "351bf567-84dc-4bbb-ab08-70fff2e3b24b"
      },
      "execution_count": 19,
      "outputs": [
        {
          "output_type": "stream",
          "name": "stdout",
          "text": [
            "{'name': 'dodda', 'country': 'india', 'number': 123456}\n"
          ]
        }
      ]
    },
    {
      "cell_type": "code",
      "source": [
        "a.update({\"name\":\"lakshmi\"})\n",
        "print(a)"
      ],
      "metadata": {
        "colab": {
          "base_uri": "https://localhost:8080/",
          "height": 0
        },
        "id": "FzLxCSXYOGH2",
        "outputId": "baa6e19b-d5f5-45a5-dfee-2c592173425d"
      },
      "execution_count": 21,
      "outputs": [
        {
          "output_type": "stream",
          "name": "stdout",
          "text": [
            "{'name': 'lakshmi', 'country': 'india', 'number': 123456}\n"
          ]
        }
      ]
    },
    {
      "cell_type": "code",
      "source": [
        "a[\"car\"] = \"benz\"\n",
        "print(a)"
      ],
      "metadata": {
        "colab": {
          "base_uri": "https://localhost:8080/",
          "height": 0
        },
        "id": "N_X2ywMoOSh_",
        "outputId": "81ae0499-3245-4fdf-add6-8723fe818363"
      },
      "execution_count": 22,
      "outputs": [
        {
          "output_type": "stream",
          "name": "stdout",
          "text": [
            "{'name': 'lakshmi', 'country': 'india', 'number': 123456, 'car': 'benz'}\n"
          ]
        }
      ]
    },
    {
      "cell_type": "code",
      "source": [
        "a.update({\"color\":\"red\"})\n",
        "print(a)"
      ],
      "metadata": {
        "colab": {
          "base_uri": "https://localhost:8080/",
          "height": 0
        },
        "id": "cUQKhymFOrcQ",
        "outputId": "6a404ded-c2f5-4944-a185-290d5b5dd62f"
      },
      "execution_count": 23,
      "outputs": [
        {
          "output_type": "stream",
          "name": "stdout",
          "text": [
            "{'name': 'lakshmi', 'country': 'india', 'number': 123456, 'car': 'benz', 'color': 'red'}\n"
          ]
        }
      ]
    },
    {
      "cell_type": "code",
      "source": [
        "a.pop(\"color\")\n",
        "print(a)"
      ],
      "metadata": {
        "colab": {
          "base_uri": "https://localhost:8080/",
          "height": 0
        },
        "id": "nK4L36M5O2AT",
        "outputId": "e2877059-519b-40a8-8d26-7937682d8217"
      },
      "execution_count": 24,
      "outputs": [
        {
          "output_type": "stream",
          "name": "stdout",
          "text": [
            "{'name': 'lakshmi', 'country': 'india', 'number': 123456, 'car': 'benz'}\n"
          ]
        }
      ]
    },
    {
      "cell_type": "code",
      "source": [
        "a.popitem()\n",
        "print(a)\n"
      ],
      "metadata": {
        "colab": {
          "base_uri": "https://localhost:8080/",
          "height": 0
        },
        "id": "8DBp_kLWPTql",
        "outputId": "b96fa753-96b0-4518-de26-c8cf87cd16b9"
      },
      "execution_count": 25,
      "outputs": [
        {
          "output_type": "stream",
          "name": "stdout",
          "text": [
            "{'name': 'lakshmi', 'country': 'india', 'number': 123456}\n"
          ]
        }
      ]
    },
    {
      "cell_type": "code",
      "source": [
        "del a[\"number\"]\n",
        "print(a)"
      ],
      "metadata": {
        "colab": {
          "base_uri": "https://localhost:8080/",
          "height": 0
        },
        "id": "Ls-44uRfPeTm",
        "outputId": "e9cc17cf-6e1f-433d-e0a4-d46d379f63c5"
      },
      "execution_count": 26,
      "outputs": [
        {
          "output_type": "stream",
          "name": "stdout",
          "text": [
            "{'name': 'lakshmi', 'country': 'india'}\n"
          ]
        }
      ]
    },
    {
      "cell_type": "code",
      "source": [
        "a.clear()\n",
        "print(a)"
      ],
      "metadata": {
        "colab": {
          "base_uri": "https://localhost:8080/",
          "height": 0
        },
        "id": "Ss2tYn71Po_f",
        "outputId": "85721e4b-e156-4ae5-e568-56d16d08ed17"
      },
      "execution_count": 27,
      "outputs": [
        {
          "metadata": {
            "tags": null
          },
          "name": "stdout",
          "output_type": "stream",
          "text": [
            "{}\n"
          ]
        }
      ]
    },
    {
      "cell_type": "code",
      "source": [
        "del a"
      ],
      "metadata": {
        "id": "jiugJwI4PwU7"
      },
      "execution_count": 28,
      "outputs": []
    },
    {
      "cell_type": "code",
      "source": [
        "print(a)"
      ],
      "metadata": {
        "colab": {
          "base_uri": "https://localhost:8080/",
          "height": 182
        },
        "id": "lQ8pY95FPzEM",
        "outputId": "c4b9bf35-fec9-4746-c0fe-9ac1508c8376"
      },
      "execution_count": 29,
      "outputs": [
        {
          "output_type": "error",
          "ename": "NameError",
          "evalue": "ignored",
          "traceback": [
            "\u001b[0;31m---------------------------------------------------------------------------\u001b[0m",
            "\u001b[0;31mNameError\u001b[0m                                 Traceback (most recent call last)",
            "\u001b[0;32m<ipython-input-29-bca0e2660b9f>\u001b[0m in \u001b[0;36m<cell line: 1>\u001b[0;34m()\u001b[0m\n\u001b[0;32m----> 1\u001b[0;31m \u001b[0mprint\u001b[0m\u001b[0;34m(\u001b[0m\u001b[0ma\u001b[0m\u001b[0;34m)\u001b[0m\u001b[0;34m\u001b[0m\u001b[0;34m\u001b[0m\u001b[0m\n\u001b[0m",
            "\u001b[0;31mNameError\u001b[0m: name 'a' is not defined"
          ]
        }
      ]
    },
    {
      "cell_type": "code",
      "source": [
        "dict2 = {\"brand\": \"ford\",\n",
        "         \"brand\": \"ford\",\n",
        "          \"electric\": \"false\",\n",
        "          \"year\":1964,\n",
        "          \"colors\":[\"red\",\"white\",\"blue\",\"red\"]\n",
        "          }\n",
        "print(dict2)"
      ],
      "metadata": {
        "colab": {
          "base_uri": "https://localhost:8080/",
          "height": 0
        },
        "id": "Md7WjpYQP9uN",
        "outputId": "e4316739-3d65-455c-d309-6513416cc724"
      },
      "execution_count": 30,
      "outputs": [
        {
          "output_type": "stream",
          "name": "stdout",
          "text": [
            "{'brand': 'ford', 'electric': 'false', 'year': 1964, 'colors': ['red', 'white', 'blue', 'red']}\n"
          ]
        }
      ]
    },
    {
      "cell_type": "code",
      "source": [
        "for  x in dict2:\n",
        "  print(x)"
      ],
      "metadata": {
        "colab": {
          "base_uri": "https://localhost:8080/",
          "height": 0
        },
        "id": "qSGbocphQOL7",
        "outputId": "740d3e0b-45a6-4c44-8b73-1f28da3a8acf"
      },
      "execution_count": 31,
      "outputs": [
        {
          "output_type": "stream",
          "name": "stdout",
          "text": [
            "brand\n",
            "electric\n",
            "year\n",
            "colors\n"
          ]
        }
      ]
    },
    {
      "cell_type": "code",
      "source": [
        "for  x in dict2:\n",
        "  print(dict2[x])"
      ],
      "metadata": {
        "colab": {
          "base_uri": "https://localhost:8080/",
          "height": 0
        },
        "id": "JdLvZtzuQlLy",
        "outputId": "43d51aea-669f-41e5-8a31-f5c2c21fd0c7"
      },
      "execution_count": 32,
      "outputs": [
        {
          "output_type": "stream",
          "name": "stdout",
          "text": [
            "ford\n",
            "false\n",
            "1964\n",
            "['red', 'white', 'blue', 'red']\n"
          ]
        }
      ]
    },
    {
      "cell_type": "code",
      "source": [
        "for x in dict2.values():\n",
        "  print(x)"
      ],
      "metadata": {
        "colab": {
          "base_uri": "https://localhost:8080/",
          "height": 0
        },
        "id": "BT3f4iN_Q1Xg",
        "outputId": "bcbb3681-60da-4659-a913-3102de0ee648"
      },
      "execution_count": 33,
      "outputs": [
        {
          "output_type": "stream",
          "name": "stdout",
          "text": [
            "ford\n",
            "false\n",
            "1964\n",
            "['red', 'white', 'blue', 'red']\n"
          ]
        }
      ]
    },
    {
      "cell_type": "code",
      "source": [
        "for x in dict2.keys():\n",
        "  print(x)"
      ],
      "metadata": {
        "colab": {
          "base_uri": "https://localhost:8080/",
          "height": 0
        },
        "id": "y7Lm7nawQ9eQ",
        "outputId": "d10d4e5d-dd63-40c0-b5b0-c05f65c9f6f3"
      },
      "execution_count": 34,
      "outputs": [
        {
          "output_type": "stream",
          "name": "stdout",
          "text": [
            "brand\n",
            "electric\n",
            "year\n",
            "colors\n"
          ]
        }
      ]
    },
    {
      "cell_type": "code",
      "source": [
        "for x,y in dict2.items():\n",
        "  print(x,\":\" ,y)"
      ],
      "metadata": {
        "colab": {
          "base_uri": "https://localhost:8080/",
          "height": 0
        },
        "id": "n3IXHp6lRDS7",
        "outputId": "18c75066-3946-4493-b4d2-772ebf890039"
      },
      "execution_count": 36,
      "outputs": [
        {
          "output_type": "stream",
          "name": "stdout",
          "text": [
            "brand : ford\n",
            "electric : false\n",
            "year : 1964\n",
            "colors : ['red', 'white', 'blue', 'red']\n"
          ]
        }
      ]
    },
    {
      "cell_type": "code",
      "source": [
        "print(dict2 )"
      ],
      "metadata": {
        "colab": {
          "base_uri": "https://localhost:8080/",
          "height": 0
        },
        "id": "BhAP50RJRPeN",
        "outputId": "3ba9d543-eab2-490e-dd51-622470eff53e"
      },
      "execution_count": 37,
      "outputs": [
        {
          "output_type": "stream",
          "name": "stdout",
          "text": [
            "{'brand': 'ford', 'electric': 'false', 'year': 1964, 'colors': ['red', 'white', 'blue', 'red']}\n"
          ]
        }
      ]
    },
    {
      "cell_type": "code",
      "source": [
        "dict3 = dict2\n",
        "print(dict3)"
      ],
      "metadata": {
        "colab": {
          "base_uri": "https://localhost:8080/",
          "height": 0
        },
        "id": "VJ8ho2M1Rf6O",
        "outputId": "012e8079-514e-4b2f-c68d-0763e6fe1899"
      },
      "execution_count": 38,
      "outputs": [
        {
          "output_type": "stream",
          "name": "stdout",
          "text": [
            "{'brand': 'ford', 'electric': 'false', 'year': 1964, 'colors': ['red', 'white', 'blue', 'red']}\n"
          ]
        }
      ]
    },
    {
      "cell_type": "code",
      "source": [
        "dict3[\"year\"] = 2023\n",
        "print(dict3)"
      ],
      "metadata": {
        "colab": {
          "base_uri": "https://localhost:8080/",
          "height": 0
        },
        "id": "7fglV9zYRntC",
        "outputId": "1a51ee09-b601-401f-a7cc-dee4d2d70f98"
      },
      "execution_count": 39,
      "outputs": [
        {
          "output_type": "stream",
          "name": "stdout",
          "text": [
            "{'brand': 'ford', 'electric': 'false', 'year': 2023, 'colors': ['red', 'white', 'blue', 'red']}\n"
          ]
        }
      ]
    },
    {
      "cell_type": "code",
      "source": [
        "print(dict2)"
      ],
      "metadata": {
        "id": "ADXY7bTZR8kC",
        "outputId": "461c7c70-2801-4df9-c92f-04549b0efcf3",
        "colab": {
          "base_uri": "https://localhost:8080/",
          "height": 0
        }
      },
      "execution_count": 40,
      "outputs": [
        {
          "output_type": "stream",
          "name": "stdout",
          "text": [
            "{'brand': 'ford', 'electric': 'false', 'year': 2023, 'colors': ['red', 'white', 'blue', 'red']}\n"
          ]
        }
      ]
    },
    {
      "cell_type": "code",
      "source": [
        "mydict = dict(dict3)\n",
        "print(mydict)"
      ],
      "metadata": {
        "id": "B2Y7q4cFR-11",
        "outputId": "80aceac9-b1d1-4f54-e7d6-966a70ee338b",
        "colab": {
          "base_uri": "https://localhost:8080/",
          "height": 0
        }
      },
      "execution_count": 41,
      "outputs": [
        {
          "output_type": "stream",
          "name": "stdout",
          "text": [
            "{'brand': 'ford', 'electric': 'false', 'year': 2023, 'colors': ['red', 'white', 'blue', 'red']}\n"
          ]
        }
      ]
    },
    {
      "cell_type": "code",
      "source": [
        "dict4 = dict3.copy()\n",
        "print(dict4)"
      ],
      "metadata": {
        "id": "SXoTOTjoSpGI",
        "outputId": "f8e8703c-23ca-40e8-fbfd-479fe12e7e34",
        "colab": {
          "base_uri": "https://localhost:8080/",
          "height": 0
        }
      },
      "execution_count": 42,
      "outputs": [
        {
          "output_type": "stream",
          "name": "stdout",
          "text": [
            "{'brand': 'ford', 'electric': 'false', 'year': 2023, 'colors': ['red', 'white', 'blue', 'red']}\n"
          ]
        }
      ]
    },
    {
      "cell_type": "code",
      "source": [
        "dict4[\"year\"]  = 2012\n",
        "print(dict4)\n",
        "print(dict3)"
      ],
      "metadata": {
        "id": "pnoZHgkxUDAC",
        "outputId": "71f7b87c-3bda-49d3-cedd-47dec7be9ad4",
        "colab": {
          "base_uri": "https://localhost:8080/",
          "height": 0
        }
      },
      "execution_count": 43,
      "outputs": [
        {
          "output_type": "stream",
          "name": "stdout",
          "text": [
            "{'brand': 'ford', 'electric': 'false', 'year': 2012, 'colors': ['red', 'white', 'blue', 'red']}\n",
            "{'brand': 'ford', 'electric': 'false', 'year': 2023, 'colors': ['red', 'white', 'blue', 'red']}\n"
          ]
        }
      ]
    },
    {
      "cell_type": "code",
      "source": [
        "myfamily = {\n",
        "\n",
        "            \"child2\" :{ \"name\":\"durga\",\"year\" :2016},\n",
        "            \"child3\" :{ \"name\":\"vamsi\",  \"year\" :2020}\n",
        "             }\n",
        "\n",
        "print(myfamily)\n"
      ],
      "metadata": {
        "id": "v5mSkvNBUSIc",
        "outputId": "57ca8c50-b969-4e1f-b4fc-043d3addbf38",
        "colab": {
          "base_uri": "https://localhost:8080/",
          "height": 0
        }
      },
      "execution_count": 48,
      "outputs": [
        {
          "output_type": "stream",
          "name": "stdout",
          "text": [
            "{'child2': {'name': 'durga', 'year': 2016}, 'child3': {'name': 'vamsi', 'year': 2020}}\n"
          ]
        }
      ]
    },
    {
      "cell_type": "code",
      "source": [
        "print(myfamily[\"child2\"])"
      ],
      "metadata": {
        "id": "tuaDoii_WCZ1",
        "outputId": "2f57811d-82f2-4990-a654-6395982fdc8b",
        "colab": {
          "base_uri": "https://localhost:8080/",
          "height": 0
        }
      },
      "execution_count": 49,
      "outputs": [
        {
          "output_type": "stream",
          "name": "stdout",
          "text": [
            "{'name': 'durga', 'year': 2016}\n"
          ]
        }
      ]
    },
    {
      "cell_type": "code",
      "source": [
        "print(myfamily[\"child2\"][\"name\"])"
      ],
      "metadata": {
        "id": "XyUk_gvYVnlX",
        "outputId": "40be33e0-f33f-42d1-9dbf-991d562b5d6d",
        "colab": {
          "base_uri": "https://localhost:8080/",
          "height": 0
        }
      },
      "execution_count": 50,
      "outputs": [
        {
          "output_type": "stream",
          "name": "stdout",
          "text": [
            "durga\n"
          ]
        }
      ]
    },
    {
      "cell_type": "code",
      "source": [
        "child2 = { \"name\":\"durga\",\"year\" :2016}\n",
        "child3 = { \"name\":\"vamsi\",  \"year\" :2020}\n",
        "\n",
        "my_family = {\"child2\":child2,\"child\":child3}\n",
        "print(my_family)\n"
      ],
      "metadata": {
        "id": "Mz3zsOqxWL5J",
        "outputId": "c8905613-4ab0-4bd1-fb54-b70101318a78",
        "colab": {
          "base_uri": "https://localhost:8080/",
          "height": 0
        }
      },
      "execution_count": 51,
      "outputs": [
        {
          "output_type": "stream",
          "name": "stdout",
          "text": [
            "{'child2': {'name': 'durga', 'year': 2016}, 'child': {'name': 'vamsi', 'year': 2020}}\n"
          ]
        }
      ]
    },
    {
      "cell_type": "code",
      "source": [
        "company = {\n",
        "           \"product\" :{\"cloths\",\"mobiles\",\"home-applie\",\"electronict\"},\n",
        "           \"discont\":{20,30,15,10},\n",
        "           \"price\": {1000,5000,2000,6000}\n",
        "\n",
        "}\n",
        "for x,y in company.items():\n",
        "  print(x,y)"
      ],
      "metadata": {
        "id": "mSrQprlUXHS9",
        "outputId": "f48ed890-c7f9-4cb9-c66e-789b17ba9034",
        "colab": {
          "base_uri": "https://localhost:8080/",
          "height": 0
        }
      },
      "execution_count": 55,
      "outputs": [
        {
          "output_type": "stream",
          "name": "stdout",
          "text": [
            "product {'electronict', 'home-applie', 'mobiles', 'cloths'}\n",
            "discont {10, 20, 30, 15}\n",
            "price {1000, 6000, 5000, 2000}\n"
          ]
        }
      ]
    },
    {
      "cell_type": "code",
      "source": [
        "a = {\"number\" : {1,2,3},\n",
        "     \"mul of 2\": {2,4,6}\n",
        "     }\n",
        "print(a)"
      ],
      "metadata": {
        "id": "57PA3_Q4X0eA",
        "outputId": "71c72476-3b6f-4b17-a697-f57507c28d75",
        "colab": {
          "base_uri": "https://localhost:8080/",
          "height": 0
        }
      },
      "execution_count": 57,
      "outputs": [
        {
          "output_type": "stream",
          "name": "stdout",
          "text": [
            "{'number': {1, 2, 3}, 'mul of 2': {2, 4, 6}}\n"
          ]
        }
      ]
    }
  ]
}