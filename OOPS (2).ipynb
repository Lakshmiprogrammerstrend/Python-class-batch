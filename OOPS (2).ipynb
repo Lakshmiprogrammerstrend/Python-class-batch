{
  "nbformat": 4,
  "nbformat_minor": 0,
  "metadata": {
    "colab": {
      "provenance": []
    },
    "kernelspec": {
      "name": "python3",
      "display_name": "Python 3"
    },
    "language_info": {
      "name": "python"
    }
  },
  "cells": [
    {
      "cell_type": "markdown",
      "source": [
        "##OOPS"
      ],
      "metadata": {
        "id": "tJrCZNrKDzfX"
      }
    },
    {
      "cell_type": "markdown",
      "source": [
        "OOP, or Object-Oriented Programming, is a coding approach using objects (data structures with fields and methods) to create programs. Key principles are:\n",
        "\n",
        "1. Encapsulation:Grouping data and methods into classes, acting as a blueprint.\n",
        "\n",
        "2. Inheritance:Allowing a class to inherit properties from another, promoting code reuse.\n",
        "\n",
        "3. Polymorphism: Treating different objects as if they belong to a common class, enhancing code flexibility.\n",
        "\n",
        "4. Abstraction: Simplifying complex systems by focusing on essential properties and behaviors.\n",
        "\n",
        "\n",
        "**Class:**\n",
        "\n",
        "A class is like a blueprint. It defines the structure and behaviors that objects will have but doesn't represent a specific thing.\n",
        "\n",
        "**Object:**\n",
        "\n",
        "An object is like a thing created from the blueprint. It has specific characteristics and can perform actions based on what the blueprint (class) defines.\n"
      ],
      "metadata": {
        "id": "dm3zRjlD9DuW"
      }
    },
    {
      "cell_type": "markdown",
      "source": [
        "#Create a Class"
      ],
      "metadata": {
        "id": "9yApKV2f_NwT"
      }
    },
    {
      "cell_type": "code",
      "source": [
        "class myclass:\n",
        "  x = 5\n"
      ],
      "metadata": {
        "id": "ZwmTpS1tIbzc"
      },
      "execution_count": null,
      "outputs": []
    },
    {
      "cell_type": "markdown",
      "source": [],
      "metadata": {
        "id": "PYavx6cF_RJP"
      }
    },
    {
      "cell_type": "markdown",
      "source": [
        "#Create Object"
      ],
      "metadata": {
        "id": "J3CMtNML_W9J"
      }
    },
    {
      "cell_type": "code",
      "source": [
        "p1 = myclass()\n",
        "print(p1.x)"
      ],
      "metadata": {
        "colab": {
          "base_uri": "https://localhost:8080/"
        },
        "id": "4hxa3ce0_YmK",
        "outputId": "8ddd7572-4b8e-46de-d34c-31afa991a61a"
      },
      "execution_count": null,
      "outputs": [
        {
          "output_type": "stream",
          "name": "stdout",
          "text": [
            "5\n"
          ]
        }
      ]
    },
    {
      "cell_type": "markdown",
      "source": [
        "#The __init__() Function\n",
        "\n",
        "which is always executed when the class is being initiated.Use the __init__() function to assign values to object properties, or other operations that are necessary to do when the object is being created:"
      ],
      "metadata": {
        "id": "0O_-DAii_bZi"
      }
    },
    {
      "cell_type": "code",
      "source": [
        "class car:\n",
        "  def __init__(self,make,model,year,color):\n",
        "    self.make = make\n",
        "    self.model = model\n",
        "    self.year = year\n",
        "    self.color = color\n"
      ],
      "metadata": {
        "id": "ng86kFMm_rgN"
      },
      "execution_count": null,
      "outputs": []
    },
    {
      "cell_type": "code",
      "source": [
        "car1 = car(2007,\"audi\",2010,\"black\")\n"
      ],
      "metadata": {
        "id": "dTHTbSrtS66v"
      },
      "execution_count": null,
      "outputs": []
    },
    {
      "cell_type": "code",
      "source": [
        "print(car1.color)"
      ],
      "metadata": {
        "colab": {
          "base_uri": "https://localhost:8080/"
        },
        "id": "8mGuC4uOTSav",
        "outputId": "f0156df3-9915-43f5-e66a-b29554fbe88d"
      },
      "execution_count": null,
      "outputs": [
        {
          "output_type": "stream",
          "name": "stdout",
          "text": [
            "black\n"
          ]
        }
      ]
    },
    {
      "cell_type": "code",
      "source": [
        "print(car1.model)"
      ],
      "metadata": {
        "colab": {
          "base_uri": "https://localhost:8080/"
        },
        "id": "nir8G9xqTZKy",
        "outputId": "b42af8da-4c24-4eb2-a3e4-54b7801cf933"
      },
      "execution_count": null,
      "outputs": [
        {
          "output_type": "stream",
          "name": "stdout",
          "text": [
            "audi\n"
          ]
        }
      ]
    },
    {
      "cell_type": "code",
      "source": [
        "car2 = car(2010,\"tayota\",2015,\"white\")\n",
        "print(car2.make)"
      ],
      "metadata": {
        "colab": {
          "base_uri": "https://localhost:8080/"
        },
        "id": "1OOhxJc8Thhz",
        "outputId": "9b30d4e3-33b8-455d-e60b-0adfbb551dc1"
      },
      "execution_count": null,
      "outputs": [
        {
          "output_type": "stream",
          "name": "stdout",
          "text": [
            "2010\n"
          ]
        }
      ]
    },
    {
      "cell_type": "code",
      "source": [
        "print(car2)"
      ],
      "metadata": {
        "colab": {
          "base_uri": "https://localhost:8080/"
        },
        "id": "SjCfecJ_TzeW",
        "outputId": "55cae917-8786-4f9a-ae07-06c84bccb557"
      },
      "execution_count": null,
      "outputs": [
        {
          "output_type": "stream",
          "name": "stdout",
          "text": [
            "<__main__.car object at 0x7a1c1ac3a380>\n"
          ]
        }
      ]
    },
    {
      "cell_type": "markdown",
      "source": [
        "#The __str__() Function\n",
        "The __str__() function controls what should be returned when the class object is represented as a string."
      ],
      "metadata": {
        "id": "1ZvyD5zF_v8n"
      }
    },
    {
      "cell_type": "code",
      "source": [
        "class car:\n",
        "  def __init__(self,model,year,color):\n",
        "    self.model = model\n",
        "    self.year = year\n",
        "    self.color = color\n",
        "  def __str__(self):\n",
        "    return f\"model = {self.model} \\n year = {self.year} \\n color = {self.color}\"\n",
        "\n",
        "car1 = car(\"audi\",2013,\"red\")\n",
        "\n",
        "print(car1)\n"
      ],
      "metadata": {
        "colab": {
          "base_uri": "https://localhost:8080/"
        },
        "id": "GDgPdJsv_85c",
        "outputId": "3cd79d25-9652-4214-b8a8-255122a2b367"
      },
      "execution_count": null,
      "outputs": [
        {
          "output_type": "stream",
          "name": "stdout",
          "text": [
            "model = audi \n",
            " year = 2013 \n",
            " color = red\n"
          ]
        }
      ]
    },
    {
      "cell_type": "markdown",
      "source": [
        "#Object Methods\n",
        "\n",
        "Objects can also contain methods. Methods in objects are functions that belong to the object."
      ],
      "metadata": {
        "id": "3WO8pR58_-0p"
      }
    },
    {
      "cell_type": "code",
      "source": [
        "class car:\n",
        "  def __init__(self,model,year,color):\n",
        "    self.model = model\n",
        "    self.year = year\n",
        "    self.color = color\n",
        "    self.speed = 0\n",
        "  def __str__(self):\n",
        "    return f\"model = {self.model} \\n year = {self.year} \\n color = {self.color}\"\n",
        "  def accelerate(self):\n",
        "    self.speed+=10\n",
        "    print(f\"the {self.year} {self.model} is accelerating speed: {self.speed}mph\")\n",
        "\n",
        "car1 = car(\"audi\",2013,\"red\")\n",
        "\n",
        "car1.accelerate()\n"
      ],
      "metadata": {
        "colab": {
          "base_uri": "https://localhost:8080/"
        },
        "id": "ALTJdQLSAqfX",
        "outputId": "3a793328-feaa-4478-8e3f-8737350c1893"
      },
      "execution_count": null,
      "outputs": [
        {
          "output_type": "stream",
          "name": "stdout",
          "text": [
            "the 2013 audi is accelerating speed: 10mph\n"
          ]
        }
      ]
    },
    {
      "cell_type": "markdown",
      "source": [
        "#self Parameter\n",
        "\n",
        "The self parameter is a reference to the current instance of the class, and is used to access variables that belong to the class."
      ],
      "metadata": {
        "id": "ZfG08sDrAq8Q"
      }
    },
    {
      "cell_type": "code",
      "source": [
        "class this:\n",
        "  def __init__(myjob,name,age):\n",
        "    myjob.name = name\n",
        "    myjob.age = age\n",
        "  def details(myjob):\n",
        "    return f\"name = {myjob.name} \\n age = {myjob.age}\"\n",
        "p1 = this(\"lakshmi\",27)\n",
        "p1.details()"
      ],
      "metadata": {
        "colab": {
          "base_uri": "https://localhost:8080/",
          "height": 36
        },
        "id": "Q9jxlVfCAsE9",
        "outputId": "659a4ca2-b25c-4732-bd79-f2e83a8a7875"
      },
      "execution_count": null,
      "outputs": [
        {
          "output_type": "execute_result",
          "data": {
            "text/plain": [
              "'name = lakshmi \\n age = 27'"
            ],
            "application/vnd.google.colaboratory.intrinsic+json": {
              "type": "string"
            }
          },
          "metadata": {},
          "execution_count": 19
        }
      ]
    },
    {
      "cell_type": "markdown",
      "source": [
        "#Modify Object Properties"
      ],
      "metadata": {
        "id": "pUCfyj_zAyQb"
      }
    },
    {
      "cell_type": "code",
      "source": [
        "class this:\n",
        "  def __init__(self,name,age):\n",
        "    self.name = name\n",
        "    self.age = age\n",
        "  def details(self):\n",
        "    return f\"name = {self.name} \\n age = {self.age}\"\n",
        "p1 = this(\"lakshmi\",27)\n",
        "p1.age = 25\n",
        "print(p1.age)"
      ],
      "metadata": {
        "colab": {
          "base_uri": "https://localhost:8080/"
        },
        "id": "5pP2fFJcAzHN",
        "outputId": "653301df-6297-495a-dbae-3772328e31bf"
      },
      "execution_count": null,
      "outputs": [
        {
          "output_type": "stream",
          "name": "stdout",
          "text": [
            "25\n"
          ]
        }
      ]
    },
    {
      "cell_type": "code",
      "source": [
        "p1.name = \"ram\"\n",
        "print(p1.name)"
      ],
      "metadata": {
        "colab": {
          "base_uri": "https://localhost:8080/"
        },
        "id": "k4PRIdB7bq4V",
        "outputId": "f0be2163-10dd-480b-b155-07432edcda1d"
      },
      "execution_count": null,
      "outputs": [
        {
          "output_type": "stream",
          "name": "stdout",
          "text": [
            "ram\n"
          ]
        }
      ]
    },
    {
      "cell_type": "markdown",
      "source": [
        "#Delete Object Properties"
      ],
      "metadata": {
        "id": "G58t6m25A2iW"
      }
    },
    {
      "cell_type": "code",
      "source": [
        "del p1.age\n",
        "print(p1.age)"
      ],
      "metadata": {
        "colab": {
          "base_uri": "https://localhost:8080/",
          "height": 200
        },
        "id": "zneEYghTA3S4",
        "outputId": "931b52b4-4fd1-43f8-8eed-06cc5073d9ee"
      },
      "execution_count": null,
      "outputs": [
        {
          "output_type": "error",
          "ename": "AttributeError",
          "evalue": "ignored",
          "traceback": [
            "\u001b[0;31m---------------------------------------------------------------------------\u001b[0m",
            "\u001b[0;31mAttributeError\u001b[0m                            Traceback (most recent call last)",
            "\u001b[0;32m<ipython-input-22-4e24acd3d696>\u001b[0m in \u001b[0;36m<cell line: 2>\u001b[0;34m()\u001b[0m\n\u001b[1;32m      1\u001b[0m \u001b[0;32mdel\u001b[0m \u001b[0mp1\u001b[0m\u001b[0;34m.\u001b[0m\u001b[0mage\u001b[0m\u001b[0;34m\u001b[0m\u001b[0;34m\u001b[0m\u001b[0m\n\u001b[0;32m----> 2\u001b[0;31m \u001b[0mprint\u001b[0m\u001b[0;34m(\u001b[0m\u001b[0mp1\u001b[0m\u001b[0;34m.\u001b[0m\u001b[0mage\u001b[0m\u001b[0;34m)\u001b[0m\u001b[0;34m\u001b[0m\u001b[0;34m\u001b[0m\u001b[0m\n\u001b[0m",
            "\u001b[0;31mAttributeError\u001b[0m: 'this' object has no attribute 'age'"
          ]
        }
      ]
    },
    {
      "cell_type": "code",
      "source": [
        "p2 = this(\"lakshmi\",27)\n",
        "print(p2.name)\n",
        "print(p2.age)"
      ],
      "metadata": {
        "colab": {
          "base_uri": "https://localhost:8080/"
        },
        "id": "BMSK9mNVcHR4",
        "outputId": "6ff7f051-d1fc-48ec-cbf5-edb707931dae"
      },
      "execution_count": null,
      "outputs": [
        {
          "output_type": "stream",
          "name": "stdout",
          "text": [
            "lakshmi\n",
            "27\n"
          ]
        }
      ]
    },
    {
      "cell_type": "markdown",
      "source": [
        "#Delete Objects"
      ],
      "metadata": {
        "id": "HxbQxRVAA5hu"
      }
    },
    {
      "cell_type": "code",
      "source": [
        "del p1"
      ],
      "metadata": {
        "id": "F1Ya_6P8A6VZ"
      },
      "execution_count": null,
      "outputs": []
    },
    {
      "cell_type": "code",
      "source": [
        "print(p1.name)"
      ],
      "metadata": {
        "colab": {
          "base_uri": "https://localhost:8080/",
          "height": 182
        },
        "id": "1_5efCo5A6vc",
        "outputId": "0a7de4f4-7027-4c75-eaf2-fbf3321844fc"
      },
      "execution_count": null,
      "outputs": [
        {
          "output_type": "error",
          "ename": "NameError",
          "evalue": "ignored",
          "traceback": [
            "\u001b[0;31m---------------------------------------------------------------------------\u001b[0m",
            "\u001b[0;31mNameError\u001b[0m                                 Traceback (most recent call last)",
            "\u001b[0;32m<ipython-input-25-f5f45b9f018c>\u001b[0m in \u001b[0;36m<cell line: 1>\u001b[0;34m()\u001b[0m\n\u001b[0;32m----> 1\u001b[0;31m \u001b[0mprint\u001b[0m\u001b[0;34m(\u001b[0m\u001b[0mp1\u001b[0m\u001b[0;34m.\u001b[0m\u001b[0mname\u001b[0m\u001b[0;34m)\u001b[0m\u001b[0;34m\u001b[0m\u001b[0;34m\u001b[0m\u001b[0m\n\u001b[0m",
            "\u001b[0;31mNameError\u001b[0m: name 'p1' is not defined"
          ]
        }
      ]
    },
    {
      "cell_type": "markdown",
      "source": [
        "#The pass Statement"
      ],
      "metadata": {
        "id": "wMctZH6IA7Wi"
      }
    },
    {
      "cell_type": "code",
      "source": [
        "class person:\n",
        "  pass"
      ],
      "metadata": {
        "id": "XuJxiOvrA-iH"
      },
      "execution_count": null,
      "outputs": []
    },
    {
      "cell_type": "markdown",
      "source": [
        "#Encapsulation"
      ],
      "metadata": {
        "id": "RIqlI1XGp3V4"
      }
    },
    {
      "cell_type": "code",
      "source": [
        "class car:\n",
        "  def __init__(self,make,model):\n",
        "    self.make = make\n",
        "    self.model = model\n",
        "    self.speed = 0\n",
        "  def accelerate(self):\n",
        "    self.speed+=10\n",
        "    print(self.speed)\n",
        "  def brake(self):\n",
        "    self.speed -=5\n",
        "    print(self.speed)\n"
      ],
      "metadata": {
        "id": "Kvnd2uJ8p8FD"
      },
      "execution_count": null,
      "outputs": []
    },
    {
      "cell_type": "code",
      "source": [
        "car1 = car(2019,\"audi\")"
      ],
      "metadata": {
        "id": "xG5yVor0s-vz"
      },
      "execution_count": null,
      "outputs": []
    },
    {
      "cell_type": "code",
      "source": [
        "car1.accelerate()"
      ],
      "metadata": {
        "colab": {
          "base_uri": "https://localhost:8080/"
        },
        "id": "2_MvI19ItJjT",
        "outputId": "83718510-1c2e-4b54-ca1a-4c9073b69544"
      },
      "execution_count": null,
      "outputs": [
        {
          "output_type": "stream",
          "name": "stdout",
          "text": [
            "10\n"
          ]
        }
      ]
    },
    {
      "cell_type": "code",
      "source": [
        "car1.brake()"
      ],
      "metadata": {
        "colab": {
          "base_uri": "https://localhost:8080/"
        },
        "id": "7CIMqG1qtazM",
        "outputId": "de533f43-69d0-47d3-821f-91b470e4015a"
      },
      "execution_count": null,
      "outputs": [
        {
          "output_type": "stream",
          "name": "stdout",
          "text": [
            "5\n"
          ]
        }
      ]
    },
    {
      "cell_type": "markdown",
      "source": [
        "#Inheritance"
      ],
      "metadata": {
        "id": "ibstLpRjqAC_"
      }
    },
    {
      "cell_type": "code",
      "source": [
        "class parant:\n",
        "  def __init__(self,fname,lname):\n",
        "    self.firstname = fname\n",
        "    self.lastname = lname\n",
        "    self.speed = 0\n",
        "  def printname(self):\n",
        "      print(self.firstname,self.lastname)\n"
      ],
      "metadata": {
        "id": "DVPlk-0eurDn"
      },
      "execution_count": null,
      "outputs": []
    },
    {
      "cell_type": "code",
      "source": [
        "y = parant(\"lakshmi\",\"dodda\")\n",
        "y.printname()"
      ],
      "metadata": {
        "colab": {
          "base_uri": "https://localhost:8080/"
        },
        "id": "hv_ij8-RvZ9B",
        "outputId": "98b1304b-9240-42ca-d80e-1cae4e95554c"
      },
      "execution_count": null,
      "outputs": [
        {
          "output_type": "stream",
          "name": "stdout",
          "text": [
            "lakshmi dodda\n"
          ]
        }
      ]
    },
    {
      "cell_type": "code",
      "source": [
        "class child(parant):\n",
        "    def __init__(self, fname, lname):\n",
        "      parant.__init__(self,fname, lname)"
      ],
      "metadata": {
        "id": "Qkp956lswEsM"
      },
      "execution_count": null,
      "outputs": []
    },
    {
      "cell_type": "code",
      "source": [
        "x = child(\"dodda\",\"lakshmi\")\n",
        "x.printname()"
      ],
      "metadata": {
        "colab": {
          "base_uri": "https://localhost:8080/"
        },
        "id": "WABBIsatwmLl",
        "outputId": "90b24ed1-4d23-4d52-b1d8-adade3a5d36d"
      },
      "execution_count": null,
      "outputs": [
        {
          "output_type": "stream",
          "name": "stdout",
          "text": [
            "dodda lakshmi\n"
          ]
        }
      ]
    },
    {
      "cell_type": "code",
      "source": [
        "class A:\n",
        "  def method1(self):\n",
        "    print(\"print A method1\")\n",
        "  def method2(self):\n",
        "    print(\"print A method2\")\n",
        "\n",
        "class B(A):\n",
        "  def method1(self):\n",
        "    print(\"print B  method1\")\n",
        "\n",
        "class C(A):\n",
        "  def method1(self):\n",
        "    print(\"print C  method1\")\n",
        "\n",
        "\n",
        "class D(B,C):\n",
        "   def method1(self):\n",
        "    print(\"print D  method1\")\n",
        "\n",
        "\n",
        "d = D()"
      ],
      "metadata": {
        "id": "9rF_5PTRw0Tx"
      },
      "execution_count": null,
      "outputs": []
    },
    {
      "cell_type": "code",
      "source": [
        "d.method1()"
      ],
      "metadata": {
        "colab": {
          "base_uri": "https://localhost:8080/"
        },
        "id": "APnqOTxTybPd",
        "outputId": "648b916d-97f1-4040-f9d5-e9fb838c9320"
      },
      "execution_count": null,
      "outputs": [
        {
          "output_type": "stream",
          "name": "stdout",
          "text": [
            "print D  method1\n"
          ]
        }
      ]
    },
    {
      "cell_type": "code",
      "source": [
        "d.method2()"
      ],
      "metadata": {
        "colab": {
          "base_uri": "https://localhost:8080/"
        },
        "id": "UV9RgAMo0SRd",
        "outputId": "1af36c63-ac92-4e40-c760-04e62819ecb3"
      },
      "execution_count": null,
      "outputs": [
        {
          "output_type": "stream",
          "name": "stdout",
          "text": [
            "print A method2\n"
          ]
        }
      ]
    },
    {
      "cell_type": "code",
      "source": [
        "C.method1(d)"
      ],
      "metadata": {
        "colab": {
          "base_uri": "https://localhost:8080/"
        },
        "id": "PboPeGqbyh5h",
        "outputId": "27123756-6f5a-48c0-a9bf-f0dcf7b627e6"
      },
      "execution_count": null,
      "outputs": [
        {
          "output_type": "stream",
          "name": "stdout",
          "text": [
            "print C  method1\n"
          ]
        }
      ]
    },
    {
      "cell_type": "code",
      "source": [
        "B.method1(d)"
      ],
      "metadata": {
        "colab": {
          "base_uri": "https://localhost:8080/"
        },
        "id": "Yo_YeAwtz7kO",
        "outputId": "1c34c07b-a7e2-4226-99ac-0aca1d0fb6e1"
      },
      "execution_count": null,
      "outputs": [
        {
          "output_type": "stream",
          "name": "stdout",
          "text": [
            "print B  method1\n"
          ]
        }
      ]
    },
    {
      "cell_type": "markdown",
      "source": [
        "#Polymorphism"
      ],
      "metadata": {
        "id": "5XMUNfu-2Hf4"
      }
    },
    {
      "cell_type": "code",
      "source": [
        "class car:\n",
        "  def __init__(self,brand,model):\n",
        "    self.brand = brand\n",
        "    self.model = model\n",
        "  def move(self):\n",
        "    print(\"drive\")\n",
        "class boat:\n",
        "  def __init__(self,brand,model):\n",
        "    self.brand = brand\n",
        "    self.model = model\n",
        "  def move(self):\n",
        "    print(\"sail\")\n",
        "class plane:\n",
        "  def __init__(self,brand,model):\n",
        "    self.brand = brand\n",
        "    self.model = model\n",
        "  def move(self):\n",
        "    print(\"fly\")\n",
        "\n",
        "car1 = car(\"ford\",\"mustang\")#car class instance\n",
        "boat1 = boat(\"ibiza\",\"touring20\")#boat class instance\n",
        "plane1 = plane(\"boeing\",\"747\") # plane class instance\n",
        "\n",
        "\n",
        "for i in (car1,boat1,plane1):\n",
        "  i.move()"
      ],
      "metadata": {
        "id": "7TOT6h0J0BYd",
        "colab": {
          "base_uri": "https://localhost:8080/"
        },
        "outputId": "045472b4-cee6-48e3-db77-ca3c916dc69f"
      },
      "execution_count": 3,
      "outputs": [
        {
          "output_type": "stream",
          "name": "stdout",
          "text": [
            "drive\n",
            "sail\n",
            "fly\n"
          ]
        }
      ]
    },
    {
      "cell_type": "markdown",
      "source": [
        "#inheritance in polymorphism"
      ],
      "metadata": {
        "id": "JEMBFaHG81kA"
      }
    },
    {
      "cell_type": "code",
      "source": [
        "class vehical:\n",
        "  def __init__(self,brand,model):\n",
        "    self.brand = brand\n",
        "    self.model = model\n",
        "  def move(self):\n",
        "    print(\"movie\")\n",
        "class car(vehical):\n",
        "  pass\n",
        "\n",
        "class boat(vehical):\n",
        "  def move(self):\n",
        "    print(\"sail\")\n",
        "\n",
        "class plane(vehical):\n",
        "  def move(self):\n",
        "    print(\"fly\")\n",
        "\n",
        "car1 = car(\"ford\",\"mustang\")#car class instance\n",
        "boat1 = boat(\"ibiza\",\"touring20\")#boat class instance\n",
        "plane1 = plane(\"boeing\",\"747\") # plane class instance\n",
        "\n",
        "\n",
        "for x in (car1,boat1,plane1):\n",
        "  print(x.brand)\n",
        "  print(x.model)\n",
        "  x.move()\n",
        "\n",
        "\n"
      ],
      "metadata": {
        "colab": {
          "base_uri": "https://localhost:8080/"
        },
        "id": "pOFd2RF84hlz",
        "outputId": "272612c4-3851-412d-e5bb-4636cb204614"
      },
      "execution_count": 4,
      "outputs": [
        {
          "output_type": "stream",
          "name": "stdout",
          "text": [
            "ford\n",
            "mustang\n",
            "movie\n",
            "ibiza\n",
            "touring20\n",
            "sail\n",
            "boeing\n",
            "747\n",
            "fly\n"
          ]
        }
      ]
    },
    {
      "cell_type": "markdown",
      "source": [
        "#Abstraction"
      ],
      "metadata": {
        "id": "zc8fNmLE9FvS"
      }
    },
    {
      "cell_type": "code",
      "source": [
        "from abc import ABC,abstractmethod\n",
        "class Account(ABC):\n",
        "  def __init__(self,holder,balance=0):\n",
        "    self.holder = holder\n",
        "    self.balance = balance\n",
        "\n",
        "  @abstractmethod\n",
        "  def transact(self,amount):\n",
        "    pass\n",
        "class SavingSAccount(Account):\n",
        "  def transact(self,amount):\n",
        "    self.balance = self.balance+ amount#1000+500=1500\n",
        "    return f\"Transaction: +${amount} Newbalance:${self.balance} \"\n",
        "class checkingAcount(Account):\n",
        "  def transact(self,amount):\n",
        "    if amount>self.balance:\n",
        "      return \"insufficient funds for  withdrawal\"\n",
        "    else:\n",
        "      self.balance = self.balance- amount\n",
        "      return f\"Transaction: -${amount} Newbalance:${self.balance}\"#1500-500=1000\n",
        "\n",
        "\n",
        "def interact(account,amount):\n",
        "      print(account.transact(amount))\n",
        "\n",
        "savings,checking = SavingSAccount(\"lakshmi\",1000),checkingAcount(\"durga\",1500)\n",
        "interact(savings,500)\n",
        "interact(checking,500)\n"
      ],
      "metadata": {
        "colab": {
          "base_uri": "https://localhost:8080/"
        },
        "id": "Vm0rxgG-8jKk",
        "outputId": "7f982834-a114-4dcf-cee3-f8938227a201"
      },
      "execution_count": 9,
      "outputs": [
        {
          "output_type": "stream",
          "name": "stdout",
          "text": [
            "Transaction: +$500 Newbalance:$1500 \n",
            "Transaction: -$500 Newbalance:$1000\n"
          ]
        }
      ]
    },
    {
      "cell_type": "code",
      "source": [],
      "metadata": {
        "id": "LuqqvoKOFvdT"
      },
      "execution_count": null,
      "outputs": []
    }
  ]
}