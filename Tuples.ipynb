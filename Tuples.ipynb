{
  "nbformat": 4,
  "nbformat_minor": 0,
  "metadata": {
    "colab": {
      "provenance": []
    },
    "kernelspec": {
      "name": "python3",
      "display_name": "Python 3"
    },
    "language_info": {
      "name": "python"
    }
  },
  "cells": [
    {
      "cell_type": "code",
      "execution_count": null,
      "metadata": {
        "id": "41GGjgVK9tDE"
      },
      "outputs": [],
      "source": [
        "#list --mutable =update,remove\n",
        "'''\n",
        "Store-any data type\n",
        "Acees\n",
        "update\n",
        "add\n",
        "remove\n",
        "\n",
        "'''"
      ]
    },
    {
      "cell_type": "code",
      "source": [
        "#usage:\n",
        "'''\n",
        "data storing\n",
        "tasks-maximum method-max,min,sort,reverse\n",
        "analyze\n",
        "handle-flexible\n",
        "'''"
      ],
      "metadata": {
        "id": "5UetYd3r_ORo"
      },
      "execution_count": null,
      "outputs": []
    },
    {
      "cell_type": "markdown",
      "source": [
        "#=,shallow copy,deep copy"
      ],
      "metadata": {
        "id": "ZMZJkkCtAYu8"
      }
    },
    {
      "cell_type": "code",
      "source": [
        "a = [1,2,3,4]\n",
        "b = a\n",
        "b[0] = 100\n",
        "print(\"a \",a)\n",
        "print(\"b\",b)"
      ],
      "metadata": {
        "colab": {
          "base_uri": "https://localhost:8080/"
        },
        "id": "JQ9IHtS-ATZp",
        "outputId": "bd9c5e67-5437-4d4d-afce-7b11dbbe5efe"
      },
      "execution_count": 4,
      "outputs": [
        {
          "output_type": "stream",
          "name": "stdout",
          "text": [
            "a  [100, 2, 3, 4]\n",
            "b [100, 2, 3, 4]\n"
          ]
        }
      ]
    },
    {
      "cell_type": "code",
      "source": [
        "p = [1,2,3,4]\n",
        "q = p.copy()\n",
        "print(p)\n",
        "print(q)"
      ],
      "metadata": {
        "colab": {
          "base_uri": "https://localhost:8080/"
        },
        "id": "0xA-bvmBAatA",
        "outputId": "3355ee28-2ea3-43c2-cf41-01f77fb22371"
      },
      "execution_count": 5,
      "outputs": [
        {
          "output_type": "stream",
          "name": "stdout",
          "text": [
            "[1, 2, 3, 4]\n",
            "[1, 2, 3, 4]\n"
          ]
        }
      ]
    },
    {
      "cell_type": "code",
      "source": [
        "q[0] = 100\n",
        "print (\"p\", p)\n",
        "print(\"q\",q)"
      ],
      "metadata": {
        "id": "3iPDXdAsCUcl"
      },
      "execution_count": null,
      "outputs": []
    },
    {
      "cell_type": "code",
      "source": [
        "p = [1,2,3,4,[10,20,30]]\n",
        "q = p.copy()\n",
        "print(p)\n",
        "print(q)"
      ],
      "metadata": {
        "colab": {
          "base_uri": "https://localhost:8080/"
        },
        "id": "7GfDUnOFDjLV",
        "outputId": "12c66f02-8a19-44e1-f61e-f40b4cf98919"
      },
      "execution_count": 6,
      "outputs": [
        {
          "output_type": "stream",
          "name": "stdout",
          "text": [
            "[1, 2, 3, 4, [10, 20, 30]]\n",
            "[1, 2, 3, 4, [10, 20, 30]]\n"
          ]
        }
      ]
    },
    {
      "cell_type": "code",
      "source": [
        "q[4][0] = 1000\n",
        "print(\"p\",p)\n",
        "print(\"q\",q)\n"
      ],
      "metadata": {
        "colab": {
          "base_uri": "https://localhost:8080/"
        },
        "id": "BYnVYaUHDsvf",
        "outputId": "706c9948-cb18-43c6-a6cb-3faf02e3f81c"
      },
      "execution_count": 7,
      "outputs": [
        {
          "output_type": "stream",
          "name": "stdout",
          "text": [
            "p [1, 2, 3, 4, [1000, 20, 30]]\n",
            "q [1, 2, 3, 4, [1000, 20, 30]]\n"
          ]
        }
      ]
    },
    {
      "cell_type": "code",
      "source": [
        "p = [1,2,3,4,[10,20,30]]\n",
        "q = p.copy()\n",
        "q[3] = 99\n",
        "print(\"p\",p)\n",
        "print(\"q\",q)"
      ],
      "metadata": {
        "colab": {
          "base_uri": "https://localhost:8080/"
        },
        "id": "cyUOzOdXEibq",
        "outputId": "3a73ad42-2490-4c64-b346-c7ece329063a"
      },
      "execution_count": 11,
      "outputs": [
        {
          "output_type": "stream",
          "name": "stdout",
          "text": [
            "p [1, 2, 3, 4, [10, 20, 30]]\n",
            "q [1, 2, 3, 99, [10, 20, 30]]\n"
          ]
        }
      ]
    },
    {
      "cell_type": "code",
      "source": [
        "p[2]  = 30\n",
        "print(\"p\",p)\n",
        "print(\"q\",q)"
      ],
      "metadata": {
        "colab": {
          "base_uri": "https://localhost:8080/"
        },
        "id": "nQUohOXTEt73",
        "outputId": "2f575c08-2dfc-4499-eb0d-42937b952ce0"
      },
      "execution_count": 12,
      "outputs": [
        {
          "output_type": "stream",
          "name": "stdout",
          "text": [
            "p [1, 2, 30, 4, [10, 20, 30]]\n",
            "q [1, 2, 3, 99, [10, 20, 30]]\n"
          ]
        }
      ]
    },
    {
      "cell_type": "code",
      "source": [
        "import copy\n",
        "deep_copy = copy.deepcopy(p)\n",
        "print(deep_copy)"
      ],
      "metadata": {
        "colab": {
          "base_uri": "https://localhost:8080/"
        },
        "id": "Q9AbPQllFCRp",
        "outputId": "b67d6fd7-1545-4230-b905-22e3e307b128"
      },
      "execution_count": 13,
      "outputs": [
        {
          "output_type": "stream",
          "name": "stdout",
          "text": [
            "[1, 2, 30, 4, [10, 20, 30]]\n"
          ]
        }
      ]
    },
    {
      "cell_type": "code",
      "source": [
        "deep_copy[4][0] = 1000\n",
        "print(\"deep copy\",deep_copy)\n",
        "print(\"p\",p)"
      ],
      "metadata": {
        "colab": {
          "base_uri": "https://localhost:8080/"
        },
        "id": "SEHSzDI2FPnF",
        "outputId": "5f15cd15-b2f5-4fda-fac6-45aca9f73099"
      },
      "execution_count": 14,
      "outputs": [
        {
          "output_type": "stream",
          "name": "stdout",
          "text": [
            "deep copy [1, 2, 30, 4, [1000, 20, 30]]\n",
            "p [1, 2, 30, 4, [10, 20, 30]]\n"
          ]
        }
      ]
    },
    {
      "cell_type": "code",
      "source": [
        "# Tuples\n",
        "mytuple = (\"apple\",\"banana\",\"cherry\")#0,1,2,3,--------   -3,-2.-1\n",
        "print(mytuple)"
      ],
      "metadata": {
        "colab": {
          "base_uri": "https://localhost:8080/"
        },
        "id": "Rgh4Fjp6GvYU",
        "outputId": "b1e00033-c9f7-40e4-ae16-09eaf8f2fe72"
      },
      "execution_count": 15,
      "outputs": [
        {
          "output_type": "stream",
          "name": "stdout",
          "text": [
            "('apple', 'banana', 'cherry')\n"
          ]
        }
      ]
    },
    {
      "cell_type": "code",
      "source": [
        "print(type(mytuple))"
      ],
      "metadata": {
        "colab": {
          "base_uri": "https://localhost:8080/"
        },
        "id": "FIXghejPHTbp",
        "outputId": "c63d0990-be86-4728-bfc8-039c0041e4bd"
      },
      "execution_count": 16,
      "outputs": [
        {
          "output_type": "stream",
          "name": "stdout",
          "text": [
            "<class 'tuple'>\n"
          ]
        }
      ]
    },
    {
      "cell_type": "code",
      "source": [
        "print(len(mytuple))"
      ],
      "metadata": {
        "colab": {
          "base_uri": "https://localhost:8080/"
        },
        "id": "Z0EL7rBSHXgV",
        "outputId": "10dc4f67-6ae2-4824-8e0f-4a237ff8693f"
      },
      "execution_count": 17,
      "outputs": [
        {
          "output_type": "stream",
          "name": "stdout",
          "text": [
            "3\n"
          ]
        }
      ]
    },
    {
      "cell_type": "code",
      "source": [
        "print(mytuple[0])"
      ],
      "metadata": {
        "colab": {
          "base_uri": "https://localhost:8080/"
        },
        "id": "DFKY-UaaHcWJ",
        "outputId": "d0046f53-0619-4b8c-d2f2-c13270aea412"
      },
      "execution_count": 18,
      "outputs": [
        {
          "output_type": "stream",
          "name": "stdout",
          "text": [
            "apple\n"
          ]
        }
      ]
    },
    {
      "cell_type": "code",
      "source": [
        "print(mytuple[-1])"
      ],
      "metadata": {
        "colab": {
          "base_uri": "https://localhost:8080/"
        },
        "id": "lvUjdIGTH16u",
        "outputId": "c396c6f2-b101-45a0-ca4c-0003c2e0f651"
      },
      "execution_count": 19,
      "outputs": [
        {
          "output_type": "stream",
          "name": "stdout",
          "text": [
            "cherry\n"
          ]
        }
      ]
    },
    {
      "cell_type": "code",
      "source": [
        "print(mytuple[::-1])"
      ],
      "metadata": {
        "colab": {
          "base_uri": "https://localhost:8080/"
        },
        "id": "rneCbZtRH6E2",
        "outputId": "df29d168-edce-4330-fa05-00bb531ad059"
      },
      "execution_count": 20,
      "outputs": [
        {
          "output_type": "stream",
          "name": "stdout",
          "text": [
            "('cherry', 'banana', 'apple')\n"
          ]
        }
      ]
    },
    {
      "cell_type": "code",
      "source": [
        "mytuple = (\"apple\",\"banana\",\"cherry\",1,2.5,False)\n",
        "print(mytuple[2:5])"
      ],
      "metadata": {
        "colab": {
          "base_uri": "https://localhost:8080/"
        },
        "id": "WonWsP4-IKHh",
        "outputId": "8a269e69-b0fb-4dfb-b8f6-3d07d4c7094a"
      },
      "execution_count": 21,
      "outputs": [
        {
          "output_type": "stream",
          "name": "stdout",
          "text": [
            "('cherry', 1, 2.5)\n"
          ]
        }
      ]
    },
    {
      "cell_type": "code",
      "source": [
        "mytuple[0] = 50\n",
        "print(mytuple)"
      ],
      "metadata": {
        "colab": {
          "base_uri": "https://localhost:8080/",
          "height": 200
        },
        "id": "fsKoIiniIpnz",
        "outputId": "e55b57c6-059b-4635-a9a9-913f6c50692e"
      },
      "execution_count": 24,
      "outputs": [
        {
          "output_type": "error",
          "ename": "TypeError",
          "evalue": "ignored",
          "traceback": [
            "\u001b[0;31m---------------------------------------------------------------------------\u001b[0m",
            "\u001b[0;31mTypeError\u001b[0m                                 Traceback (most recent call last)",
            "\u001b[0;32m<ipython-input-24-54a4dc3fbefc>\u001b[0m in \u001b[0;36m<cell line: 1>\u001b[0;34m()\u001b[0m\n\u001b[0;32m----> 1\u001b[0;31m \u001b[0mmytuple\u001b[0m\u001b[0;34m[\u001b[0m\u001b[0;36m0\u001b[0m\u001b[0;34m]\u001b[0m \u001b[0;34m=\u001b[0m \u001b[0;36m50\u001b[0m\u001b[0;34m\u001b[0m\u001b[0;34m\u001b[0m\u001b[0m\n\u001b[0m\u001b[1;32m      2\u001b[0m \u001b[0mprint\u001b[0m\u001b[0;34m(\u001b[0m\u001b[0mmytuple\u001b[0m\u001b[0;34m)\u001b[0m\u001b[0;34m\u001b[0m\u001b[0;34m\u001b[0m\u001b[0m\n",
            "\u001b[0;31mTypeError\u001b[0m: 'tuple' object does not support item assignment"
          ]
        }
      ]
    },
    {
      "cell_type": "code",
      "source": [
        "del mytuple[0]\n",
        "print(mytuple)"
      ],
      "metadata": {
        "colab": {
          "base_uri": "https://localhost:8080/",
          "height": 200
        },
        "id": "7k6elFS1JAM6",
        "outputId": "45dec7dd-f94a-4823-84c3-90e02e216e20"
      },
      "execution_count": 25,
      "outputs": [
        {
          "output_type": "error",
          "ename": "TypeError",
          "evalue": "ignored",
          "traceback": [
            "\u001b[0;31m---------------------------------------------------------------------------\u001b[0m",
            "\u001b[0;31mTypeError\u001b[0m                                 Traceback (most recent call last)",
            "\u001b[0;32m<ipython-input-25-78ed304b9f88>\u001b[0m in \u001b[0;36m<cell line: 1>\u001b[0;34m()\u001b[0m\n\u001b[0;32m----> 1\u001b[0;31m \u001b[0;32mdel\u001b[0m \u001b[0mmytuple\u001b[0m\u001b[0;34m[\u001b[0m\u001b[0;36m0\u001b[0m\u001b[0;34m]\u001b[0m\u001b[0;34m\u001b[0m\u001b[0;34m\u001b[0m\u001b[0m\n\u001b[0m\u001b[1;32m      2\u001b[0m \u001b[0mprint\u001b[0m\u001b[0;34m(\u001b[0m\u001b[0mmytuple\u001b[0m\u001b[0;34m)\u001b[0m\u001b[0;34m\u001b[0m\u001b[0;34m\u001b[0m\u001b[0m\n",
            "\u001b[0;31mTypeError\u001b[0m: 'tuple' object doesn't support item deletion"
          ]
        }
      ]
    },
    {
      "cell_type": "code",
      "source": [
        "tuple1 = (1,1,1,1)\n",
        "print(tuple1)"
      ],
      "metadata": {
        "colab": {
          "base_uri": "https://localhost:8080/"
        },
        "id": "NWVVHqaIJV8Z",
        "outputId": "0b9603c5-f101-45f3-cf0d-4151cc1cd2a9"
      },
      "execution_count": 26,
      "outputs": [
        {
          "output_type": "stream",
          "name": "stdout",
          "text": [
            "(1, 1, 1, 1)\n"
          ]
        }
      ]
    },
    {
      "cell_type": "code",
      "source": [
        "\"\"\"\n",
        "Acess\n",
        "Slicing\n",
        "orderer\n",
        "allow duplicates\n",
        "add,update,remove --- do not accept\n",
        "\n",
        "\"\"\""
      ],
      "metadata": {
        "id": "zN4yH6FJJltw"
      },
      "execution_count": null,
      "outputs": []
    },
    {
      "cell_type": "code",
      "source": [
        "#formula,values"
      ],
      "metadata": {
        "id": "LRybzU1kKLxr"
      },
      "execution_count": null,
      "outputs": []
    },
    {
      "cell_type": "code",
      "source": [
        "tuple2 = (1,2,3,41)\n",
        "tuple2 = (10,20,30,40)\n",
        "print(tuple2)"
      ],
      "metadata": {
        "colab": {
          "base_uri": "https://localhost:8080/"
        },
        "id": "sNYjiF2gKToQ",
        "outputId": "ede2b5b4-539a-4ac6-d344-2ba7b86469c2"
      },
      "execution_count": 27,
      "outputs": [
        {
          "output_type": "stream",
          "name": "stdout",
          "text": [
            "(10, 20, 30, 40)\n"
          ]
        }
      ]
    },
    {
      "cell_type": "code",
      "source": [
        "thistuple = tuple((1,2,3,4,5))\n",
        "print(thistuple)\n",
        "print(type(thistuple))"
      ],
      "metadata": {
        "colab": {
          "base_uri": "https://localhost:8080/"
        },
        "id": "Du6s2YqKKj90",
        "outputId": "90419cff-9223-4d8a-8a12-fb41eb5c406a"
      },
      "execution_count": 28,
      "outputs": [
        {
          "output_type": "stream",
          "name": "stdout",
          "text": [
            "(1, 2, 3, 4, 5)\n",
            "<class 'tuple'>\n"
          ]
        }
      ]
    },
    {
      "cell_type": "code",
      "source": [
        "y = list(thistuple)\n",
        "y[1] = 1000\n",
        "thistuple = tuple(y)\n",
        "print(thistuple)\n",
        "print(type(thistuple))"
      ],
      "metadata": {
        "colab": {
          "base_uri": "https://localhost:8080/"
        },
        "id": "QEFIpaFzLAfV",
        "outputId": "e02e07fc-b793-421b-a905-e1ca8bad40f8"
      },
      "execution_count": 29,
      "outputs": [
        {
          "output_type": "stream",
          "name": "stdout",
          "text": [
            "(1, 1000, 3, 4, 5)\n",
            "<class 'tuple'>\n"
          ]
        }
      ]
    },
    {
      "cell_type": "code",
      "source": [
        "x = list(thistuple)\n",
        "x.remove(5)\n",
        "thistuple = tuple(x)\n",
        "print(thistuple)"
      ],
      "metadata": {
        "colab": {
          "base_uri": "https://localhost:8080/"
        },
        "id": "DxV2XtGuLm_8",
        "outputId": "3be1833d-c3ad-4f17-d2ce-c1fe0864d19c"
      },
      "execution_count": 30,
      "outputs": [
        {
          "output_type": "stream",
          "name": "stdout",
          "text": [
            "(1, 1000, 3, 4)\n"
          ]
        }
      ]
    },
    {
      "cell_type": "code",
      "source": [
        "# un packing\n",
        "(green,red,blue,yellow) = thistuple\n",
        "print(green)\n",
        "print(red)\n",
        "print(blue)\n",
        "print(yellow)"
      ],
      "metadata": {
        "colab": {
          "base_uri": "https://localhost:8080/"
        },
        "id": "RDwJOjljL-R3",
        "outputId": "5ee8d9a3-907e-495f-f5da-4da20a21c5ec"
      },
      "execution_count": 31,
      "outputs": [
        {
          "output_type": "stream",
          "name": "stdout",
          "text": [
            "1\n",
            "1000\n",
            "3\n",
            "4\n"
          ]
        }
      ]
    },
    {
      "cell_type": "code",
      "source": [
        "(green,red,*blue) = thistuple\n",
        "print(green)\n",
        "print(red)\n",
        "print(blue)\n"
      ],
      "metadata": {
        "colab": {
          "base_uri": "https://localhost:8080/"
        },
        "id": "YsR3VhwtM1jA",
        "outputId": "554b359e-06f8-4dc1-accc-b6b214e7de07"
      },
      "execution_count": 32,
      "outputs": [
        {
          "output_type": "stream",
          "name": "stdout",
          "text": [
            "1\n",
            "1000\n",
            "[3, 4]\n"
          ]
        }
      ]
    },
    {
      "cell_type": "code",
      "source": [
        "for i in thistuple:\n",
        "  print(i)"
      ],
      "metadata": {
        "colab": {
          "base_uri": "https://localhost:8080/"
        },
        "id": "KHLlqd9VNJvJ",
        "outputId": "a75794dd-6c9a-42d5-bbb4-3d85635767cd"
      },
      "execution_count": 33,
      "outputs": [
        {
          "output_type": "stream",
          "name": "stdout",
          "text": [
            "1\n",
            "1000\n",
            "3\n",
            "4\n"
          ]
        }
      ]
    },
    {
      "cell_type": "code",
      "source": [
        "for i in range (len(thistuple)):\n",
        "  print(thistuple[i])"
      ],
      "metadata": {
        "colab": {
          "base_uri": "https://localhost:8080/"
        },
        "id": "D05_xRFDNuce",
        "outputId": "bb1390db-c5c2-4955-8dcb-05f312b112dc"
      },
      "execution_count": 34,
      "outputs": [
        {
          "output_type": "stream",
          "name": "stdout",
          "text": [
            "1\n",
            "1000\n",
            "3\n",
            "4\n"
          ]
        }
      ]
    },
    {
      "cell_type": "code",
      "source": [
        "i = 0\n",
        "while i <len(thistuple):\n",
        "  print(thistuple[i])\n",
        "  i+=1"
      ],
      "metadata": {
        "colab": {
          "base_uri": "https://localhost:8080/"
        },
        "id": "GA27v1SLODTh",
        "outputId": "19d4df22-b7d2-4028-92a0-7a807d9bf74f"
      },
      "execution_count": 35,
      "outputs": [
        {
          "output_type": "stream",
          "name": "stdout",
          "text": [
            "1\n",
            "1000\n",
            "3\n",
            "4\n"
          ]
        }
      ]
    },
    {
      "cell_type": "code",
      "source": [
        "tuple1 =(1,2,3,4)\n",
        "tuple2 = (\"apple\",\"banana\",\"cherry\")\n",
        "tuple3 = tuple1 + tuple2\n",
        "print(tuple3)"
      ],
      "metadata": {
        "colab": {
          "base_uri": "https://localhost:8080/"
        },
        "id": "_cJt5sh1Os0p",
        "outputId": "8e60ea5f-4b43-4290-c2a7-f9a65b4a0615"
      },
      "execution_count": 36,
      "outputs": [
        {
          "output_type": "stream",
          "name": "stdout",
          "text": [
            "(1, 2, 3, 4, 'apple', 'banana', 'cherry')\n"
          ]
        }
      ]
    },
    {
      "cell_type": "code",
      "source": [
        "list1 = []\n",
        "for i in tuple1:\n",
        "  x = i + 5\n",
        "  list.append(x)\n",
        "print(list1)"
      ],
      "metadata": {
        "colab": {
          "base_uri": "https://localhost:8080/",
          "height": 237
        },
        "id": "WiZhv1KoPdRO",
        "outputId": "c3e43029-4c93-497e-d624-d71e7e8b6f9e"
      },
      "execution_count": 37,
      "outputs": [
        {
          "output_type": "error",
          "ename": "TypeError",
          "evalue": "ignored",
          "traceback": [
            "\u001b[0;31m---------------------------------------------------------------------------\u001b[0m",
            "\u001b[0;31mTypeError\u001b[0m                                 Traceback (most recent call last)",
            "\u001b[0;32m<ipython-input-37-91c15611b3e5>\u001b[0m in \u001b[0;36m<cell line: 2>\u001b[0;34m()\u001b[0m\n\u001b[1;32m      2\u001b[0m \u001b[0;32mfor\u001b[0m \u001b[0mi\u001b[0m \u001b[0;32min\u001b[0m \u001b[0mtuple1\u001b[0m\u001b[0;34m:\u001b[0m\u001b[0;34m\u001b[0m\u001b[0;34m\u001b[0m\u001b[0m\n\u001b[1;32m      3\u001b[0m   \u001b[0mx\u001b[0m \u001b[0;34m=\u001b[0m \u001b[0mi\u001b[0m \u001b[0;34m+\u001b[0m \u001b[0;36m5\u001b[0m\u001b[0;34m\u001b[0m\u001b[0;34m\u001b[0m\u001b[0m\n\u001b[0;32m----> 4\u001b[0;31m   \u001b[0mlist\u001b[0m\u001b[0;34m.\u001b[0m\u001b[0mappend\u001b[0m\u001b[0;34m(\u001b[0m\u001b[0mx\u001b[0m\u001b[0;34m)\u001b[0m\u001b[0;34m\u001b[0m\u001b[0;34m\u001b[0m\u001b[0m\n\u001b[0m\u001b[1;32m      5\u001b[0m \u001b[0mprint\u001b[0m\u001b[0;34m(\u001b[0m\u001b[0mlist1\u001b[0m\u001b[0;34m)\u001b[0m\u001b[0;34m\u001b[0m\u001b[0;34m\u001b[0m\u001b[0m\n",
            "\u001b[0;31mTypeError\u001b[0m: descriptor 'append' for 'list' objects doesn't apply to a 'int' object"
          ]
        }
      ]
    },
    {
      "cell_type": "code",
      "source": [
        "tuple1 =(1,2,3,4)\n",
        "tuple2 = tuple1 * 2\n",
        "print(tuple2)"
      ],
      "metadata": {
        "colab": {
          "base_uri": "https://localhost:8080/"
        },
        "id": "UIZsQXqcPsGo",
        "outputId": "f680315d-c9e3-432c-fe61-995d24376b2c"
      },
      "execution_count": 38,
      "outputs": [
        {
          "output_type": "stream",
          "name": "stdout",
          "text": [
            "(1, 2, 3, 4, 1, 2, 3, 4)\n"
          ]
        }
      ]
    },
    {
      "cell_type": "code",
      "source": [
        "q = [1,2,3,4,5]\n",
        "p = (1,2,3,q)\n",
        "print(p)\n",
        "print(q)"
      ],
      "metadata": {
        "colab": {
          "base_uri": "https://localhost:8080/"
        },
        "id": "32K8cwJuQH4-",
        "outputId": "ed1529a9-0528-4b12-e706-58a1b31a7d14"
      },
      "execution_count": 39,
      "outputs": [
        {
          "output_type": "stream",
          "name": "stdout",
          "text": [
            "(1, 2, 3, [1, 2, 3, 4, 5])\n",
            "[1, 2, 3, 4, 5]\n"
          ]
        }
      ]
    },
    {
      "cell_type": "code",
      "source": [
        "q[0] = 1000\n",
        "print(p)"
      ],
      "metadata": {
        "colab": {
          "base_uri": "https://localhost:8080/"
        },
        "id": "JGDhDV2tQQwc",
        "outputId": "32c33ceb-471a-4361-fba6-fa7563293e6f"
      },
      "execution_count": 40,
      "outputs": [
        {
          "output_type": "stream",
          "name": "stdout",
          "text": [
            "(1, 2, 3, [1000, 2, 3, 4, 5])\n"
          ]
        }
      ]
    }
  ]
}