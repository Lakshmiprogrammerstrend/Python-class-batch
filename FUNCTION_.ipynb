{
  "nbformat": 4,
  "nbformat_minor": 0,
  "metadata": {
    "colab": {
      "provenance": []
    },
    "kernelspec": {
      "name": "python3",
      "display_name": "Python 3"
    },
    "language_info": {
      "name": "python"
    }
  },
  "cells": [
    {
      "cell_type": "code",
      "execution_count": 1,
      "metadata": {
        "colab": {
          "base_uri": "https://localhost:8080/"
        },
        "id": "nMB3QSf3eyg7",
        "outputId": "6d9d42d0-d0cc-41cb-eedc-8bd495c0da41"
      },
      "outputs": [
        {
          "output_type": "stream",
          "name": "stdout",
          "text": [
            "hello\n"
          ]
        }
      ],
      "source": [
        "def myfunction():\n",
        "  print(\"hello\")\n",
        "myfunction()"
      ]
    },
    {
      "cell_type": "code",
      "source": [
        "def my_function(fname):#parameter\n",
        "  print(fname + \"dodda\")\n",
        "my_function(\"lakshmi\")#arg"
      ],
      "metadata": {
        "colab": {
          "base_uri": "https://localhost:8080/"
        },
        "id": "PyntBmYmjITN",
        "outputId": "b6ffd092-f587-4813-e59e-237e19a4741f"
      },
      "execution_count": 2,
      "outputs": [
        {
          "output_type": "stream",
          "name": "stdout",
          "text": [
            "lakshmidodda\n"
          ]
        }
      ]
    },
    {
      "cell_type": "code",
      "source": [
        "def my_function(fname):#parameter\n",
        "  print( \"dodda\"+fname)\n",
        "my_function(\"lakshmi\")#arg"
      ],
      "metadata": {
        "colab": {
          "base_uri": "https://localhost:8080/"
        },
        "id": "yvtHO8b_jIWe",
        "outputId": "f6f875ed-773b-4520-c6ee-3a2325083afe"
      },
      "execution_count": 3,
      "outputs": [
        {
          "output_type": "stream",
          "name": "stdout",
          "text": [
            "doddalakshmi\n"
          ]
        }
      ]
    },
    {
      "cell_type": "code",
      "source": [
        "def my_function(fname,lname):#parameter\n",
        "  print( fname + lname)\n",
        "my_function(\"lakshmi\",\"dodda\")#arg"
      ],
      "metadata": {
        "colab": {
          "base_uri": "https://localhost:8080/"
        },
        "id": "cA0FjkzYjIZt",
        "outputId": "d5a13724-3d3d-4416-ae61-30336e0e789c"
      },
      "execution_count": 4,
      "outputs": [
        {
          "output_type": "stream",
          "name": "stdout",
          "text": [
            "lakshmidodda\n"
          ]
        }
      ]
    },
    {
      "cell_type": "code",
      "source": [
        "def my_function(fname,lname):#parameter\n",
        "  print( fname + lname)\n",
        "my_function(\"lakshmi\")#arg"
      ],
      "metadata": {
        "colab": {
          "base_uri": "https://localhost:8080/",
          "height": 210
        },
        "id": "3bDKYWFGjIeg",
        "outputId": "0c0cba80-e410-4699-efb5-df7d7c684bc9"
      },
      "execution_count": 5,
      "outputs": [
        {
          "output_type": "error",
          "ename": "TypeError",
          "evalue": "ignored",
          "traceback": [
            "\u001b[0;31m---------------------------------------------------------------------------\u001b[0m",
            "\u001b[0;31mTypeError\u001b[0m                                 Traceback (most recent call last)",
            "\u001b[0;32m<ipython-input-5-46db164319fc>\u001b[0m in \u001b[0;36m<cell line: 3>\u001b[0;34m()\u001b[0m\n\u001b[1;32m      1\u001b[0m \u001b[0;32mdef\u001b[0m \u001b[0mmy_function\u001b[0m\u001b[0;34m(\u001b[0m\u001b[0mfname\u001b[0m\u001b[0;34m,\u001b[0m\u001b[0mlname\u001b[0m\u001b[0;34m)\u001b[0m\u001b[0;34m:\u001b[0m\u001b[0;31m#parameter\u001b[0m\u001b[0;34m\u001b[0m\u001b[0;34m\u001b[0m\u001b[0m\n\u001b[1;32m      2\u001b[0m   \u001b[0mprint\u001b[0m\u001b[0;34m(\u001b[0m \u001b[0mfname\u001b[0m \u001b[0;34m+\u001b[0m \u001b[0mlname\u001b[0m\u001b[0;34m)\u001b[0m\u001b[0;34m\u001b[0m\u001b[0;34m\u001b[0m\u001b[0m\n\u001b[0;32m----> 3\u001b[0;31m \u001b[0mmy_function\u001b[0m\u001b[0;34m(\u001b[0m\u001b[0;34m\"lakshmi\"\u001b[0m\u001b[0;34m)\u001b[0m\u001b[0;31m#arg\u001b[0m\u001b[0;34m\u001b[0m\u001b[0;34m\u001b[0m\u001b[0m\n\u001b[0m",
            "\u001b[0;31mTypeError\u001b[0m: my_function() missing 1 required positional argument: 'lname'"
          ]
        }
      ]
    },
    {
      "cell_type": "code",
      "source": [
        "def my_function(fname,lname):#parameter\n",
        "  print(  lname + fname )\n",
        "my_function(\"lakshmi\",\"dodda\")#arg"
      ],
      "metadata": {
        "colab": {
          "base_uri": "https://localhost:8080/"
        },
        "id": "hFshhYdBlK8l",
        "outputId": "5acb3426-a8d7-45fa-875d-32b7b39b13c4"
      },
      "execution_count": 6,
      "outputs": [
        {
          "output_type": "stream",
          "name": "stdout",
          "text": [
            "doddalakshmi\n"
          ]
        }
      ]
    },
    {
      "cell_type": "code",
      "source": [
        "def my_function(fname,lname):#parameter\n",
        "  print(  lname + fname )\n",
        "my_function(fname =\"lakshmi\",lname = \"dodda\")#arg"
      ],
      "metadata": {
        "colab": {
          "base_uri": "https://localhost:8080/"
        },
        "id": "clG5BActllMz",
        "outputId": "e9130a1c-f86a-49b3-fa09-8508bc0e011a"
      },
      "execution_count": 7,
      "outputs": [
        {
          "output_type": "stream",
          "name": "stdout",
          "text": [
            "doddalakshmi\n"
          ]
        }
      ]
    },
    {
      "cell_type": "code",
      "source": [
        "def my_function(*fname):#parameter\n",
        "  print(fname[1] )\n",
        "my_function(\"lakshmi\",\"dodda\")#*arg"
      ],
      "metadata": {
        "colab": {
          "base_uri": "https://localhost:8080/"
        },
        "id": "IFOyExSUlwnv",
        "outputId": "5d4e2f19-4030-45f9-9356-3f54060f81ab"
      },
      "execution_count": 9,
      "outputs": [
        {
          "output_type": "stream",
          "name": "stdout",
          "text": [
            "dodda\n"
          ]
        }
      ]
    },
    {
      "cell_type": "markdown",
      "source": [
        "my_function(\"lakshmi\",\"dodda\")#*arg\n",
        "\n",
        "my_function(fname =\"lakshmi\",lname = \"dodda\")#**kwarg"
      ],
      "metadata": {
        "id": "KGsoVMu-nOV2"
      }
    },
    {
      "cell_type": "code",
      "source": [
        "def my_function(**kid):#parameter\n",
        "  print(kid[\"lname\"] )\n",
        "my_function(fname =\"lakshmi\",lname = \"dodda\")#**kwarg"
      ],
      "metadata": {
        "colab": {
          "base_uri": "https://localhost:8080/"
        },
        "id": "aiqmcflfmVnQ",
        "outputId": "faf7af34-a093-44a0-86ad-4653c19b57dd"
      },
      "execution_count": 10,
      "outputs": [
        {
          "output_type": "stream",
          "name": "stdout",
          "text": [
            "dodda\n"
          ]
        }
      ]
    },
    {
      "cell_type": "code",
      "source": [
        "def my_country(country = \"india\"):\n",
        "  print( \" I am From \"+ country)\n",
        "my_country(\"sweden\")\n",
        "my_country(\"brazil\")\n",
        "my_country()\n",
        "my_country(\"norway\")"
      ],
      "metadata": {
        "colab": {
          "base_uri": "https://localhost:8080/"
        },
        "id": "7UNXfcUgnhWC",
        "outputId": "cacb7764-6046-44ed-e65d-9139a2bc14db"
      },
      "execution_count": 11,
      "outputs": [
        {
          "output_type": "stream",
          "name": "stdout",
          "text": [
            " I am From sweden\n",
            " I am From brazil\n",
            " I am From india\n",
            " I am From norway\n"
          ]
        }
      ]
    },
    {
      "cell_type": "code",
      "source": [
        "def sum_number(a,b,c):\n",
        "  print(a+b+c)\n",
        "sum_number(3,b=2,c=10)"
      ],
      "metadata": {
        "colab": {
          "base_uri": "https://localhost:8080/"
        },
        "id": "ZHaMVmvnpQL4",
        "outputId": "bb46dd76-ad25-4823-b832-467e17c7a7ed"
      },
      "execution_count": 12,
      "outputs": [
        {
          "output_type": "stream",
          "name": "stdout",
          "text": [
            "15\n"
          ]
        }
      ]
    },
    {
      "cell_type": "code",
      "source": [
        "def sum_number(a,b,c):\n",
        "  print(a+b+c)\n",
        "sum_number(3,a=2,b=10)"
      ],
      "metadata": {
        "colab": {
          "base_uri": "https://localhost:8080/",
          "height": 210
        },
        "id": "BonVCzftp_r1",
        "outputId": "e3f3732f-ee59-4f43-9ca0-23dbe19ac0c6"
      },
      "execution_count": 13,
      "outputs": [
        {
          "output_type": "error",
          "ename": "TypeError",
          "evalue": "ignored",
          "traceback": [
            "\u001b[0;31m---------------------------------------------------------------------------\u001b[0m",
            "\u001b[0;31mTypeError\u001b[0m                                 Traceback (most recent call last)",
            "\u001b[0;32m<ipython-input-13-efc8e05f0de0>\u001b[0m in \u001b[0;36m<cell line: 3>\u001b[0;34m()\u001b[0m\n\u001b[1;32m      1\u001b[0m \u001b[0;32mdef\u001b[0m \u001b[0msum_number\u001b[0m\u001b[0;34m(\u001b[0m\u001b[0ma\u001b[0m\u001b[0;34m,\u001b[0m\u001b[0mb\u001b[0m\u001b[0;34m,\u001b[0m\u001b[0mc\u001b[0m\u001b[0;34m)\u001b[0m\u001b[0;34m:\u001b[0m\u001b[0;34m\u001b[0m\u001b[0;34m\u001b[0m\u001b[0m\n\u001b[1;32m      2\u001b[0m   \u001b[0mprint\u001b[0m\u001b[0;34m(\u001b[0m\u001b[0ma\u001b[0m\u001b[0;34m+\u001b[0m\u001b[0mb\u001b[0m\u001b[0;34m+\u001b[0m\u001b[0mc\u001b[0m\u001b[0;34m)\u001b[0m\u001b[0;34m\u001b[0m\u001b[0;34m\u001b[0m\u001b[0m\n\u001b[0;32m----> 3\u001b[0;31m \u001b[0msum_number\u001b[0m\u001b[0;34m(\u001b[0m\u001b[0;36m3\u001b[0m\u001b[0;34m,\u001b[0m\u001b[0ma\u001b[0m\u001b[0;34m=\u001b[0m\u001b[0;36m2\u001b[0m\u001b[0;34m,\u001b[0m\u001b[0mb\u001b[0m\u001b[0;34m=\u001b[0m\u001b[0;36m10\u001b[0m\u001b[0;34m)\u001b[0m\u001b[0;34m\u001b[0m\u001b[0;34m\u001b[0m\u001b[0m\n\u001b[0m",
            "\u001b[0;31mTypeError\u001b[0m: sum_number() got multiple values for argument 'a'"
          ]
        }
      ]
    },
    {
      "cell_type": "code",
      "source": [
        "def my_food(food):#[\"apple\",\"banana\",\"orange\"]\n",
        "  for x in food:\n",
        "    print(x)\n",
        "fruits = [\"apple\",\"banana\",\"orange\"]\n",
        "my_food(fruits)"
      ],
      "metadata": {
        "colab": {
          "base_uri": "https://localhost:8080/"
        },
        "id": "nk19CU4eqkea",
        "outputId": "77b2a11c-7091-4eed-d762-e69e0038d7d6"
      },
      "execution_count": 14,
      "outputs": [
        {
          "output_type": "stream",
          "name": "stdout",
          "text": [
            "apple\n",
            "banana\n",
            "orange\n"
          ]
        }
      ]
    },
    {
      "cell_type": "code",
      "source": [
        "def my_value(x):\n",
        "  print(x)\n",
        "  return 5*x\n",
        "my_value(5)"
      ],
      "metadata": {
        "colab": {
          "base_uri": "https://localhost:8080/"
        },
        "id": "aUuJFBS0rl18",
        "outputId": "c6eab01f-799a-434b-f9b8-faabaf4d3c31"
      },
      "execution_count": 16,
      "outputs": [
        {
          "output_type": "stream",
          "name": "stdout",
          "text": [
            "5\n"
          ]
        },
        {
          "output_type": "execute_result",
          "data": {
            "text/plain": [
              "25"
            ]
          },
          "metadata": {},
          "execution_count": 16
        }
      ]
    },
    {
      "cell_type": "code",
      "source": [
        "def hello():\n",
        "  pass\n"
      ],
      "metadata": {
        "id": "9SO6sH5bsOUL"
      },
      "execution_count": 17,
      "outputs": []
    },
    {
      "cell_type": "code",
      "source": [
        "# find the maximu of three numbers\n",
        "def find_max(a,b,c):\n",
        "  max_number = max(a,b,c)\n",
        "  return max_number\n",
        "\n",
        "num1 = float(input(\"enter 1st number:\"))\n",
        "num2 = float(input(\"enter 2nd number:\"))\n",
        "num3 = float(input(\"enter 3rd number:\"))\n",
        "\n",
        "maximum = find_max(num1,num2,num3)\n",
        "\n",
        "print(f\"the maximum number is  {maximum} \")"
      ],
      "metadata": {
        "colab": {
          "base_uri": "https://localhost:8080/"
        },
        "id": "ehe1xTOMsm7_",
        "outputId": "4a60e152-8c85-410c-b693-09064177c270"
      },
      "execution_count": 18,
      "outputs": [
        {
          "output_type": "stream",
          "name": "stdout",
          "text": [
            "enter 1st number:5\n",
            "enter 2nd number:3\n",
            "enter 3rd number:6\n",
            "the maximum number is  6.0 \n"
          ]
        }
      ]
    },
    {
      "cell_type": "code",
      "source": [
        "#Factorial number\n",
        "def factorial(n):\n",
        "  if n == 0:\n",
        "    return 1\n",
        "  else:\n",
        "    return n * factorial(n-1)\n",
        "result = factorial(5)\n",
        "print(result)\n"
      ],
      "metadata": {
        "colab": {
          "base_uri": "https://localhost:8080/"
        },
        "id": "utsd6oF1ucBk",
        "outputId": "30b4e2a8-569e-4e8f-9932-9fa15149fac5"
      },
      "execution_count": 19,
      "outputs": [
        {
          "output_type": "stream",
          "name": "stdout",
          "text": [
            "120\n"
          ]
        }
      ]
    },
    {
      "cell_type": "code",
      "source": [
        "#Factorial number\n",
        "def factorial(n):\n",
        "  if n == 0:\n",
        "    return 1\n",
        "  else:\n",
        "    return n * factorial(n-1)\n",
        "for i in range(1,6):\n",
        "  result = factorial(i)\n",
        "  print(f\"factorial of {i}  is {result}\")\n"
      ],
      "metadata": {
        "colab": {
          "base_uri": "https://localhost:8080/"
        },
        "id": "0ThZ4KUQwFik",
        "outputId": "1dd2bf1a-19e4-40f1-bbd8-7c872d534acd"
      },
      "execution_count": 20,
      "outputs": [
        {
          "output_type": "stream",
          "name": "stdout",
          "text": [
            "factorial of 1  is 1\n",
            "factorial of 2  is 2\n",
            "factorial of 3  is 6\n",
            "factorial of 4  is 24\n",
            "factorial of 5  is 120\n"
          ]
        }
      ]
    },
    {
      "cell_type": "code",
      "source": [
        "def pattren(item):#[2,3,6,5]\n",
        "  for n in item:\n",
        "    output = \" \"\n",
        "    times = n#2\n",
        "    while(times>0):#2\n",
        "      output += \"@\"# output = output +\"@\"   @@\n",
        "      times = times - 1\n",
        "    print(output)\n",
        "pattren([2,3,6,5])"
      ],
      "metadata": {
        "colab": {
          "base_uri": "https://localhost:8080/"
        },
        "id": "oLRjrNHbwkPb",
        "outputId": "7f41063a-9a22-4eef-c7b8-c298b42027a4"
      },
      "execution_count": 21,
      "outputs": [
        {
          "output_type": "stream",
          "name": "stdout",
          "text": [
            " @@\n",
            " @@@\n",
            " @@@@@@\n",
            " @@@@@\n"
          ]
        }
      ]
    },
    {
      "cell_type": "code",
      "source": [
        "#write a python program to find the total number of even or odd divisors of a given Integer\n",
        "from IPython.terminal.interactiveshell import Integer\n",
        "n = inter\n",
        "0 to n\n",
        "n%n\n",
        "\n",
        "\n",
        "15 = 1,3,5,15(1to 15)#4\n",
        "n%i = 0\n",
        "\n",
        "\n"
      ],
      "metadata": {
        "id": "cARqG4El1Wim"
      },
      "execution_count": null,
      "outputs": []
    }
  ]
}